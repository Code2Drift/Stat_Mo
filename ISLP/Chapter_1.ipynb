{
 "cells": [
  {
   "cell_type": "code",
   "execution_count": 2,
   "metadata": {
    "collapsed": true
   },
   "outputs": [],
   "source": [
    "import os\n",
    "\n",
    "## Dependencies\n",
    "\n",
    "import numpy as np\n",
    "import pandas as pd\n",
    "import matplotlib.pyplot as plt\n",
    "import seaborn as sns\n",
    "from copy import deepcopy\n",
    "#from ISLP import load_data\n",
    "import sklearn\n",
    "from sklearn.preprocessing import PolynomialFeatures\n",
    "from sklearn.linear_model import LinearRegression\n",
    "from scipy import stats\n",
    "import statsmodels.formula.api as smf\n",
    "import statsmodels.api as sm\n",
    "from statsmodels.stats.outliers_influence \\\n",
    "import variance_inflation_factor as VIF\n",
    "from statsmodels.stats.anova import anova_lm\n",
    "from sklearn.model_selection import train_test_split"
   ]
  },
  {
   "cell_type": "markdown",
   "source": [
    "### Wage Dataset - for 1.1 and Chapter 3\n",
    "\n",
    "\n",
    "\n",
    "*   wage increases by approximately 10k in almost linear way between 2003-2009\n",
    "*   Wage are greater for individuals with higher level of education\n",
    "*   Clearly prediction of wage can be based on age, education & year\n",
    "*   Chapter 3 will dive deeper into prediction wage based on their features with linear regression\n",
    "\n",
    "*   Ideally, wage should be predicted that accounts for non-linear relationship between age & wage"
   ],
   "metadata": {
    "collapsed": false
   }
  },
  {
   "cell_type": "code",
   "execution_count": 6,
   "outputs": [
    {
     "data": {
      "text/plain": "   year  age            maritl      race        education              region  \\\n0  2006   18  1. Never Married  1. White     1. < HS Grad  2. Middle Atlantic   \n1  2004   24  1. Never Married  1. White  4. College Grad  2. Middle Atlantic   \n2  2003   45        2. Married  1. White  3. Some College  2. Middle Atlantic   \n3  2003   43        2. Married  3. Asian  4. College Grad  2. Middle Atlantic   \n4  2005   50       4. Divorced  1. White       2. HS Grad  2. Middle Atlantic   \n\n         jobclass          health health_ins   logwage        wage  \n0   1. Industrial       1. <=Good      2. No  4.318063   75.043154  \n1  2. Information  2. >=Very Good      2. No  4.255273   70.476020  \n2   1. Industrial       1. <=Good     1. Yes  4.875061  130.982177  \n3  2. Information  2. >=Very Good     1. Yes  5.041393  154.685293  \n4  2. Information       1. <=Good     1. Yes  4.318063   75.043154  ",
      "text/html": "<div>\n<style scoped>\n    .dataframe tbody tr th:only-of-type {\n        vertical-align: middle;\n    }\n\n    .dataframe tbody tr th {\n        vertical-align: top;\n    }\n\n    .dataframe thead th {\n        text-align: right;\n    }\n</style>\n<table border=\"1\" class=\"dataframe\">\n  <thead>\n    <tr style=\"text-align: right;\">\n      <th></th>\n      <th>year</th>\n      <th>age</th>\n      <th>maritl</th>\n      <th>race</th>\n      <th>education</th>\n      <th>region</th>\n      <th>jobclass</th>\n      <th>health</th>\n      <th>health_ins</th>\n      <th>logwage</th>\n      <th>wage</th>\n    </tr>\n  </thead>\n  <tbody>\n    <tr>\n      <th>0</th>\n      <td>2006</td>\n      <td>18</td>\n      <td>1. Never Married</td>\n      <td>1. White</td>\n      <td>1. &lt; HS Grad</td>\n      <td>2. Middle Atlantic</td>\n      <td>1. Industrial</td>\n      <td>1. &lt;=Good</td>\n      <td>2. No</td>\n      <td>4.318063</td>\n      <td>75.043154</td>\n    </tr>\n    <tr>\n      <th>1</th>\n      <td>2004</td>\n      <td>24</td>\n      <td>1. Never Married</td>\n      <td>1. White</td>\n      <td>4. College Grad</td>\n      <td>2. Middle Atlantic</td>\n      <td>2. Information</td>\n      <td>2. &gt;=Very Good</td>\n      <td>2. No</td>\n      <td>4.255273</td>\n      <td>70.476020</td>\n    </tr>\n    <tr>\n      <th>2</th>\n      <td>2003</td>\n      <td>45</td>\n      <td>2. Married</td>\n      <td>1. White</td>\n      <td>3. Some College</td>\n      <td>2. Middle Atlantic</td>\n      <td>1. Industrial</td>\n      <td>1. &lt;=Good</td>\n      <td>1. Yes</td>\n      <td>4.875061</td>\n      <td>130.982177</td>\n    </tr>\n    <tr>\n      <th>3</th>\n      <td>2003</td>\n      <td>43</td>\n      <td>2. Married</td>\n      <td>3. Asian</td>\n      <td>4. College Grad</td>\n      <td>2. Middle Atlantic</td>\n      <td>2. Information</td>\n      <td>2. &gt;=Very Good</td>\n      <td>1. Yes</td>\n      <td>5.041393</td>\n      <td>154.685293</td>\n    </tr>\n    <tr>\n      <th>4</th>\n      <td>2005</td>\n      <td>50</td>\n      <td>4. Divorced</td>\n      <td>1. White</td>\n      <td>2. HS Grad</td>\n      <td>2. Middle Atlantic</td>\n      <td>2. Information</td>\n      <td>1. &lt;=Good</td>\n      <td>1. Yes</td>\n      <td>4.318063</td>\n      <td>75.043154</td>\n    </tr>\n  </tbody>\n</table>\n</div>"
     },
     "execution_count": 6,
     "metadata": {},
     "output_type": "execute_result"
    }
   ],
   "source": [
    "wage_df = pd.read_csv(\"..\\Dataset\\Wage.csv\")\n",
    "wage_df.head()"
   ],
   "metadata": {
    "collapsed": false
   }
  },
  {
   "cell_type": "code",
   "execution_count": null,
   "outputs": [],
   "source": [],
   "metadata": {
    "collapsed": false
   }
  },
  {
   "cell_type": "markdown",
   "source": [],
   "metadata": {
    "collapsed": false
   }
  }
 ],
 "metadata": {
  "kernelspec": {
   "display_name": "Python 3",
   "language": "python",
   "name": "python3"
  },
  "language_info": {
   "codemirror_mode": {
    "name": "ipython",
    "version": 2
   },
   "file_extension": ".py",
   "mimetype": "text/x-python",
   "name": "python",
   "nbconvert_exporter": "python",
   "pygments_lexer": "ipython2",
   "version": "2.7.6"
  }
 },
 "nbformat": 4,
 "nbformat_minor": 0
}
