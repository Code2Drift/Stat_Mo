{
 "nbformat": 4,
 "nbformat_minor": 0,
 "metadata": {
  "colab": {
   "provenance": []
  },
  "kernelspec": {
   "name": "python3",
   "display_name": "Python 3"
  },
  "language_info": {
   "name": "python"
  }
 },
 "cells": [
  {
   "cell_type": "markdown",
   "source": [
    "# Refresh Statistic"
   ],
   "metadata": {
    "id": "xGSQ204--8vB"
   }
  },
  {
   "cell_type": "markdown",
   "source": [
    "Angewandte Statistik - David Meintrup - zu wiederholen\n",
    "\n",
    "1) **1.1 bis 1.2 Einleitung daten & skalen**\n",
    "- Stetig vs diskrete (done)\n",
    "\n",
    "2) **1.3 - 1.5 Grapische Darstellung, Heatmaps & karten**\n",
    "- Streudiagramm\n",
    "\n",
    "3) **2.1 - 2.5 Deskriptive Statistik**\n",
    "- Lagenmasße\n",
    "- Streumaße\n",
    "- Boxplot\n",
    "\n",
    "4) **2.6: Kovarianz & Korrelation ; 4. Konkrete Verteilungen ; 5.5 QUantile Diagramm und Normalität**\n",
    "- Normalverteilung\n",
    "- Korrelation\n",
    "- Quantile\n",
    "\n",
    "5) **6: Testen statistischer Hypothese**\n",
    "- H0 / H1\n",
    "- Alpha / Beta Fehler\n",
    "- Konfusionsmatrix\n",
    "\n",
    "6) **7.1-7.3: Hypothesentest für eine Stichproben**\n",
    "\n",
    "7) **8.1 - 8.4: Hypothesentest für zwei Stichproben**\n",
    "\n",
    "8) **10.1-10.3: Hypothesentest für mehr als zwei Stitchproben**\n",
    "- Post-hoc\n",
    "- ANNOVA\n",
    "\n",
    "9) **11.1-11.4: Einfaktorielle Modell**\n",
    "- X^2 Test\n",
    "- Lineare Regression\n",
    "- Least Square\n",
    "- Logistische Regression\n",
    "\n",
    "\n",
    "\n",
    "\n",
    "\n",
    "\n",
    "\n",
    "\n"
   ],
   "metadata": {
    "id": "ALy3D08Y_Bn0"
   }
  },
  {
   "cell_type": "markdown",
   "source": [
    "## Statistik Wiederholung"
   ],
   "metadata": {
    "id": "Uc8jTCKNoNvj"
   }
  },
  {
   "cell_type": "code",
   "source": [
    "path = r\"/content/diamonds.csv\"\n",
    "df_read = pd.read_csv(path)\n",
    "real_df = deepcopy(df_read)\n",
    "\n",
    "col_name = real_df.columns[0]\n",
    "real_df = real_df.rename(columns={col_name:\"index\"})\n",
    "real_df.drop(\"index\", axis=1)\n",
    "real_df.head(3)"
   ],
   "metadata": {
    "id": "NQZIcbCvoS0h",
    "colab": {
     "base_uri": "https://localhost:8080/",
     "height": 373
    },
    "outputId": "321d4f0d-50b2-4203-ebd1-72fc15f50aff"
   },
   "execution_count": null,
   "outputs": [
    {
     "output_type": "error",
     "ename": "FileNotFoundError",
     "evalue": "[Errno 2] No such file or directory: '/content/diamonds.csv'",
     "traceback": [
      "\u001B[0;31m---------------------------------------------------------------------------\u001B[0m",
      "\u001B[0;31mFileNotFoundError\u001B[0m                         Traceback (most recent call last)",
      "\u001B[0;32m<ipython-input-85-2f2384de279c>\u001B[0m in \u001B[0;36m<cell line: 2>\u001B[0;34m()\u001B[0m\n\u001B[1;32m      1\u001B[0m \u001B[0mpath\u001B[0m \u001B[0;34m=\u001B[0m \u001B[0;34mr\"/content/diamonds.csv\"\u001B[0m\u001B[0;34m\u001B[0m\u001B[0;34m\u001B[0m\u001B[0m\n\u001B[0;32m----> 2\u001B[0;31m \u001B[0mdf_read\u001B[0m \u001B[0;34m=\u001B[0m \u001B[0mpd\u001B[0m\u001B[0;34m.\u001B[0m\u001B[0mread_csv\u001B[0m\u001B[0;34m(\u001B[0m\u001B[0mpath\u001B[0m\u001B[0;34m)\u001B[0m\u001B[0;34m\u001B[0m\u001B[0;34m\u001B[0m\u001B[0m\n\u001B[0m\u001B[1;32m      3\u001B[0m \u001B[0mreal_df\u001B[0m \u001B[0;34m=\u001B[0m \u001B[0mdeepcopy\u001B[0m\u001B[0;34m(\u001B[0m\u001B[0mdf_read\u001B[0m\u001B[0;34m)\u001B[0m\u001B[0;34m\u001B[0m\u001B[0;34m\u001B[0m\u001B[0m\n\u001B[1;32m      4\u001B[0m \u001B[0;34m\u001B[0m\u001B[0m\n\u001B[1;32m      5\u001B[0m \u001B[0mcol_name\u001B[0m \u001B[0;34m=\u001B[0m \u001B[0mreal_df\u001B[0m\u001B[0;34m.\u001B[0m\u001B[0mcolumns\u001B[0m\u001B[0;34m[\u001B[0m\u001B[0;36m0\u001B[0m\u001B[0;34m]\u001B[0m\u001B[0;34m\u001B[0m\u001B[0;34m\u001B[0m\u001B[0m\n",
      "\u001B[0;32m/usr/local/lib/python3.10/dist-packages/pandas/io/parsers/readers.py\u001B[0m in \u001B[0;36mread_csv\u001B[0;34m(filepath_or_buffer, sep, delimiter, header, names, index_col, usecols, dtype, engine, converters, true_values, false_values, skipinitialspace, skiprows, skipfooter, nrows, na_values, keep_default_na, na_filter, verbose, skip_blank_lines, parse_dates, infer_datetime_format, keep_date_col, date_parser, date_format, dayfirst, cache_dates, iterator, chunksize, compression, thousands, decimal, lineterminator, quotechar, quoting, doublequote, escapechar, comment, encoding, encoding_errors, dialect, on_bad_lines, delim_whitespace, low_memory, memory_map, float_precision, storage_options, dtype_backend)\u001B[0m\n\u001B[1;32m    910\u001B[0m     \u001B[0mkwds\u001B[0m\u001B[0;34m.\u001B[0m\u001B[0mupdate\u001B[0m\u001B[0;34m(\u001B[0m\u001B[0mkwds_defaults\u001B[0m\u001B[0;34m)\u001B[0m\u001B[0;34m\u001B[0m\u001B[0;34m\u001B[0m\u001B[0m\n\u001B[1;32m    911\u001B[0m \u001B[0;34m\u001B[0m\u001B[0m\n\u001B[0;32m--> 912\u001B[0;31m     \u001B[0;32mreturn\u001B[0m \u001B[0m_read\u001B[0m\u001B[0;34m(\u001B[0m\u001B[0mfilepath_or_buffer\u001B[0m\u001B[0;34m,\u001B[0m \u001B[0mkwds\u001B[0m\u001B[0;34m)\u001B[0m\u001B[0;34m\u001B[0m\u001B[0;34m\u001B[0m\u001B[0m\n\u001B[0m\u001B[1;32m    913\u001B[0m \u001B[0;34m\u001B[0m\u001B[0m\n\u001B[1;32m    914\u001B[0m \u001B[0;34m\u001B[0m\u001B[0m\n",
      "\u001B[0;32m/usr/local/lib/python3.10/dist-packages/pandas/io/parsers/readers.py\u001B[0m in \u001B[0;36m_read\u001B[0;34m(filepath_or_buffer, kwds)\u001B[0m\n\u001B[1;32m    575\u001B[0m \u001B[0;34m\u001B[0m\u001B[0m\n\u001B[1;32m    576\u001B[0m     \u001B[0;31m# Create the parser.\u001B[0m\u001B[0;34m\u001B[0m\u001B[0;34m\u001B[0m\u001B[0m\n\u001B[0;32m--> 577\u001B[0;31m     \u001B[0mparser\u001B[0m \u001B[0;34m=\u001B[0m \u001B[0mTextFileReader\u001B[0m\u001B[0;34m(\u001B[0m\u001B[0mfilepath_or_buffer\u001B[0m\u001B[0;34m,\u001B[0m \u001B[0;34m**\u001B[0m\u001B[0mkwds\u001B[0m\u001B[0;34m)\u001B[0m\u001B[0;34m\u001B[0m\u001B[0;34m\u001B[0m\u001B[0m\n\u001B[0m\u001B[1;32m    578\u001B[0m \u001B[0;34m\u001B[0m\u001B[0m\n\u001B[1;32m    579\u001B[0m     \u001B[0;32mif\u001B[0m \u001B[0mchunksize\u001B[0m \u001B[0;32mor\u001B[0m \u001B[0miterator\u001B[0m\u001B[0;34m:\u001B[0m\u001B[0;34m\u001B[0m\u001B[0;34m\u001B[0m\u001B[0m\n",
      "\u001B[0;32m/usr/local/lib/python3.10/dist-packages/pandas/io/parsers/readers.py\u001B[0m in \u001B[0;36m__init__\u001B[0;34m(self, f, engine, **kwds)\u001B[0m\n\u001B[1;32m   1405\u001B[0m \u001B[0;34m\u001B[0m\u001B[0m\n\u001B[1;32m   1406\u001B[0m         \u001B[0mself\u001B[0m\u001B[0;34m.\u001B[0m\u001B[0mhandles\u001B[0m\u001B[0;34m:\u001B[0m \u001B[0mIOHandles\u001B[0m \u001B[0;34m|\u001B[0m \u001B[0;32mNone\u001B[0m \u001B[0;34m=\u001B[0m \u001B[0;32mNone\u001B[0m\u001B[0;34m\u001B[0m\u001B[0;34m\u001B[0m\u001B[0m\n\u001B[0;32m-> 1407\u001B[0;31m         \u001B[0mself\u001B[0m\u001B[0;34m.\u001B[0m\u001B[0m_engine\u001B[0m \u001B[0;34m=\u001B[0m \u001B[0mself\u001B[0m\u001B[0;34m.\u001B[0m\u001B[0m_make_engine\u001B[0m\u001B[0;34m(\u001B[0m\u001B[0mf\u001B[0m\u001B[0;34m,\u001B[0m \u001B[0mself\u001B[0m\u001B[0;34m.\u001B[0m\u001B[0mengine\u001B[0m\u001B[0;34m)\u001B[0m\u001B[0;34m\u001B[0m\u001B[0;34m\u001B[0m\u001B[0m\n\u001B[0m\u001B[1;32m   1408\u001B[0m \u001B[0;34m\u001B[0m\u001B[0m\n\u001B[1;32m   1409\u001B[0m     \u001B[0;32mdef\u001B[0m \u001B[0mclose\u001B[0m\u001B[0;34m(\u001B[0m\u001B[0mself\u001B[0m\u001B[0;34m)\u001B[0m \u001B[0;34m->\u001B[0m \u001B[0;32mNone\u001B[0m\u001B[0;34m:\u001B[0m\u001B[0;34m\u001B[0m\u001B[0;34m\u001B[0m\u001B[0m\n",
      "\u001B[0;32m/usr/local/lib/python3.10/dist-packages/pandas/io/parsers/readers.py\u001B[0m in \u001B[0;36m_make_engine\u001B[0;34m(self, f, engine)\u001B[0m\n\u001B[1;32m   1659\u001B[0m                 \u001B[0;32mif\u001B[0m \u001B[0;34m\"b\"\u001B[0m \u001B[0;32mnot\u001B[0m \u001B[0;32min\u001B[0m \u001B[0mmode\u001B[0m\u001B[0;34m:\u001B[0m\u001B[0;34m\u001B[0m\u001B[0;34m\u001B[0m\u001B[0m\n\u001B[1;32m   1660\u001B[0m                     \u001B[0mmode\u001B[0m \u001B[0;34m+=\u001B[0m \u001B[0;34m\"b\"\u001B[0m\u001B[0;34m\u001B[0m\u001B[0;34m\u001B[0m\u001B[0m\n\u001B[0;32m-> 1661\u001B[0;31m             self.handles = get_handle(\n\u001B[0m\u001B[1;32m   1662\u001B[0m                 \u001B[0mf\u001B[0m\u001B[0;34m,\u001B[0m\u001B[0;34m\u001B[0m\u001B[0;34m\u001B[0m\u001B[0m\n\u001B[1;32m   1663\u001B[0m                 \u001B[0mmode\u001B[0m\u001B[0;34m,\u001B[0m\u001B[0;34m\u001B[0m\u001B[0;34m\u001B[0m\u001B[0m\n",
      "\u001B[0;32m/usr/local/lib/python3.10/dist-packages/pandas/io/common.py\u001B[0m in \u001B[0;36mget_handle\u001B[0;34m(path_or_buf, mode, encoding, compression, memory_map, is_text, errors, storage_options)\u001B[0m\n\u001B[1;32m    857\u001B[0m         \u001B[0;32mif\u001B[0m \u001B[0mioargs\u001B[0m\u001B[0;34m.\u001B[0m\u001B[0mencoding\u001B[0m \u001B[0;32mand\u001B[0m \u001B[0;34m\"b\"\u001B[0m \u001B[0;32mnot\u001B[0m \u001B[0;32min\u001B[0m \u001B[0mioargs\u001B[0m\u001B[0;34m.\u001B[0m\u001B[0mmode\u001B[0m\u001B[0;34m:\u001B[0m\u001B[0;34m\u001B[0m\u001B[0;34m\u001B[0m\u001B[0m\n\u001B[1;32m    858\u001B[0m             \u001B[0;31m# Encoding\u001B[0m\u001B[0;34m\u001B[0m\u001B[0;34m\u001B[0m\u001B[0m\n\u001B[0;32m--> 859\u001B[0;31m             handle = open(\n\u001B[0m\u001B[1;32m    860\u001B[0m                 \u001B[0mhandle\u001B[0m\u001B[0;34m,\u001B[0m\u001B[0;34m\u001B[0m\u001B[0;34m\u001B[0m\u001B[0m\n\u001B[1;32m    861\u001B[0m                 \u001B[0mioargs\u001B[0m\u001B[0;34m.\u001B[0m\u001B[0mmode\u001B[0m\u001B[0;34m,\u001B[0m\u001B[0;34m\u001B[0m\u001B[0;34m\u001B[0m\u001B[0m\n",
      "\u001B[0;31mFileNotFoundError\u001B[0m: [Errno 2] No such file or directory: '/content/diamonds.csv'"
     ]
    }
   ]
  },
  {
   "cell_type": "code",
   "source": [
    "num_df = real_df.select_dtypes(include=np.number) #.columns.to_list()\n",
    "num_df.drop(\"index\", axis=1)\n",
    "num_df.head(3)"
   ],
   "metadata": {
    "id": "-1uCvasCHoLF",
    "colab": {
     "base_uri": "https://localhost:8080/",
     "height": 176
    },
    "outputId": "840ffe6c-067d-4c59-8bad-63505fc2e1ce"
   },
   "execution_count": null,
   "outputs": [
    {
     "output_type": "error",
     "ename": "NameError",
     "evalue": "name 'real_df' is not defined",
     "traceback": [
      "\u001B[0;31m---------------------------------------------------------------------------\u001B[0m",
      "\u001B[0;31mNameError\u001B[0m                                 Traceback (most recent call last)",
      "\u001B[0;32m<ipython-input-86-4d15683af4cd>\u001B[0m in \u001B[0;36m<cell line: 1>\u001B[0;34m()\u001B[0m\n\u001B[0;32m----> 1\u001B[0;31m \u001B[0mnum_df\u001B[0m \u001B[0;34m=\u001B[0m \u001B[0mreal_df\u001B[0m\u001B[0;34m.\u001B[0m\u001B[0mselect_dtypes\u001B[0m\u001B[0;34m(\u001B[0m\u001B[0minclude\u001B[0m\u001B[0;34m=\u001B[0m\u001B[0mnp\u001B[0m\u001B[0;34m.\u001B[0m\u001B[0mnumber\u001B[0m\u001B[0;34m)\u001B[0m \u001B[0;31m#.columns.to_list()\u001B[0m\u001B[0;34m\u001B[0m\u001B[0;34m\u001B[0m\u001B[0m\n\u001B[0m\u001B[1;32m      2\u001B[0m \u001B[0mnum_df\u001B[0m\u001B[0;34m.\u001B[0m\u001B[0mdrop\u001B[0m\u001B[0;34m(\u001B[0m\u001B[0;34m\"index\"\u001B[0m\u001B[0;34m,\u001B[0m \u001B[0maxis\u001B[0m\u001B[0;34m=\u001B[0m\u001B[0;36m1\u001B[0m\u001B[0;34m)\u001B[0m\u001B[0;34m\u001B[0m\u001B[0;34m\u001B[0m\u001B[0m\n\u001B[1;32m      3\u001B[0m \u001B[0mnum_df\u001B[0m\u001B[0;34m.\u001B[0m\u001B[0mhead\u001B[0m\u001B[0;34m(\u001B[0m\u001B[0;36m3\u001B[0m\u001B[0;34m)\u001B[0m\u001B[0;34m\u001B[0m\u001B[0;34m\u001B[0m\u001B[0m\n",
      "\u001B[0;31mNameError\u001B[0m: name 'real_df' is not defined"
     ]
    }
   ]
  },
  {
   "cell_type": "code",
   "source": [
    "cat_df = real_df.select_dtypes(exclude=np.number)\n",
    "cat_df"
   ],
   "metadata": {
    "id": "EqxlGtS9KxWO"
   },
   "execution_count": null,
   "outputs": []
  },
  {
   "cell_type": "code",
   "source": [
    "for col in num_df.columns[1:]:\n",
    "  real_df[col].plot(kind=\"hist\", density=False, bins=50, title=f\"plot of {col}\")\n",
    "  plt.xlabel(f\"{col}\")\n",
    "  plt.ylabel(\"probability\")\n",
    "  plt.show()"
   ],
   "metadata": {
    "id": "pZg7AzNKHQx1"
   },
   "execution_count": null,
   "outputs": []
  },
  {
   "cell_type": "code",
   "source": [
    "clar = cat_df.columns[2]"
   ],
   "metadata": {
    "id": "WpPrOX8RLEHw",
    "colab": {
     "base_uri": "https://localhost:8080/",
     "height": 141
    },
    "outputId": "d6767897-bae9-4421-c17b-75726c35583e"
   },
   "execution_count": null,
   "outputs": [
    {
     "output_type": "error",
     "ename": "NameError",
     "evalue": "name 'cat_df' is not defined",
     "traceback": [
      "\u001B[0;31m---------------------------------------------------------------------------\u001B[0m",
      "\u001B[0;31mNameError\u001B[0m                                 Traceback (most recent call last)",
      "\u001B[0;32m<ipython-input-87-c58292740f71>\u001B[0m in \u001B[0;36m<cell line: 1>\u001B[0;34m()\u001B[0m\n\u001B[0;32m----> 1\u001B[0;31m \u001B[0mclar\u001B[0m \u001B[0;34m=\u001B[0m \u001B[0mcat_df\u001B[0m\u001B[0;34m.\u001B[0m\u001B[0mcolumns\u001B[0m\u001B[0;34m[\u001B[0m\u001B[0;36m2\u001B[0m\u001B[0;34m]\u001B[0m\u001B[0;34m\u001B[0m\u001B[0;34m\u001B[0m\u001B[0m\n\u001B[0m",
      "\u001B[0;31mNameError\u001B[0m: name 'cat_df' is not defined"
     ]
    }
   ]
  },
  {
   "cell_type": "code",
   "source": [
    "real_df.boxplot(column=\"price\", by=clar)"
   ],
   "metadata": {
    "id": "KQcFVFpGKL_q"
   },
   "execution_count": null,
   "outputs": []
  },
  {
   "cell_type": "code",
   "source": [
    "for col in num_df.columns[1:]:\n",
    "  real_df[col].plot(kind=\"kde\", title=f\"plot of {col}\")\n",
    "  plt.xlabel(f\"{col}\")\n",
    "  plt.ylabel(\"probability\")\n",
    "  plt.show()"
   ],
   "metadata": {
    "id": "zo_lbEa3LbXK"
   },
   "execution_count": null,
   "outputs": []
  },
  {
   "cell_type": "code",
   "source": [
    "carat_table = pd.crosstab(index=real_df[\"clarity\"], columns=\"count\", dropna=True)\n",
    "carat_table"
   ],
   "metadata": {
    "id": "kx4zgiDTMLm4"
   },
   "execution_count": null,
   "outputs": []
  },
  {
   "cell_type": "code",
   "source": [
    "carat_table.plot(kind=\"bar\", title=\"Counts of carat by its clarity\")\n",
    "#plt.legend()"
   ],
   "metadata": {
    "id": "JgsHpZcmMofX"
   },
   "execution_count": null,
   "outputs": []
  },
  {
   "cell_type": "code",
   "source": [
    "caraty_table = pd.crosstab(index=real_df[\"clarity\"], columns=real_df[\"color\"])\n",
    "caraty_table"
   ],
   "metadata": {
    "id": "awjvlBlyNYot"
   },
   "execution_count": null,
   "outputs": []
  },
  {
   "cell_type": "code",
   "source": [
    "caraty_table.plot(kind=\"bar\", stacked=False, figsize=(8,6))"
   ],
   "metadata": {
    "id": "jsyHHcYoN8kt"
   },
   "execution_count": null,
   "outputs": []
  },
  {
   "cell_type": "code",
   "source": [
    "num_df.plot(kind=\"scatter\", x=\"carat\", y=\"price\", alpha=0.7)"
   ],
   "metadata": {
    "id": "_frdUUwyOSWc"
   },
   "execution_count": null,
   "outputs": []
  },
  {
   "cell_type": "code",
   "source": [
    "for cols in cat_df.columns:\n",
    "  sns.scatterplot(x=\"carat\", y=\"price\", alpha=0.7, hue=cols, data=real_df)\n",
    "  plt.show()"
   ],
   "metadata": {
    "id": "wPRIdsnmO7Uv"
   },
   "execution_count": null,
   "outputs": []
  },
  {
   "cell_type": "code",
   "source": [
    "num_df.head(3)"
   ],
   "metadata": {
    "id": "kaRHoBzOSBBy"
   },
   "execution_count": null,
   "outputs": []
  },
  {
   "cell_type": "code",
   "source": [
    "corelation_num = num_df.corr()\n",
    "corr_price = corelation_num[\"price\"].sort_values(ascending=False)\n",
    "corr_price = round(corr_price,2)\n",
    "\n",
    "ax = corr_price[1:].plot(kind=\"bar\", stacked=False)\n",
    "\n",
    "# Annotate the height of each bar\n",
    "for container in ax.containers:\n",
    "    ax.bar_label(container)\n",
    "    ax.set_ylim(-1,1)"
   ],
   "metadata": {
    "id": "hC46BcOPQ8me"
   },
   "execution_count": null,
   "outputs": []
  },
  {
   "cell_type": "markdown",
   "source": [
    "# Actual class"
   ],
   "metadata": {
    "id": "MSmLLNQ_KO3u"
   }
  },
  {
   "cell_type": "markdown",
   "source": [
    "Dependencies & Common Functions"
   ],
   "metadata": {
    "id": "LDsmp-yZhv-5"
   }
  },
  {
   "cell_type": "code",
   "source": [
    "import numpy as np\n",
    "import pandas as pd\n",
    "import matplotlib.pyplot as plt\n",
    "import seaborn as sns\n",
    "from copy import deepcopy\n",
    "#from ISLP import load_data\n",
    "import sklearn\n",
    "from sklearn.preprocessing import PolynomialFeatures\n",
    "from sklearn.linear_model import LinearRegression\n",
    "from scipy import stats\n",
    "import statsmodels.formula.api as smf\n",
    "import statsmodels.api as sm\n",
    "from statsmodels.stats.outliers_influence \\\n",
    "import variance_inflation_factor as VIF\n",
    "from statsmodels.stats.anova import anova_lm\n",
    "from sklearn.model_selection import train_test_split\n",
    "\n",
    "def split_input_output(data, output_cols):\n",
    "  input = data.drop(columns=output_cols)\n",
    "  output = data[output_cols]\n",
    "\n",
    "  print(f\"Input data has: {input.shape} shape\")\n",
    "  print(f\"Output data has: {output.shape} shape\")\n",
    "  return input, output"
   ],
   "metadata": {
    "id": "bRrdCcvhk_TU"
   },
   "execution_count": null,
   "outputs": []
  },
  {
   "cell_type": "markdown",
   "source": [
    "List of datasets:\n",
    "\n",
    "full dataset list can be found here: https://github.com/qx0731/Sharing_ISL_python?tab=readme-ov-file#isl_python\n"
   ],
   "metadata": {
    "id": "N8eM95uxxElE"
   }
  },
  {
   "cell_type": "markdown",
   "source": [
    "![image.png](data:image/png;base64,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)"
   ],
   "metadata": {
    "id": "8xkj3Y-huIBV"
   }
  },
  {
   "cell_type": "code",
   "source": [
    "# test dataset\n",
    "test_df = load_data('USArrest')\n",
    "print(type(test_df)); print(\" \")\n",
    "test_df.keys()"
   ],
   "metadata": {
    "id": "E77xARyZxF-6"
   },
   "execution_count": null,
   "outputs": []
  },
  {
   "cell_type": "code",
   "source": [
    "from statsmodels.datasets import get_rdataset\n",
    "USArrests = get_rdataset('USArrests').data"
   ],
   "metadata": {
    "id": "lqDxWKK62sU3"
   },
   "execution_count": null,
   "outputs": []
  },
  {
   "cell_type": "markdown",
   "source": [
    "## all req statistfied"
   ],
   "metadata": {
    "id": "pHeV8PLpOh8V"
   }
  },
  {
   "cell_type": "code",
   "source": [
    "# example load data\n",
    "from ISLP import load_data\n",
    "\n",
    "new_df = load_data(\"Wage\")\n",
    "new_df.head(3)"
   ],
   "metadata": {
    "id": "DZlUcrcTOsa_"
   },
   "execution_count": null,
   "outputs": []
  },
  {
   "cell_type": "markdown",
   "source": [
    "## Chapter 1: Intro & Datasets\n",
    "---"
   ],
   "metadata": {
    "id": "XgR9rorUxQuw"
   }
  },
  {
   "cell_type": "markdown",
   "source": [
    "### Wage Dataset - for 1.1 and Chapter 3\n",
    "\n",
    "\n",
    "\n",
    "*   wage increases by approximately 10k in almost linear way between 2003-2009\n",
    "*   Wage are greater for individuals with higher level of education\n",
    "*   Clearly prediction of wage can be based on age, education & year\n",
    "*   Chapter 3 will dive deeper into prediction wage based on their features with linear regression\n",
    "\n",
    "*   Ideally, wage should be predicted that accounts for non-linear relationship between age & wage"
   ],
   "metadata": {
    "id": "FK93QCeuxlw6"
   }
  },
  {
   "cell_type": "code",
   "source": [
    "real_df = pd.read_csv(\"/content/Wage.csv\")\n",
    "new_df = deepcopy(real_df)\n",
    "new_df.head(3)"
   ],
   "metadata": {
    "id": "ZFbZdplGx1oM"
   },
   "execution_count": null,
   "outputs": []
  },
  {
   "cell_type": "code",
   "source": [
    "num_df = new_df.select_dtypes(include=np.number)\n",
    "new_df['education'].value_counts()"
   ],
   "metadata": {
    "id": "6xqfJsUAx5pV"
   },
   "execution_count": null,
   "outputs": []
  },
  {
   "cell_type": "code",
   "source": [
    "new_df.boxplot(column=\"wage\", by=\"education\", rot=45)\n",
    "plt.figure(figsize=(8,6))\n",
    "plt.show()"
   ],
   "metadata": {
    "id": "7Jsuqonvx8ak"
   },
   "execution_count": null,
   "outputs": []
  },
  {
   "cell_type": "code",
   "source": [
    "from sklearn.linear_model import LinearRegression\n",
    "X = new_df[\"age\"].values.reshape(-1,1)  # iloc[:, 1] is the column of X\n",
    "Y = new_df[\"wage\"].values.reshape(-1,1)  # iloc[:, 1] is the column of X\n",
    "linear_regressor = LinearRegression()\n",
    "linear_regressor.fit(X, Y)\n",
    "Y_pred = linear_regressor.predict(X)\n",
    "\n",
    "plt.scatter(X, Y)\n",
    "plt.plot(X, Y_pred, color='red')\n",
    "plt.show()"
   ],
   "metadata": {
    "id": "OuWV0ocOx_2u"
   },
   "execution_count": null,
   "outputs": []
  },
  {
   "cell_type": "code",
   "source": [
    "new_df.plot.scatter(x=\"year\", y=\"wage\", alpha=0.7)\n",
    "plt.figure(figsize=(8,6))"
   ],
   "metadata": {
    "id": "NWZq-iZRyC7H"
   },
   "execution_count": null,
   "outputs": []
  },
  {
   "cell_type": "code",
   "source": [
    "new_df.boxplot(column=\"wage\", by=\"year\", rot=45)\n",
    "plt.figure(figsize=(8,6))\n",
    "plt.show()"
   ],
   "metadata": {
    "id": "UVyjDhM3Uv4g"
   },
   "execution_count": null,
   "outputs": []
  },
  {
   "cell_type": "code",
   "source": [
    "new_df.boxplot(column=\"wage\", by=\"race\")"
   ],
   "metadata": {
    "id": "4RFWlo4FyGSK"
   },
   "execution_count": null,
   "outputs": []
  },
  {
   "cell_type": "markdown",
   "source": [
    "### 1.2 Stock Market Data"
   ],
   "metadata": {
    "id": "BDDap4b-yNKi"
   }
  },
  {
   "cell_type": "code",
   "source": [
    "stock_df = load_data(\"Smarket\")\n",
    "#df = pd.read_csv(\"/content/Smarket.csv\")\n",
    "#stock_df = deepcopy(df)\n",
    "stock_df.head(3)"
   ],
   "metadata": {
    "id": "Ie5xqwhfyP5P"
   },
   "execution_count": null,
   "outputs": []
  },
  {
   "cell_type": "code",
   "source": [
    "fig, axes = plt.subplots(nrows=1, ncols=3, figsize=(8,6))\n",
    "c_pal = sns.color_palette(\"husl\", 2)\n",
    "\n",
    "\n",
    "# first subplots\n",
    "sns.boxplot(x=\"Direction\", y=\"Lag1\", data=stock_df, ax=axes[0], palette=c_pal)\n",
    "axes[0].set_xticklabels(axes[0].get_xticklabels())\n",
    "\n",
    "#second subplots\n",
    "sns.boxplot(x=\"Direction\", y=\"Lag2\", data=stock_df, ax=axes[1], palette=c_pal)\n",
    "axes[1].set_title(\"Box plot of yesterday, two days and three days previous performance\")\n",
    "\n",
    "#third subplots\n",
    "sns.boxplot(x=\"Direction\", y=\"Lag3\", data=stock_df, ax=axes[2], palette=c_pal)\n",
    "\n",
    "plt.tight_layout()\n",
    "plt.show()"
   ],
   "metadata": {
    "id": "ef5ry9r2yS7m"
   },
   "execution_count": null,
   "outputs": []
  },
  {
   "cell_type": "markdown",
   "source": [
    "*    The left-hand panel of Figure 1.2 displays two boxplots of the previous\n",
    "day’s percentage changes in the stock index: one for the 648 days for which\n",
    "the market increased on the subsequent day, and one for the 602 days for\n",
    "which the market decreased.\n",
    "\n",
    "\n",
    "*    The two plots look almost identical, suggesting\n",
    "that there is **no simple strategy for using yesterday’s movement in the\n",
    "S&P to predict today’s returns**.\n",
    "\n",
    "*  Of course, this\n",
    "lack of pattern is to be expected: in the presence of strong correlations between\n",
    "successive days’ returns, one could adopt a simple trading strategy\n",
    "to generate profits from the market.\n",
    "\n",
    "*  Nevertheless, in Chapter 4, we explore\n",
    "these data using several different statistical learning methods."
   ],
   "metadata": {
    "id": "xD5CtaFyyW4w"
   }
  },
  {
   "cell_type": "markdown",
   "source": [
    "### Gene Dataset: missing"
   ],
   "metadata": {
    "id": "KIurfj_fybzX"
   }
  },
  {
   "cell_type": "markdown",
   "source": [
    "Dataset was not found??\n",
    "\n",
    "\n",
    "---\n",
    "\n",
    "\n",
    "\n",
    "*   Previous dataset illustrate data sets with both input and output variables. However, clustering problems involves situations in which we only observe input variables, with no corresponding output.\n",
    "\n",
    "*  For example, in a marketing setting, we might have demographic\n",
    "information for a number of current or potential customers"
   ],
   "metadata": {
    "id": "gZY9TS8wyexC"
   }
  },
  {
   "cell_type": "markdown",
   "source": [
    "## Chapter 2: Auto Data\n",
    "---"
   ],
   "metadata": {
    "id": "kCnEFBk5Tf9q"
   }
  },
  {
   "cell_type": "markdown",
   "source": [
    "### Chapter 2.1 - What is statistical learning?\n",
    "\n",
    "Suppose that we are statistical consultants hired by a client to\n",
    "investigate **the association between advertising and sales of a particular**\n",
    "product. The **Advertising data** set consists of the sales of that product\n",
    "in 200 different markets, along with advertising budgets for the product in\n",
    "each of those markets for three different media: TV, radio, and newspaper. In each plot we show the simple least squares\n",
    "fit of sales to that variable, as described in Chapter 3. In other words, each blue\n",
    "line represents a simple model that can be used to predict sales using TV, radio,\n",
    "and newspaper, respectively."
   ],
   "metadata": {
    "id": "Q0NAyeMijfm9"
   }
  },
  {
   "cell_type": "markdown",
   "source": [
    "##### code"
   ],
   "metadata": {
    "id": "qmSa5gBm2CcS"
   }
  },
  {
   "cell_type": "code",
   "source": [
    "from sklearn.linear_model import LinearRegression"
   ],
   "metadata": {
    "id": "mzupLXYfmu9a"
   },
   "execution_count": null,
   "outputs": []
  },
  {
   "cell_type": "code",
   "source": [
    "dff = pd.read_csv(\"/content/Advertising.csv\")\n",
    "dff.drop(dff.columns[0], inplace=True, axis=1)\n",
    "dff"
   ],
   "metadata": {
    "id": "z9YTRuqFkCIK"
   },
   "execution_count": null,
   "outputs": []
  },
  {
   "cell_type": "code",
   "source": [
    "# variable\n",
    "var = 0\n",
    "ncol = dff.columns.shape[0]\n",
    "\n",
    "fig, axes = plt.subplots(nrows=1, ncols=3, figsize=(8*ncol,6))\n",
    "\n",
    "for col in dff.columns:\n",
    "  X_tv = dff[col].values.reshape(-1,1)\n",
    "  Y_tv = dff[\"sales\"].values\n",
    "  lin_reg = LinearRegression()\n",
    "  lin_reg.fit(X_tv, Y_tv)\n",
    "  Y_pred = lin_reg.predict(X_tv)\n",
    "\n",
    "  axes[var].scatter(X_tv, Y_tv)\n",
    "  axes[var].plot(X_tv, Y_pred, color=\"red\")\n",
    "  axes[var].set_ylabel(\"sales number\")\n",
    "  axes[var].set_xlabel(col)\n",
    "  var += 1\n",
    "\n",
    "  if var == ncol - 1:\n",
    "    break\n",
    "\n",
    "plt.tight_layout()\n",
    "plt.show()"
   ],
   "metadata": {
    "id": "YIlWDmBIoOAb"
   },
   "execution_count": null,
   "outputs": []
  },
  {
   "cell_type": "markdown",
   "source": [
    "##### 2.1.1: Why estimate f?"
   ],
   "metadata": {
    "id": "6z4kqIzX2H5S"
   }
  },
  {
   "cell_type": "code",
   "source": [
    "color = [\"red\", \"green\", \"blue\"]\n",
    "col = dff.columns.shape[0] -1\n",
    "var = 0\n",
    "\n",
    "for columns in dff.columns:\n",
    "  sns.scatterplot(x=dff[columns], y=dff['sales'], color=color[var], label=columns)\n",
    "  var +=1\n",
    "  if var == col:\n",
    "    break\n",
    "\n",
    "plt.legend()  # Placing the legend on the plot\n",
    "plt.show()"
   ],
   "metadata": {
    "id": "Vuuq3DjSmm8B"
   },
   "execution_count": null,
   "outputs": []
  },
  {
   "cell_type": "markdown",
   "source": [
    "In essence, **statistical learning refers to a set of approaches for estimating\n",
    "f**. In this chapter we outline some of the key theoretical concepts that arise\n",
    "in estimating f, as well as tools for evaluating the estimates obtained.\n",
    "\n",
    "\n",
    "\n",
    "*   *Prediction*:\n",
    "\n",
    "In many situations, a set of inputs X are readily available, but the output Y cannot be easily obtained. In this setting, since the error term averages to zero, we can predict Y using:\n",
    "$Yhat  =  fhat(X)$\n",
    "\n",
    "where:\n",
    "\n",
    "$fhat$: estimate for $f$\n",
    "\n",
    "$Yhat$: resulting prediction\n",
    "\n",
    "In this setting, $fhat$ is often treated as a black box, in the sense\n",
    "that one is not typically concerned with the exact form of $fhat$, provided that\n",
    "it yields accurate predictions for Y .\n"
   ],
   "metadata": {
    "id": "sXc4drLZuDjJ"
   }
  },
  {
   "cell_type": "markdown",
   "source": [],
   "metadata": {
    "id": "helNAk-K2WFf"
   }
  },
  {
   "cell_type": "markdown",
   "source": [
    "Reading the auto.csv data"
   ],
   "metadata": {
    "id": "I2C359DNfn93"
   }
  },
  {
   "cell_type": "code",
   "source": [
    "DataFrame = pd.read_csv(\"/content/Auto.data\", delim_whitespace=True)\n",
    "DataFrame"
   ],
   "metadata": {
    "id": "DRapeU4Hl35E"
   },
   "execution_count": null,
   "outputs": []
  },
  {
   "cell_type": "code",
   "source": [
    "hpw = DataFrame[\"horsepower\"]"
   ],
   "metadata": {
    "id": "MIbq37Ojf32-"
   },
   "execution_count": null,
   "outputs": []
  },
  {
   "cell_type": "code",
   "source": [
    "Auto = pd.read_csv(\"/content/Auto.data\",\n",
    "                   na_values=[\"?\"],\n",
    "                   delim_whitespace=True\n",
    "                   )\n",
    "\n",
    "Auto.info"
   ],
   "metadata": {
    "id": "rLOKUFNAPn-v"
   },
   "execution_count": null,
   "outputs": []
  },
  {
   "cell_type": "code",
   "source": [
    "cat_cols = Auto.select_dtypes(exclude=[np.number]).columns.tolist()\n",
    "num_df = Auto.drop(cat_cols, axis=1)\n",
    "num_cols = num_df.columns\n",
    "\n",
    "for col in num_cols:\n",
    "    plt.hist(Auto[Auto[\"origin\"]==1][col], color=\"blue\", label=\"1\", alpha=0.7, density=True)\n",
    "    plt.hist(Auto[Auto[\"origin\"]==2][col], color=\"red\", label=\"2\", alpha=0.7, density=True)\n",
    "    plt.hist(Auto[Auto[\"origin\"]==3][col], color = \"green\", label=\"3\", alpha=0.7, density=True)\n",
    "\n",
    "    plt.title(f\"Plot of {col}\")\n",
    "    plt.xlabel(col)\n",
    "    plt.ylabel(\"Frequency\")\n",
    "    plt.legend()\n",
    "    plt.show()"
   ],
   "metadata": {
    "id": "Iey90iOjAYbX"
   },
   "execution_count": null,
   "outputs": []
  },
  {
   "cell_type": "markdown",
   "source": [
    "### Kapitel 2.3 Introducton to Phyton - Numpy / Pandas\n"
   ],
   "metadata": {
    "id": "ScrGvz1Jt30J"
   }
  },
  {
   "cell_type": "code",
   "source": [
    "from matplotlib.pyplot import subplots\n",
    "rng = np.random.default_rng(34)\n",
    "\n",
    "fig , ax = subplots(figsize=(6, 3))\n",
    "x = rng.standard_normal(100)\n",
    "y = rng.standard_normal(100)\n",
    "ax.plot(x, y);\n",
    "plt.xlabel(\"test\")"
   ],
   "metadata": {
    "id": "-kS6L-Ugt__x"
   },
   "execution_count": null,
   "outputs": []
  },
  {
   "cell_type": "markdown",
   "source": [
    "### 2.4 Exercises"
   ],
   "metadata": {
    "id": "CM7nzJWXu2ZU"
   }
  },
  {
   "cell_type": "markdown",
   "source": [
    "applied statistical knowledge"
   ],
   "metadata": {
    "id": "iwO_RGXekE_Y"
   }
  },
  {
   "cell_type": "markdown",
   "source": [
    "#### 2.4.8 College Dataset"
   ],
   "metadata": {
    "id": "UoIuAV8lj-Nx"
   }
  },
  {
   "cell_type": "markdown",
   "source": [
    "![image.png](data:image/png;base64,iVBORw0KGgoAAAANSUhEUgAAAmEAAAI5CAYAAADpKO3RAAAgAElEQVR4Aey9z2pcuRP3/VyLIeDNbPzbzsWELLLMJQwMCZ6FwZBcQCCLLBIwWWQXeFdZBRKDB55ZPENIYBgCJpuZ2LPVS0kqqapU50+3T7fV7W9D0ufoSKXSRzpHX5fU3f8n4AUCIAACIAACIAACILB1Av9n6zWiQhAAARAAARAAARAAgQARhkEAAiAAAiAAAiAAArdAACLsFqCjShAAARAAARAAARCACMMYAAEQAAEQAAEQAIFbIAARdgvQUSUIgAAIgAAIgAAIQIRhDIAACIAACIAACIDALRCACLsF6KgSBEAABEAABEAABCDCMAZAAARAAARAAARA4BYIQITdAnRUCQIgAAIgAAIgAAIQYRgDIAACIAACIAACIHALBCDCbgE6qgQBEAABEAABEAABiDCMARAAARAAARAAARC4BQIQYbcAHVWCAAiAAAiAAAiAAEQYxgAIgAAIgAAIgAAI3AIBiLBbgI4qQQAEQAAEQAAEQAAiDGMABEAABEAABEAABG6BQJci7Or6v/D5y1/h9z/+DBf/9//t9T9qI7WV2owXCIAACIAACIDA3SHQnQgjMULC5O9vl+Gff6/Cj6vrvf5HbaS2UpshxO7OjYeWggAIgAAIgEB3IoyiQiRK9l182fZRm6nteIEACIAACIAACNwNAt2JMIoI3YUImBVh1GZqO14gAAIgAAIgAAJ3g0B3Ioz2gFmBclfOqe2bf30Prx4ehYPDo3BwcrH56rZcw/nJUTh4+CZcjtX78TQcHJ6G87E8zbXE7cHZ9+bKphJiW/awj2bx+vYmPDh8FF59m5V7w5nyPbNEX9ixF883285Z98SGCU6bX5DxdGW7n8OOI7dF5pkV76mjcPzRzby9xC2M+dHG9MIhOwkR1tGes5VFWB5MqwiDfZ/YZ004sx5g9jY2DzR7eQPnN+mry7NHUWj7Y2P7bVkZz6gIG5uwN9G2sfpWbJkde1uYkGbdEys2Y/nsCzJe3rn+LNpx5Hpo7oVexMcWxryLgxN74ZD9uVMi7NOTx+HpvWfh3ec+N/uvKsLo4frg4aPpyA8PvmBuypK+/kGc7KciT+ubv3lJ72HlpU3WtDy7qSqXEGEHbjRp+22ZamtzfVSEhRCGHuSUvmvjsWn8ugk70K/rNm3lchfh+LCDqM/Kfs8sMOsZhvEwj+btctoNEfb5bXh+jwRU/ff85ZeVly03JsLevwhP778NX28YVVtNhNFDhpYxVnnYLD/YIMLm3ebr5LqxCHv4Jrxyl2eXHwfrtG+0zJQICyG0fFa5F0Zr39zFWZPnutXvQL+u27SVy+3AWFi5TaLArHGE8SCIjRzeLqdFRdgvv/4Wfvrfz/EfHa/zIiHS7AGLIkxGsD6E1/ceh3WEWGP7hsIp2ltShM0NlYq/+KMQmtqvku3GvWC0H0z8lRgns5wm02v/pQdaLUviLw3cmmb3YnllqsXAk+xH2vtD/jh7tDiP3BcUHz56D41sv5yYbbtKHfwAM0zG90r4N6quo/ol/aitbm0MlacyjQ3j71jEp4rj1A96WbL1I/oYueT9gtQncyJKEz5xG6I/ZYy1fa2vPwqv4rioPCtDcWTGR21zzmN9s/eIba+9XqqyvOq56j+Hl7pOY5zHHtu255Ru/RJ2NaejUPrVtvWwXuM+SFXO913XNadPqm1dVvc3+8NsUhtq2fJskPd94VJtcXl+BpX71/ITzzoyo8tNjLEILfnG9dB7qStBLfcq2y79kq+nt9rGMT7xmh2LZqynMUIs9HNW11vri/VbGzFxum3chJX8MuNR8ZJjXh5zRSGEWNfIuHftcb9zOT7n5w4zlRyMn9S3xDD2I+cvfhmeJf1mB4uJMBJdcpDS8TpCbJ4Iuw5fXz6r0aco0l6ET1dJnMWImYxMqUga5avLkcpOTm/SSGSJKNzr97m8slujdE/vyTq+hHf3xbUnH1qRmeuNkbA8KNQga/rYDAY5qJq8MsGUo0vf3oRjudk8DlzxYMr+yJv78uy0bJi2N0uszSnDE0tpV84zPtG3/rYPOZ2nuXm8m5xvTr5Z+ab3hGDBp+uhZL+uzG6wXjOJyBvdsNf208O28KOl5ZPhDyCofjF2g7MsHfObpcvEuvpbUIiD8xN5PTGSH/hINqog4LplnlS3tMMTixiHok55WBkZPs09YXxrrl+EY9kXspKGV7alJuNUv7xPom9ijCVxYf7gMOOk7QfZz8bHfA+pMfFQsk6NqIzofJ7v6/VJtd1wEPcWj4nqd/UrlUt2pA32u6RNPbeyONF1TNyzqs/5JI9FOTYy9+ILPwvUeODy8n0en8he1kcm7HiN48aMpcYvw9HaYAEn6/p42ghMbsFKfolx34wlNebNfRsr02mxvLDH91HpW2Yh2+G1la831wwn8kH5mAk05ZjMzd4XE2EUAbMijNJWfa0vwkjocLQsibEillh0FbFWRdiPmMblUjotW9Yo24fwWgqnKMikyLoOP0YiYXEJtJRPgqzaFn5cXcdfBpjFqxkMziByDc3Jp28A/QBvjTY3CD+QeMCLIspWbEP7F6XIHg/1jU++PQrHJ4/EJztTGn+KTtVBFrybKabZCV632/rhTQIPxMSS8ku+rT3lW2y/FB5kQZY3E0bT562HMsX2S6y7PMh0PWFgwhpOlzXp4/F6c17VJy2nmGtue3M+PSYSOzlJRpuyXnmsm+CcWV7pXApJKqTaPuS/rVedD7BwPEpJvl+23WrcsQgz96fyfWg8DLWp+OdzseNIj0UurNui/XFECBcr75adPWcb4/dcMZcPGj8G0v02WWvz+MQ6Tf/4Isw+w8wYNM8Ta2OobdZrPl/fL9MXasyb5xxVpq5T2badakzH/CaPssEtyO/NONZjL+VKaUXo8f1t+8WYXud0N0VYjkAVkWXPr66DFlIycmUEVJOXBFybpy5j0nUt2oZFmGNrRLDFSNiMXvRuhnk3lDfY+OEklqHKX3TtQLTutfWOlKEbg4VAcyNYy/lc3kxUhsrHsvlhKm16AlCW5yq8tKGJh8vYB1q0oZnxHyE8Cep+Mg+TGeXVg4bbRqH1GQ+Ctl/SgzD5ZsaB5Fnamw7IB26PuVROo58c8qd37mP22for+Q/VHdPNg7XUqA9S/TJvah/3h37nSbjmmWqfFcftefJHMac2Cg7FY9l2SpTnQyxKYTpI/SjbVP03/ZrL6XHk51G+D/kx2Se+bctL+8ONs2X1/aLvpVwm+qPvwTppJk71nFnr/MyxMmR/0jv56l4zjPw2aVuWQ72q2z7cVjHG5biphvR4ss8s03+DbZP2xPH6fpm+sL47LAtzp4+5z8pz0NqLPiemlLfY4rYYDkP9otub7KnxxPZu+L6YCNv8cqRY0rv3OBQBRlEuL8LF0S/5PpRPCiM6LpGrGhmTy5E14pbFnSzf1Kf9bpZKRf55Iqx9CJdBWcTT0KjQNzvlig8P9ZeGvGGmB14cqGqyGSlDNwvnbW6EIZ+rP1RXuqFqHfZB0jwMvRvUS1tHhHFbhlyXDxfZdspvzx0bTVtintT22OdW3Agbbb/wJEQP8mSjPJykn8IGHVq+6nIsp0Whrddtg+Q/VHdMF5OOqticSHvxUh0fJqdzWu+nwqPJZXjZyS3nV20f6l/rqzwfYiHtq3t8nl+6D2yZZFz5PuTHZJ/4tu0kp/1h2G3ZOvbSNTkBRhuDzy2yWZ8bXMOce67kzQfVB3PFMPLbZMoMjBvLJ/aFvbctezluZDUq3TA1NgbbJu2J4/X9Mn2hfKQKZP9SXnHfG87CnXrY2KuXeBwoMWY4cP3N/S/rpuOp572sdoXjxUQY1UlCbDsb8/Uy3o1FWNxLlqJbFEGTAi/uD1ORsRUiYUOiTwivGmGbuRw5OODSQC5/HbiDwNyU3oPKpE09XNTDO9c5VEalNzeC63BMTA+Li/DqYb05qd4HZzqNMqs6KMHj5aWZdrfeGHaz/K8Pl9QG8UWvM8o3bZFOuW2oGbx+oavRZv7UZH3omIdkMTOUnjJ4ddg0tw3S98jBWZaOeWp/F5e8A2kvX3fr9crmNOu3zmr6fmAyVTYG/I955DK28n2Mt/WBPLRp9jy1QrPw8yjf1+4T37ZdBtP+MGmnLLGhiS/6wxFMyu9xsmn2nCP+M8dUdktxYVd5aUpMyn6bRIF46LSR0s2zwK3Tjic1bmo92g9T35x6qqnmaH2/TF84vkfbJDy5z0vtpmxJFweOPXE1HirfDYf2PqqliSeJfypfn5f1+hJHi4qwJRyauydMipebi7C0fPn6/YfwWm7ovzIfAMhLl00kLIots0QZhVbelG8ia8p3IchiJCwOEGdSynD1TWaITw5Gc1M2D3GOjIn6sz9yAMqN+a7IccqkfOIB2NwIpi3yNLZLL3Mle7S0IB/Ojgjz6nE5Td3sPrsS2Sv9o/2Jfp6chmPjJ9/4Y+VVX7sbkU1dgpl66Ih0nsDUX4Y8qci/QIVgG/z1Acsx97tsk2oD+2HKxTyKT+oL/zvO2Ih4N/bilZgmxjElSoZmA/IwLyro9728JyiXtpHKSBZpsjVj1vgebah+qBvzLcuUVy+32Dzkl06zbaEc1nd+DsjxNadPcpudaJ3koP1J9beMKZ3spT2gmnXbhmjTqdcrJ32hWvSHS9gffs/tlpGpPM6byJzMw8XV+zw+PE6qfYd9Ht+qLc2YN5yaZ6HTNnNfKPebdg/5JccNWUj5SnvMmE91UJ7TcJxFj6w39a22OTkHmXaoe7PhYO8RUTv5evJGBQDE1UUO74QIS9Esuyxo9n1FISU35HO0jSJftezzl2/bPWEs1ko+adt8OnLkqzUmRVhzE9gxkAa7fvDIPOampEvZJi9pHn80N4yTR934eYKK5cVfhtauFUvpuhBl0s3m2GtXSrORP+8Bzw/o4sPgQ8BM2soPh51se94T1bL3/Uym60OZ+cvyqi2mn0pblI/1RD10anI6yg9rWRdd4EmdfbFsrRk6r2yTSD6nb+oX40C1gQ04/JUdEmTOg5KLN++OvZgnt7O0Rwo9e0343NhfS4SRFdO/VIf11Z47/VD7KY+lMtYoEqxFmLzvuJzuA28ctyKMvF+9T9h28qtwN2y1P0yby4pocWHhPCfM/eA+t0QfFwFg+8TbM8QulXfN3fvjwG9TMZAPuI3jfCizvhed+4HHjWgj8a7tJCtcX2bq3lO2bVrs2BbM9ksVTHUU39h3lYfHm1+/Hot6C4QbCDBc5DPJnXvEeOL7JrmX+UwKbNOYFU53Q4SJaNFQFGkf0uftCVuhd5EVBEAABJYi4E7i0riZ9OUlHLeiCEx2gIARkBvwGCKsI4EHEbaBEQ6TIAACixAYja7GGiDCxkGDzzifDq8ORO2W9BQiDCJsyfEEWyAAAntA4PzELAHm5Z2ypOS2ESLDxVISwaeg2ImD7fRXdyLs9z/+DP/8ezX4rfL7sOzotYHaTG3HCwRAAARum4De+5O+W2tcgJHH25m0bpvN+vWDz/rstluyjP8N7gXjFnUnwj5/+Sv8/e3yzokwajO1HS8QAAEQAAEQAIG7QaA7EXZ1/V+MCJEouQsRMWojtZWiYNR2vEAABEAABEAABO4Gge5EGGEnMUJRIRImtFl9n/9RG6mtEGB344ZDK0EABEAABECACXQpwtg5vIMACIAACIAACIDAvhKACNvXnkW7QAAEQAAEQAAEuiYAEdZ198A5EAABEAABEACBfSUAEbavPYt2gQAIgAAIgAAIdE0AIqzr7oFzIAACIAACIAAC+0oAImxfexbtAgEQAAEQAAEQ6JoARFjX3QPnQAAEQAAEQAAE9pUARNi+9izaBQIgAAIgAAIg0DWBLkVYb1/Wii9U7XoMwzkQAAEQAAEQ2EkC3YkwEmAkenr62SL8tNBOjm04DQIgAAIgAAJdE+hOhPX8A974ke2uxzKcAwEQAAEQAIGdItCdCKMoWK8/3E1+kX879fp4Gg4OT8N5d05/D68eHoWDw6NwcHJxy94lXx6cfU9+fHsTHhweheOPG3Qr9suj8OrbBuvo1fQ2+IYQzk96GFu9dgL8AgEQ6IFAdyKMfqz7x9V1t//Iv+nXRTgmcTEkfrYpjLZZ1zSYkqOvCRIirHTMNg4gwrZBGXWAAAjsAAGIsBUF32oibOAv8W0Ko23WNXvAG9Ezu9ymMm7Yny77YFMs+7Hbl9Dvhws8AQEQ6IcARNgGRdjx2cCy1jYn5W3WNXtcb1j0zPaDM27Yny77gNu+v+8QYfvbt2gZCOwLgUVF2C+//hZ++t/P8R8dr/MaXY58/yI8vfc4PH3y4daWK8m/y7NHw0uNsdFpOZL2FLl5zaQc89h9UXHJRuwZ4vOPSdjFvVS83Bnt5f1VnMbwS128RJrylf1PnC/o6wcP34TLcq3ur4kT2+FRaMuLzMqfo6Bs5aWo5H/yZXDvlc2rfKrCKTG+SfurrdgKZq32a6U8rt8jfjKvWi7vzyv9IrjZPjgU/U/Zil+6r5q+sPzt2CpVcrsvyv682he6DtWHubzmbqK+lon0obRDtqk4lQ4MH1tX9ZPLGX9PLrAnjNHgHQRAoFsCi4kwEl11okkT4jpCbEyEfXryOLx+/yG8vvcifFoxgrXUPrNVRVgIefKWk5A3wcjrNFzkRFXOpaARoqCIk6G6qD/E5vw8QdbJO01gcmKL4qHYzSJsxmb1NFlq8ZCEiKg/M6n1+/fH+Ulbpm7ir+2Xdpq6iiARtpr2J1vFjmXP4kj20cfTsnF/3M8Qgunv2Fqb1vjE5cQHBHIe1ZfRjuDt+S79VqiZoSgfr88dD4IpMeJ6Gh/MuFTXDftYv06LY0qMxXRvCC65f0r/Bf7jxwhD1XacgAAIgMDtE1hMhFEEzIowSlv1NSzCSHw9C+8+X4ckxsTmfYqQPfkQvr58liJl9x6H5y+/lGgZpdM5lYuRtHsk5kT5K7Jdrz29/zZ8HRB55N/0y0xiefIsIsdMwHGS4QmMjauJyhFllM9OwCVNTI5eHp6k8sQ2p34rythN/W7aXS7adD3JlmwTB3oyNhN7KWvqmtF+FsplEjfsdb2losGDJr/p71jQpEW+dgzYT/jZcRQNGZbG7qCTomwVtin35HgwfGwd1JbCki9Kv0z5hpe6Tv1pRWKNzJL5pnyuc4gpu4R3EAABELhtArsjwkhoZXEUxZZckrTLlJ/fhudZsFEEjMVZEWYxf42mkTgr1wbEF0fS1hJhPFFwNEpOSHzNTsBqIhoTYUJw0WgytptzHnEiX5ys4qc5eUmP3+vkN2tCiz4bf3J9emI2woF9ct4b30pEZMiGSRftVOZVuilj2GvflZVyMuyn0ydUyqm/iPRiNefjNhu/UjbjO0dep5aMY2FbNlls2lLGRh4P5Dv7JH0VNu0fZOk8j42mHVpoKREY8/J4NO/5nhnqn9gOe181/iIBBEAABG6PwGIibNPLkUooRZFVRdQPIdCSWPoS3t2v0a5GtMXIV4qqUf4YIRuJfrEAo/d1RRhHW2LUQU3A+S95O1nYicqe05gxduIwsmn2nMeaSB+axDgrvc+a0KKPC4kwnnwFFx3x8AUEcy6RGNFO2R7NztgyrEf5TPo5p59S/cuIMG5ligiS+Cks+FJ5N+3O6aPtpTzEdEKEuW3heg1fSq51GhYxrz+m2FwtyynpndJtlE/nwBkIgAAI3C6BxUQYNYOE2GY25telSE9kDYkwjm75IqyKtB9XSbT5S5Vy2fImIoyjWUchfWqyTixaXOQBEcVDjUQ1e8QomycwbJo9z+blBOXWn/Pxm8zPae27WQosGWy6P/mX7BwdNBO99nPAhp3gZ7S/EW7Ghq5XeukvhTX5PR9M2hBflW78Sp4McMhuNr4o9/2y42V4HIuxqWzOEOxeO4gH9Xe8Vu+NkPd7jYm6yMiMFe5TiDDTOTgFARDoisCiImyJlrl7wni5Ue7bkp+SvGEkTEa6fsQomxRorQiLkxQvLbqNtqKjZkplaVlFTDRx4mk3Gh/IvTBDE5e0Q9WYyT2dyw39nEfUl+vXEROx0XpuJIzFk/Sby6pJ0p/8KyX2sWVUIzDJBkV66gSd02RdkcdE++0HBRrWOaokonLENdZreWeW1c8B0TJQTvVBzCPETuMXETMs2a8Mc1xQmbLcAXPHgxp7Yrxk5rVfEoNj9YsEol2xXvLlUTg+edRE7qLIUnWR+D2tvzbg+FvuM9ln3D68gwAIgEAnBHZChLWRrOsQo1/8KUkjwtIesLpcacuPLz+mTfp6434VYiQSbyLCeNJUIqyIF97zchrO7YRrz2kA2YncS+M8eWLkvTpqgqRyeSLj60oAspCaOaGVCZD3EjXlBiZ/c1OkyTczefgmnNNXgxSBxTbq1ytE38v1bGxW+9mW/NkiKxKyEOM2CVEw7mfyo+bJwpL9km1u+kCIUMrnjQFHhNU+NOJT1hWPTbvl9cYXyyNHvAoPKYZ5bPJ49v7oaO2lcdOmk1uVX7Zpx5Txl8RsLGPzyTbiGARAAARumcAOiDC9v6tGrYRYaiJlVYBR/iTKhj79aD4ZaT5ZWetLQmzenrBb7tU7Uf2IgJDt98SOvI5jEAABEAABELglAjsgwmoUygqicm4iYSU9f9LRRsLs9VXOIcJuaaQ21UKENUiQAAIgAAIgsFMEIMImvpLCCjSIsF7GN0RYLz0BP0AABEAABNYj0J0I+/2PP8M//16VL1q1Isg931IkjPwi//DqgQBEWA+9AB9AAARAAATWJ9CdCPv85a/w97fL1UTYitEsV8jNsEF+kX94gQAIgAAIgAAIgMBNCXQnwq6u/4vRJhI8K0fEZgipdQQY+UH+UBSM/MMLBEAABEAABEAABG5KoDsRRg0ioUMRJxI9tAfrtv+RH+QPBNhNhxvKgwAIgAAIgAAIMIEuRRg7h3cQAAEQAAEQAAEQ2FcCEGH72rNoFwiAAAiAAAiAQNcEIMK67h44BwIgAAIgAAIgsK8EIML2tWfRLhAAARAAARAAga4JQIR13T1wDgRAAARAAARAYF8JQITta8+iXSAAAiAAAiAAAl0TgAjrunvgHAiAAAiAAAiAwL4SgAjb155Fu0AABEAABEAABLom0KUI6+3LWm/yZbH4oteuxz+cAwEQAAEQAIFbI9CdCCMBRsKlp58tWuenjrgMfvLo1sY2KgYBEAABEACBrgl0J8J6/gFvFlbrvOPHv7u+D+AcCIAACIAACGydQHcijKJgvfxw9zpia6gMtYnahhcIgAAIgAAIgAAIEIHuRBjtvxoSMrueTm3bqde3N+HB4aPw6luHXn88DQeHR+GgA//OT47CwclFgRTPH74JlyVl6YPv4dVDXefSNcCeQyCOudNw7lxCEgiAAAisQwAi7Op6a6JvrgiLk/jhUTj+6HXpRTgevOblv0FaryKsM78gwm4wxnapKETYLvUWfAWBnSAAEdaxCDs49P7qhggLnU2GVoQte+dvsb+XdbwPa0uOlSVt9UEHXoAACNwygd0SYe9fhKf3HoenTz5sLXo1awmU/Lr/NnydEHQrRcJO3gwsOW1xUu4s4lTulc4mQ4iw0jP9HSw5Vpa01R8peAQCIHALBBYVYb/8+lv46X8/x390vM5rbE/YpyePw+v3H8Lrey/CpwnBM0s8LWVjJRGWRNSDs++DeMqkHkWQXZa0IozO231bxUasJe0henB2kYRd3EvFdpO9tL+K07JrRYTlPUi5nNz/xI24PHuU92jRPi1jhyev+H4UDkb3S2l/7J6v2C72g94HbVk7JqrIPgWdT/cLc/sedPu0Lc06BHtOjHR5vZ/LtqksQzMv0d50rfrF/EMwfWT7IFS/tC+6LSGPOR4Pw3xTzYO+F8c0X9uf2hfNpfFF7LtL12jcm3aLPNY3FVm27RTl2HVd/jSclzHDOfAOAiAAAjcjsJgII9FVHtx50lhHiA2LMBJfz8K7z9chiTG7l+tLeHf/cYqUUbSsEWpUXlxXkSt97fnLLzXSRgLryYfw9eWzYrtc//w2PJc2y7EvElMkLE1KerLXnRgf/nlSSJOUnChT+TJRRxExT4TJCbBOfrVsU1eZqGqewKJFTFqxnBRDuVzxkcWEKKNbnM9yOcUmly22KOuMyfDy7FR9oCAylT6yT3LJt6m/TvDSpzQ51z6R/UXuueeyHmLILL69CcdSkEe/Wt6q/VlwVZ+y0GGb5ETTluzX4VGo5XL7Sjk7tr6HVycjHzCY8t3xQfaL5RjHFvsSy0oOxtdsW45pb2y6Y2XKNvehHC+lvtrvedTiDQRAAATWJrCYCKMImBVhlLbqa1CEiWhTFERqSTILMJUmRVoSWUU8qQhYKluvpbyv3+fyVC+JK7YdhVcSgyXaJnwraaqOZCuJsGkiehI3k08WQXVSpolTTlbJvmejTr6UJ024XlqxnSeecs6uKxE0o/5GWLAh/a59rteadFV/zTd6ZMsM+KQFpWXPNWixYv1T582EzzaG3rVt7ifdB8kv7jvtc7Vr06NfUlhQVsllZV9rXelI+6442KwTdVFZbl8p2vhqIq6UUebxzrPAmrbd3lON7eIYDkAABEBgPQI7I8Io+lWEUhRCItoUhZI4NwIoijYV+RICjWyZa0rkNQIribYi0qiuJo+wL3xZT4TVqEaaiPVElybpdsLQE6CetNNQsXYo1aQNTZQyPR6nJUgrwsuypZ0Y3bGafNRiI2ek8lI8zLLnLAHKaNSQDZXucSOfdLpmbSJh1nev7Q7DysH0SSzf1t+ICsoX7dbIjfUzmlLtrdGy0neevzJt0PeR/qTyo1xS2WY8xQh7bk+stx33dZkyO2nax303anvIt8aWBIFjEAABEFidwGIibLPLkRSdktEnLYRGRdZVWr4skSwhimLUKgo4sUzJS4oc+WoElo2cbUGElT1FNAHZSZnO28lIT7h60k7DxNqhVJM2Z6IzE707BGdNXiOTtp0UJ+2ldowKtyEbKt3jRi3U6SlpXV4AACAASURBVJr1aiIsllX9Z/rA9kkE3Na/lAhL/ZfsR6HCy4NOx477nmxUMWkM2D5VlyfKUt45Y5Pyqf6khBm2h3xrbCmncQICIAACKxNYTIRRzSTENrIxf2WhpCNRKrLliTATCVNLigMibKuRsNiteWLMn5qsk5udtCkz5+UvEE3neqL2ypm0gYlOL3OZMt4QnDl5WTHDppr0KXvedZtmz3Nlui6PWysAdBkjwgYYpuo8djbNnlNJ7ZfuD6aWI4Eigmj9jDkHOExec8Wh9tWtj90b5WIYchn5PlC+YeG0b9QvqiOWaf+wibZlNFX6g2MQAAEQWIPAoiJsjfqbIt6eMFdERWHGS5Bje76uw4+8gV4JpyLGJsoaERZ9sZv+vX1ixX4VhGk5Mk1UWhBpDIOTRJx42k8fxvxisk2ThfykmZ60U216wnTTSn11SWt4w7fIEyN3YmO8MxHqFuezXJ9i402IU/aaCTq1VX06Ltown67MaVXgJm4UEWrSBG/bX+65mrx5Y37bL7GsU59iYkQYRzDVEmJmWf0eEDaSpbvRXvdr7bcZvjv9OXtjftMXSfyWDzFk26pPnfrciNmUbf4jRvQxj3tVX4WBIxAAARBYi8AOiDC99FijVGYD/VU6j5vo45IiC7QsgrIQK9dV9MuWpa/CyOWaKJyxm8VWEme8rOnnubEIK8uSUhRQv7PISAKNJmwtBNoJk8vISbpJi5Pao/DqI/18Ud33pQVBGncsHspeG7mMJSf6qWFaJleuzxEBM+wVIcr7iGwZPo/vXJflytz0V3uoZU7+JJ1or2bv8yncTXuPPzriWPiYyrFf8mtO9BjQnxoUPgg/YypzoBPjy6TgMPld300el50YW4UL+SPancaVGAvR7qpjU5Qfsx3BJMZlPJMgk6xiHvwHAiAAAjcjsAMirEaSqgDbYpqJhN3Eh7kb82/WpSg9i8CsCdUTO7OsI9OmCbAI6/F3TTfddtgHARDYGwIQYc6yoRJaEGF7M9hVQyDCFI6dO4EI27kug8MgAAItge5E2O9//Bn++feqflnqlEja9PWFRBi1idqGVycEIMI66Yg13YAIWxMcioEACPREoDsR9vnLX+Hvb5f9iLCFRB61idqGVycEIMI66Yg13YAIWxMcioEACPREoDsRdnX9X4wYkWjpKiK2phijNlBbKApGbcMLBEAABEAABEAABIhAdyKMnCKxQlEjEi60mX2X/1EbqC0QYLjhQAAEQAAEQAAEJIEuRZh0EMcgAAIgAAIgAAIgsI8EIML2sVfRJhAAARAAARAAge4JQIR130VwEARAAARAAARAYB8JQITtY6+iTSAAAiAAAiAAAt0TgAjrvovgIAiAAAiAAAiAwD4SgAjbx15Fm0AABEAABEAABLonABHWfRfBQRAAARAAARAAgX0kABG2j72KNoEACIAACIAACHRPACKs+y6CgyAAAiAAAiAAAvtIoEsRhm/M38ehhjaBAAiAAAiAAAhIAt2JMBJg9FM/+O1I2U04BgEQAAEQAAEQ2DcC3Ykw+p1FEmA/1vzB7F7LUZuobXiBAAiAAAiAAAiAABHoToRRFOyff6/2ToRRm6htO/X69iY8OHwUXn3r0OuPp+Hg8Cgc9OrftpFFHqfhfNv19l6fHcP2fF3/wXtdcigHAiAgCHQnwi7+7//bOwHG0Tlq25zX+QmJi6Nw/NHLfRGOB695+W+QttSEdQMX3KK9+uU6u6VEiAIftB0r9twvNZ0K3tOMkAMEQGCSAETYFpc9VxVhB4deZAMiLOzFBLhwP26Eyffw6uFReHD2ffJB0m0GK7rs+bqOb4T3us6gHAiAwK4SgAibFGEfwut7j8PT+O9ZePf5WkfqPr8Nz8v1F+HTiL2VRNjJmzgBHpxcmLG18ORtrKvTpSYsZXSBk72YABfux40wgQgbHK0b4T1YGy6AAAjsKYFFRdgvv/4Wfvrfz/EfHa/z8pcjv4R391kI1ffX740gGhFAvCS4/juJMUeEcZ1RjM0RYWnyHYsuxOVIEl9RBNllSTt503m7b6vYiJ3Ak+lFEnZxLxXbTfbS/ipOyz1XRFgqz3laYRjC5dmjvEfLWUrlCSu+H4WDh2/C5eDg0P7YPV+8VFt8GbDF7dd+OZHFzLjYY9Fb2i4cjf5r1tE+lxFZ+dD6G5eYmUPuB6o7LT3P6ctkWds9DefMmCum96G2lWvUFs27jEtb9lBExOy1gT4ortj8kle8NuKH9PUj7VGk8SX7Uftvx0tiIPqs1Fe8G+eUs83iLUziEARAAATmEFhMhJHoKhNZnlzWEWJjImy7ossKvFsQYYHFTTvp1P1icyZuFlF1MqrixKaJusrkWfOEkCc9MZFGW3IizuWKjyw6RBl3cOZyRQhQply22Cppwk/HGE+a1VZmIH1oJmSZJx3X8iEM2ZR5pCsNl4+nYp9f4qjaFdlK1slarFf4Hc8d3kqcjLZNCjTBMbKW9bcMuP+r39/Dq5MRUb2EH3lcNOI9pyv+drzY+qfOgxwDgv8Ub9nxOAYBEACBmQQWE2EUAbMijNJWfa0lwt6/CE+ffAhfXz7Ly4aPw/OXX+qyIV2//zZ8lUuHTz7U6zKdlhblNY50XS0lwqaJ6EnXTgp28p4vwtRklcWUl1Ym2DzJlXN2PU50PHnPqL+Z3NmQftftrteadFV/zSePGqFCF005yqPbr/PoKFdq5/HJo1AjgX7b2Y/Gb74Q36ksR8D4gm9P2bEigouu2DaOkum+taLLnrN4k0KNHfDfpxjP8mNgHCouonqVbnmZ83n+Oe01vEX1OAQBEACB2QT2R4RJ8USi655YGozntIyZ06Lo4qXFtOerRtnSuRJxUYjdlgjjiY8nbDt5z5i481/3WnBYOzRmTJqZsMqokunxOC1BWhFexMqsCStN+FoU5BqpvIxEzLCnJmJ2XJXL4lYsCVb/s8CU+amd5ENsr7gu/eJ6+L2wcSZxyzqWmdGXlgXXJX3laM5Y26Jv1i8ruux5qiyyJdsiOsdu6PcZjOf4MZJncrzYsup8hn+zeOtW4wwEQAAE5hJYTIRtYzkybY7nPWEsoq7DD450DUWtoggT+a/SHjMSXjF6RlGyUtazR0uTtyjC1LKkEUqzlrC8ydTaoSFj0tSEJYaUTI/HHBUTeeShEgjygjxOPk5OqlRkhr25Isytr7hVeVBULInY6qcbRSllxUH0l4SqFD3Vds1JaTJPuqLaMksUVB+rbXMk+7BcsuPEnpeMIUihNyjGFvJjxFe3/yQjW1adz/BP2pLNj306Me5lfhyDAAiAgENgMRFGtkmIbXJjfo1Wmf1ac0SYFVpZdEURZpcfG3u3L8LKpJc/NVknH28yT5NLjVR4k6lXzqSpCauOHr3XyZSp2erRzAlLiY1aOu3FkhP9DHuuLVPOzSPqpUPK8+CMPtBQxVESZDrNFHNObR943Lw005exDdUXrij2idiwPtk2t2+tj/acaxPvhqm4Eg8X8cP1Ne/Rk+MiV67qtGXNucprnafzmby9okgDARAAgSkCi4qwqcrmXF97T5gSWSZq5YqqJOS8SJiXtlwkLE20emlQkxmcGOIE0n76MOYXy2JpQpbLRd5k6k34Jq3UJ/7iz2nS/1i/EADUmsuz0/pN+xMTdWm9Y9udBGfYcxnacvGcl3mzF9/ehGP5vVg5T7scaj+lV1pRDs5PBLdmSdjrkywsZvSl8sfrp6m2xTJWzLU+NRxdPrKdpfnpYAk/XF/rMr0ci814sWXt+ZR/HPETfcL72NQHIUyzcQoCIAACcwjceRH2I2/Kr1G2tCesnnPUzQg7uXxJx9GO2Idmr19dBxKYvOSnJg7TU83EJ66zwKqRMLqYxBPvaSLb2kY7uXIZz05J4wmrfDVAEoCe77E+uQdJRijiRDcyUYv21Qku1eVOdDPs6fbnCrxyeRJmdm19nmjOvGUbZRvysWXScBN1F+aTfUnGU38Wn0kgrNo27lv1k1TOOIn5RL+L81T/jH4V7WzKzPHDzZMhT/ljy9pzMjPmX6xmJu/sEt5AAARAYC6BnRJhek/Y41CEUhPpMoKpuc7CKr+bT0eqTflUtnwZa7sfLUbNmuu+GEsibG7XIB8IgAAIgAAIgMA+E9gREWZEkxNlWv9LWLdnGyJsn28ltA0EQAAEQAAEViMAEbZFQQcRttrgRG4QAAEQAAEQ2GcC3Ymw3//4M/zz71X9ItUtiqRNRtOoTdQ2vEAABEAABEAABECACHQnwj5/+Sv8/e1y70QYtYnahhcIgAAIgAAIgAAIEIHuRNjV9X8xYkSiZR8iYtQGagtFwahteIEACIAACIAACIAAEehOhJFTJFYoakTChfZR7fI/agO1BQIMNxwIgAAIgAAIgIAk0KUIkw7iGARAAARAAARAAAT2kQBE2D72KtoEAiAAAiAAAiDQPQGIsO67CA6CAAiAAAiAAAjsIwGIsH3sVbQJBEAABEAABECgewIQYd13ERwEARAAARAAARDYRwIQYfvYq2gTCIAACIAACIBA9wQgwrrvIjgIAiAAAiAAAiCwjwQgwvaxV9EmEAABEAABEACB7gl0KcL26ctaN/lFs/gi2O7vLzgIAiAAAiAAAoMEuhNhJMBIXOzLzxZt+kfB8ZNIg2MbF0AABEAABECgawLdibB9/QHvTYoxEmL4cfCu7zM4BwIgAAIgAAINge5EGEXB9uGHuzcpuqxt4kXc8AIBEAABEAABENgdAt2JMNpDZUUGzq8nmRA3vPogcH5yFA5OLvpwxnrx7U14cHgUDg6PwvFHexHnXRP4eBr77eDwUXj1rWtPjXPfw6uHR+HB2XeTjlMQAAGIsKtpgbMLInCuCLs8e5Qf5Gkipsn44OGbcIl7YTEC/Yqwi3AM8dX0M/WXLxASr3iP0H1ihXURRXQvnYZzZXlh4RHF84T4Gs1DbRkv3z4bxvOr5o6eLMxitC5cBIHdIgARdhdFmBJd6QE5V4jFB7Uqv1sD3vU2TqZ2EnVzzkrcjAhbYCIbnaRnNW0zmRbmP8/JPO5zVLAVYUmA1XTvvIoU2+fxPrGibZ5jfq45jEb7d1yERf/NfX15drpQxG2BsetTQSoI7DyBnRBhX18+C0/vPW7/3X8bvi4loj6/Dc+pjicf2qW/9y9E3c/Cu8/9Rc9WioSZh20YfXjrMQ4Rpnl4Z3ZC9vKsnrbARLZCP6/u3w1KzBEYNzDvFa3j2Odar4vS0k86liKL2Jb7igTPcqI+eiDrFi6pw9H+HRNhY9dUDWue+IzXNIZiILBXBBYVYb/8+lv46X8/x390vM5rfE/Yh/D63uPw+v2yIiiKvPtvw7snjgiL4qwKryQIX4RPS4m/hewkEUYP06GlldQb7uQSUrm6Ryidl2WYuIyRHqQ1bf4yJouSWHeOPLTLNyHo62LPkjMBpbx6oqN6auTCjj7rf4piRN+KT2JZieoskyrbspwo3bA6uQjcXi5F74Nto4vcvjiJ1mXi0h8mnfqgtDOWrWWUMBAO2PqZP/vKHIrdYHmJ/sh2bdnqly5bbQqHpA2Pf7yu7ZD9wkSWJzGkONQIVVujTUl1aB+9tBDUHytU34AIIy7WT1urPh9vJ/dNufeacZmt3UiEiTGlnVvhzNwLZfmz5WnHo+bP94Q/ri2P1Viv0BxkBYEtEFhMhJHoKg+J/FBdR4itK8JstEwKNbr2/OWX8IlEVo6olesksnL0K143kbA2TQvBUdtRYH0J7+7XenWkLV0jX6pvVfClvWipPvb76UD070YiTD6884QvH4pyWSI+PIcmgYEByw/NajNPOmISa+xmP9ID1oqfOmnVB7DNo52JPqj6xFILiyBZhNKadto60nltlxBbqq5H2pZqm5hwRH1pkpIis53IlCiIvl+EY1GvbE48lv2cL3LfVI50IbWrERlS/IWQxKYURkIIFXsxbUIUefxX9EH6mthN1FngOFybP0o4s+h/w5I4xnFAbRnrAzZV3uexLkK9lHMOjE86B9UzwoT7biXfRQ15TOt7ge8xy9iM01y2jJmmHTV/85z4eLqi4BU+4xAEOiCwmAijCJgVYZS26mstERaXC0V0Kp5XMcMCjYRYFDY2f45GtYKriqQkiKqgYltTtrXNVJ7L/rhq7en8SYDV/MMRwCTCpmk3DzEz2VmxYi225W2O9jzaFAIj5lATrz9BSF/KJEeF40P6NBzzxCfS9OZo9sVOApye35UvIs36bCbnIRbS7yRo2slP5Yn12zxiwo8uOW3w/DZNU6fN5JaFlGnnULtsumqD8FGLEMdv5RSLUCk4s5g1flEx14cm34w6iw9eXsueM5v0yD9Ha6IPdRxHPznCNyJsbHu4piZ9Tl9nMWOfw/XcjjGujd9T+2L+EZ85t3xvx4K86jEeuT7S1vF6pE0cg8BuENgDEWaFTRIqJGZYvEShpCJcJG6qSONPP2oBRHaSbRmpIpvSnjyukSu2TfUIcUhijwRgiWZlESZ9E9ej7ZJ3WIBRvSuJMJ4c8nv96zU9LMtfpM4YbiYHJ49Nch+c8kE7NnnkyUDVS2Upnd7zBByvj00csT6aMPVkH32VvrDzwjYncYSI+VC7KruaS7V3Rtv8KIeZ8PPyoK4v9RdNmjq9+qKOhkSY4TbULha/LHRVO2NF3mTrpSmv6nKsSF7fh2Sk9U0YV4eef5Y9FxhKr3XGflBjJ9nnMcOW+H1uO/0xwlbyu9O/NQf5PiXCOHdqp3uvcBb1Pt7G4I5drqMuOdYxnOy547rcT3PbohzFCQh0R2AxEXZ7y5FVKLGYovdpEdbuLRsSYbQUyIJuJdu82d9+qKAIK993bkfrz7AQW0mENZEDHpdTD9M2EsElx97dCVEKn/hgdcSRNComGLKXJjWeWKb9ZlNRrEXxKeqTvnBGNZFyYpo4eEIdmkBVe+e0zavfRN38iUz75U5anIXeBUNOVr7mxKF23R0RlsZTFQUZjMOPOco/CIgfjxG6TmOusbUi6+2KMHJugEFpsDyYuv+0Lb4HKyN9vVquQq3hF+8ZEnAQY5UXjnaRwGIijBpPQmz7G/OTkJEiiSNYnDYerarCxhM9bZoWTqO2owgzkTC1EV/bYvHF763t6ivn4fdlRFhenjKRETmw4wN0UMTJnPXYm+j1pKLFTS0pj/hBT3mrgEoTnk6TpfxjU58ngry0OAnXCTa2q2GR/KxLcqYuzyGvrpVEWDI62TeOiPD6ZsiOTW/LepOpl2YgOO23dXEJm976QDlnMGeDA2LDtUt+Nv3N9VUxQGWrwBgXYbY97FaT7jDivOXd6d9yLTKpPtb04SOXwUD28bxyDMhjNual8bWxP/zGy1ULOAKBfgksKsKWaCaJCRYW7XvaI1U21WdBE8WKXPYze76smInCqkSjqrBpBVdePpSfyFzJdhJZejN+rY/Fom1PaXeOpA1eF4IuibA0+TR/NYqOaR7u4lo8zEJD2pAb87V4ohLTdboPaDOpxDxCXJFlVS/vB6IolhCJsT2U5k6O3Ljv4dWJ/EJaM0m7k5dtV3rgU7SpTLAuq/xluMLHybYZFslr4yNvhBd2qS+KL8xnjIPTTrdvcp9KzikKJtru+eMKmhkTpeMXj6tZPpjlWI83j4T2fcC/3LeVb9sfbIvq0/eL/CDGcDnZz1PtbO87rl28uxz5OvlRRVi6b/iPmbrxnXPb/tb5S656kHlpDv7GfDvm+B4uZUfG9fkJ+0xVD/Rd9QpHINA9gb0QYSRakhDjTyHynqwkePS1x2JPFl1Pwq58+pCXDu0+LU6XYq+p19om+1mIlfJyaXM8EhbFmF3SdMQj5VtMhNGQzQ9UEhzxn5rYqxhJwidNMuUB6gx5+9CNWRzhkSbPukdETUzCrzoxVl/H6ueHdWmPFFLZ31q3eMhHH9kfmsCcCdWwIj+89lb72Z4RU+3+m/G6YnuVf1NClFnViZia7vmakKT6KzNdzi/rTYpeWoYu3iofwZ/FII9DISK4KPtfyxNfaYNzDr2P+Gf6Vo27bC4KCHV/pAvSn/GxSfmnWW9chBXGcrxXZpMijLIaXvUPI8tYt/fB2YX+WaORcS250ticZlvbgCMQ6JHAjokwGUWaf2wjYSXSJCJJ66Zt0vYqPs1djuxxEMInEFiXAIuwdcujHAiAAAjcJgGIsBsKMYiw2xy+qPuuE4AIu+sjAO0Hgd0m0J0I+/2PP8M//16N7AubHwHjSNImhdImbbP/U+/Ei7jhBQJ3jQBE2F3rcbQXBPaLQHci7POXv8Lf3y4XFWFTImbXrxMv4oYXCNw1AhBhd63H0V4Q2C8C3Ymwq+v/YlSHhMXSEbFdF1vWf+JDnCgKRtzwAgEQAAEQAAEQ2B0C3YkwQkeCgiI7JC5owzn++QyID3GCANudGw6eggAIgAAIgAAT6FKEsXN4BwEQAAEQAAEQAIF9JQARtq89i3aBAAiAAAiAAAh0TQAirOvugXMgAAIgAAIgAAL7SgAibF97Fu0CARAAARAAARDomgBEWNfdA+dAAARAAARAAAT2lQBE2L72LNoFAiAAAiAAAiDQNQGIsK67B86BAAiAAAiAAAjsKwGIsH3tWbQLBEAABEAABECgawJdijB8Wav/5az2S2vxZa1d31twDgRAAARAAARGCXQnwkiAkbjAzxZN/1A5frZodGzjIgiAAAiAAAh0TaA7EYYf8J4WX/Y3JPED3l3fY3AOBEAABEAABFwC3YkwioLhh7tXE2LEi7jhBQIgAAIgAAIgsDsEuhNhtO/JRnpwPi3KiBtefRA4PzkKBycXfThjvfj2Jjw4PAoHh0fh+KO9iPOuCXw8jf12cPgovPrWtafGue/h1cOj8ODsu0nHKQiAAETY1bTA2QUROFeEXZ49yg/yNBHTZHzw8E24xL2wGIF+RdhFOIb4Sv1cBA3fB6fhXI2AJBzi/ZFFayNclQ2//GLCI4rnCfE1mof6frx8+2wYz69wjZ5AhI3iwcU7TQAi7C6KMCW68mSj0obvifignpl32EpnV+JkaifR9X3cjAhbYCIbnaTXb++NSy7Mf9qf7+HVif7DI/aZGteJ93C0UIsa2+fxPlkyGjqH0Wj/an8to7b9IVyenS4UcVtg7FqHcQ4Ce0JgJ0TY15fPwtN7j9t/99+Gr0uIqPcvhO1n4d1nGR37EF7bupeqdwnfs42VImFqsgkhjD689UiHCNM8vDM7IXt5Vk9bYCJboZ9X9+8GJeYIjBuYn1W0YTMRNSSfpcii8uW+orLLifro/xxGTRtky8dE2Ng1aWPd4wXG7rpVoxwIdE5gURH2y6+/hZ/+93P8R8frvMb3hCVB9Pq9FEk3PSabL8KnLGaS4KvnP6709V6XJpMISxPH2BKIL6JSufpXfzqvSzG0LJEepDVt/jImi5JYd1naaScpfV3sWXImoJRX26B6httu/U9LLdG34hMtTWWbVGeZVHkkW06UblidXARuL5ei98G20UVuX5xEeXlMtN+kUx+UdsaytYwSBsIBWz+3k31lDsVusLyEP9muLVv90mWrTeGQtOHxj9e1HbJfx2gywD4khsxhjWW0RsBQv47YIe4DIox8sn62LZcp4+3kvin3XjMus62mDbKOsfakMTzWT9LS8LG5Fwq/1D5p345HeS3aHxnXlsdqrIe9xxUQuA0Ci4kwEl3lIZEfqusIsXVFmI2WSaFG156//BI+PanRNHldCavPb8PzezIaNi7Cpm1/Ce/u13qfPvkgPniQrpEv1TdZNwnMJDxLJHAgCncjESYf3nnClw9FuSwRH55Dk8DACOaHZrWZJx0xiTV2sx/pAZse7vVhWyetmmbzaGeiD6o+sdTCIkgWobSmnbaOdF7bJcSWquuRtqXaxiJMi9o0SUmR2U5kbQTzIhyLemVz4rHs53yR+6ZypAupXY3IkOIvhCQ2pTASE2exF9NGxAxV5/Ff0Qfpa2I3UWduP78NjT/5TCttokKGJXGM44DaMtYHXGF5n8faZ1SMpAPjk75K9Yww4b5byXdRQx7T+l7ge8yOXTNOc9nCt2lHzd/008fTFQWv8BmHINABgcVEGEXA5AOLjilt1ddaIiwuJ4roVTyvYoYFGgmxKLhsfrksuIYII4E0ZDuKqyK8kugqea+qQOM0nT8JML6mxKL0+eo6JBE2Tbt5iJnJzooVa7Etb3O059GmFTRq4vUnCOlLmeTIfHxIn4ZjnvhEmt5czb7YSYDT87vyRaRZnzMrniyGWEi/k6BpJz+VJ9Zv86TJmesKOTIlJ7lZE7NsajO5ZSFl2jnULpuu2hDryeJYTeQT7Kmcw9/Wxc2w6dEH47/Lig1477H+ieiVlyenxede9KGO4+gnR/gUD+2AbQ9fbdIdRpy3vGcxY5/D9dyOsVIyH6QxF/OP+GxL0Xk7FmSuqTFgro+0dbweWSeOQWA3COyBCLPCJi1Pkphh8RJFWBFCHF2qIq2KmyyKmrwikqWiZNdh3LYTRSMBWKJZTn3ierRd8o4vu64kwnhyyO91Yk8Pwzrxt4O4mRzaLE2K++CUD9qxySNPBqpeKkvp9J4n4Hh9bOKI9YnlRuml9IXThW1O4ggR86F2VXY1l2rvjLZ5IsTW5QuL1F80aXp+VI/y0ZAIM9yG2sXil4Wuameswkymg2nGM4f/+j4k261vps58GvONRYhEMTUGRTofFp/V2Bm/p0oZNsLvsa9EJNRhxFnLu9O/5Vr8A2JKhHFuFmOifr7kvo+30R+7XAcvIcsxPDKuy/00ty2uw0gEgW4ILCbCbm85MgkZu7w4LcIeB69MFUgDoseLsjmiLdqOUTUp4PJxEVa+7ywKdVRswJ8lNuaX4Tj1MM3LbU3koRhwD9wJUU4qdsLxrIgJhuwlIcSRh2m/2WScSKP4FBOM9IUzqomUE9PEsboIE3WxKfnu1W+ibv5ExkbqhDYqxgRDLun1zVxh0JZN/aB98NK49vzutH99H5LN1jdTJ+953orudgAAIABJREFUW2Esj4owMV6obh4jVCuV00yqL3Pb6Qv1aiceOf1bc/C9UlPGj2b0WzEwdf9pW3wPVkb6ejHLUXrvj4w4ZkjAQYxVXjjaRQKLiTBqPAmx7W/MT0KGo15JwOi08WhVEjdR8IgN+iyE2neKbtUo2qjtKMLEMqlZQvyRlyOtGOQ6W9vDQmylSNjIxDM1eY1ORAN3gGtTTbxa3Phm+EFPeauoSROeTvPLy1RTn/Il5/PS4iRXJ9jYroZl8rPuCzJ1STf42KtrJRGWDE32jTNJe30zZMemt2W9ydRL44bnd6f9ti4uYdNbHyjnFHPbR2x9/N2vi+urYoDyVYExLsJse9iDJt1hxHnLu9O/5VpkUn2s6cNHw+1ty4znlWNAHrMdL42vjf3hN16uWsARCPRLYFERtkQz19kTFsWKFFBmz5cVM1FwlWgUb4ofE0tV/Niy47aTGNSb8autKRH2I0fShkQaizV6TyIsTT5Df3VT/zQPd9tpWWhIG3JjfvsX+XSd7gPaTCoxjxBXyVfe2JucjL5TFEssn5W0RgzJhtnvhTKTtDt52XalBz4t/ZUJ1mWVvwxX+DjZNsMieW589PbdmE3J8/pWT8Ru33AEQrQhLUWKtnv+ePvW3DTZN7zHT/vFQkr29aAPJlLi8VY1xn6rQl5d4xPDNo173X7OSvXp+0V+EKPtRy6X3tP1qXa29522Es/cccz5qJ7KON03zKBufOfclrXOX3LVA/de4PtXiyU75vgeLgwNezmuz0/YZ6pa263O4AgEdofAXogwEiFJiPHSX41Utdceiz1Z14GFTvn0IX8nGC8xRkHHdh8HK6h0vcZ2jHxlIcZ25Sb+iUhYFFl2SVOIx3hdLUemB3p5mDnjUD7QnMspKT9Qy4ZeJXCqGEn7sabrtA/dWIkjPNLkWfeIqImJCmW/iggSaWNt5od1aY8UUqnF5ZN+/NUN1Uf2hyaw1FavfrZNfnjtHW2bw4JFyFBdsb2xHPunP12Zm6XfnEna8zUVSm3ldnnLPm1Zb1L00rRbdFb5yEl2vg+1PPGQNtq6WFDVtgmGLDwtWyFgpMWh+0n6Mz42ydp0Ozcuwsw+UdvfSShNcB18btgxoNv74OxC/6yRZS+eP5Ir9d80W9lbOAaB/gjsmAiTUaT5xzZaJcXLTY83aXsV3+YuR/Y3BOERCKxPIE7KLJzWN4OSIAACIHArBCDCmn1a88UdiSSIsFsZt6gUBCIBiDAMBBAAgV0mABEGEbbL4xe+33ECEGF3fACg+SCw4wS6E2G///Fn+OffK/Gt8qtFplZZwtuXvMSLuOEFAneNAETYXetxtBcE9otAdyLs85e/wt/fLiHCVojQES/ihhcIgAAIgAAIgMDuEOhOhF1d/xejOiQsEBEbjwISH+JEUTDihhcIgAAIgAAIgMDuEOhOhBE6EhQU2SFxQZ/6wz+fAfEhThBgu3PDwVMQAAEQAAEQYAJdijB2Du8gAAIgAAIgAAIgsK8EIML2tWfRLhAAARAAARAAga4JQIR13T1wDgRAAARAAARAYF8JQITta8+iXSAAAiAAAiAAAl0TgAjrunvgHAiAAAiAAAiAwL4SgAjb155Fu0AABEAABEAABLomABHWdffAORAAARAAARAAgX0lABG2rz2LdoEACIAACIAACHRNoEsRhi9r9b+cdckvrcUXvXZ9X8I5EAABEACBO0CgOxFGAowEAn62aPwni2764+P4yaM7cHejiSAAAiAAAl0T6E6E4Qe8Nyu+rHjDj393fX/CORAAARAAgT0m0J0IoygYfrh7e0KMWBPzXXudnxyFg5OLDt3+Hl49PAoHh+P+Rf8pz8M34XJWK5LdB2ffU+5vb8KDw0fh1bexwtmXLjmN+T11zbCYyt7T9Y+n4eDwNJz35BN8AQEQuDUC3Ykw2vdkozU436woI+azXnHiHxYOl2ePVhAVs2oczNSrCJvj13qcjPCACAtFkA6Okg4vQIR12ClwCQRujwBE2NVmBc4uCMiVRdjhkTsBricu1hv8c8TOepZvUsoIpQFT6/lubDcizFwfqHs/kne4rRsRYTvMYz8GJFoBAmsTgAhbVYR9fhue33sRPq1a7tbzfwnv7j8Or9+3onM1EfYovDqjJZV2KQwibN5kCBG29vMqF5zH+aa1bKQ8RNhGsMIoCOwqgUVF2C+//hZ++t/P8R8dr/MaWo789ORxeHpP//MERRt5+hBe37Piw0trxUlr6zr82GMRFkXU2H4VEX2JQsLsZ7IiLJ7b/UjCRhwfPCnF97yXKttN/ug0HlNFyMhyjjAM4SIc094r/qd85sn8ouzjOv7INbTvyh+75yu2S9RzeBRaW8YXjihSG5RfVHfKW22wr86eMKfutFRnygQ+r+0lLqkO7Vutlzno662/nC+9r9T3xv+mbnP9wVny3y5HxjHB/WzGAo8XziPLcloaI6fhnMdkbtJgWeOXx2TK9ixOIQRth/sshGB94DElfR9gEvJ4KPeGYaZ7FGcgAAKbILCYCCPRVW/mNBmtI8TGRNjzl1/W2C/mCS4vDSIsiYyRTcPxgc8RsDQpy8kslhdiYtYEwyKqiDUx2Zs0WVeZlEqeEJL/7B/dLsmWnNRjueJjEiVeVM/ebKk+ySaXLbaoBIucLJSskXwebQm/w01FWLTr1W3Tss9isk3M6H6t3FKabOsUx7ahK/W9YNjUnUVG04ee2LBMRZt4vEg75LUeD1LU1PYPl615uO/lh0Xm2J7F6dubcMwfyCCn4z1T+4vrlvdHadsUE3H98ux04oMebT8jBQRA4GYEFhNhFAGzIozSVn1tX4SRIHsRPsUIV4603X8bvsrlw/cvTBROL0d+fflMXNfXKIJH4lHmURE8WW+J9GUbVC/5IvM8+SCEaFpiLBFC6/dVEpvlehMRTMJz5eVI/kSemQzihGInVPGQj2NBCTmeUORkxmLKSRO2mwkuGteiY3qCy6LE+mgHrfWZrzfpun7OZt+j77LOLYswPVm3YtqK12mOtoW5D2UbKYvlZcZPsqIFX8MqZjKco109XqwwcceL9YebEf2q9tyynFe8q/E/0/Y6bG3/2LZGlyaZGIaiHTgEARDYHgGIsCJUWDyZKFkUQM/Cu885UhbPOe91+BEFWj2PYkuIobKMmsWTvp5EVInwRVuiriL+sn3jy9eXL6pfV8bWwLkSgFlori3CTCRBTUJhlYm4Tng09K0dL82fnHNkI0/+MU9ZipFLhRxFmDkRuSKJvErla3Rlnr3Gd9e+FiNcVxFQzSTv1W3T7Dm1wdbTpk1zpDL6NUtcGLGTLEh/kr+VL9dh2hHtyP6tx8yrYU6mXO7tHwZu2exKw4b/UJhpexYnqiv2d20X/cFbuRge3DZ37IsP1RRu+v7LTcMbCIDAFggsJsK2sRwpIzpP7wmxIqNWzbERVfG6TKNjbYujV7QnTB7HPWJGhNF1LWy0vSjChChTe8qMqPqRBWGxZ0VZFlblumlrFHgcKaOyst6RsjcRYTyJ02RnxdOsCSZOBHoSsHboPrBpQxOjTKdjnoT9e8mZvLyMQxPqHRJh4xxbaOv2PY+nJDBWEGEsflpXYoocFyXLUL+aMemWZVEkon1qjM60PYdTrF8srWpG1BpnHA/VXxpfD6IPUbDp+7DmwBEIgMCmCCwmwshBEmKb3JhfIkZGfLgb6EseKbh435dM06LJCq9xEWaWA8tyYhV1TfniF/mS/CjtiqKrRtVilE0JKfZfRuX0hxWebl2EceQgf2pSTIZqUuIRHCc4jkRxWf3w98rZNHdiNFEdW4ZdqO/O5FUv1qMm6pQvNenz7DW+m0k/Ws+T/GC0Y1bd1h97TjXJyBM3WadNc+Ry9d0tM6PvtT/JX7nPKtWQ/CvCsGFR/eCjhjldsP7kzNF38QEVr6zXPpU207Yqw86qsrovUhab5vTrDCZcnW9TX8UZCIDAZggsKsKWcHH5PWFJKOnokRRe8jiJGymc5HEbCfNsa6HUlFcirBVxys8mmiVtGwF3dZ32nd1AhNnJp+nPkQd7nKjor2khwngJpQqJNHnITeBpIlxThHmbs8XkyfWXyTo26CIcl+iFM3k1jU4JqX3ST08gzLPXTupGVOTIxuiSk9MXrV3rjz2nttkJ3UmLddmoouToQMtlVu37xp8oSOTSW/2kYO3X3Bdy7MWl8tpfLRvy2SmX/Zbfau+WjX5V+zzW6vifZ5vLDXNq+yz6o5Yj9TJ86g2nfsXke3h1In+twRsHTr8iCQRAYFECeyXCSPDQkqUSMnlJsUSIWKyUCNO4CNN7uJLweSq+JyxeF+c2KjcqwkZFVt5vVvyUAoyOky+lrXFp83Eo7TRLnUNsyF9ejryJCOPJs05CaZwmm7yX5TScW/FgJzNn6ZEs2YgBT4w8IaUPhYhJkW+TMqmyDyIK5y3jcDnnXddlRQkVaCdMx0z6RF4RgjlHFhupHeSjnRSNbcuRzIi2JoFiyrj+2XrIkJMmbFcfvdbVtHX63q1bsSFBZttFdaa05Fvq6yrSPJHCfppyJOTMmOSxxiX4XY2Hh2/CefOLEdO2ydYkJ8P++ON4/9R2m/rVHy3ttSoEuYV4BwEQ2DSBOyHCfuT9UHVPmVjyi2KmLh/a5UhdlvKR+JHlcwSqLEU+VnuxRkVY45cRkRMiLQlAXo58Ed7RpzQ5EsZiM/tFS57kSxFtIiLHImzTgw32QWAnCBgRthM+w0kQAIGdJLAzIsxGmPbi3BNZlGZE3qbbChG2k/cunN4QgaHI14aqg1kQAIE7TAAiTESENi12rH291JmWG+Oy4eASpF2SXOYcIuwOPwHudNNpSU4vYaelQblkfacBofEgAAIbJtCdCPv9jz/DP/9eiS8kXUZoWAHUx3m7MV9/rcTm206siTleIHAXCah9XfFrGiDA7uI4QJtB4LYIdCfCPn/5K/z97fKOiLDNi6wpsUmsiTleIAACIAACIAAC2yXQnQi7uv4vRmZIHNydiNj2xRixJcYUBSPmeIEACIAACIAACGyXQHcijJpPooCiMyQQaL8S/i3PgNgSYwiw7d5wqA0EQAAEQAAEmECXIoydwzsIgAAIgAAIgAAI7CsBiLB97Vm0CwRAAARAAARAoGsCEGFddw+cAwEQAAEQAAEQ2FcCEGH72rNoFwiAAAiAAAiAQNcEIMK67h44BwIgAAIgAAIgsK8EIML2tWfRLhAAARAAARAAga4JQIR13T1wDgRAAARAAARAYF8JQITta8+iXSAAAiAAAiAAAl0T6FKE4ctal/9yVvuFt/iy1q7vSzgHAiAAAiBwBwh0J8JIgJFAwM8WbfanjPCzRXfg7kYTQQAEQAAEuibQnQjDD3hvVnzZH/TGD3h3fX/CORAAARAAgT0m0J0IoygYfrh7e0KMWBNzvEAABEAABEAABLZLoDsRRnuXbLQG55sVZcR8117nJ0fh4OSiQ7e/h1cPj8LBYa/+ZWTf3oQHh0fh+GOHCG/iUmzXo/Dq202M3E7Zfsf07fBArSBwFwhAhF1tVuDsgoCcLcLyxH3w8E24dO6Oy7NHYeiak/1GSb1OWL361cCGCGuQ3HbCzoyd2waF+kFgjwhAhK0qwj6/Dc/vvQifVi136/m/hHf3H4fX71vRubIIOzwKD86+N7cBRFiKgnlsGlgbSnD74ONpODg8DecbqrMrs4iEme64CMf7GPE0rcQpCOwqgd0QYVH4PA5P79V/z19+mbls+SG8vmfFh5fWihM3inXnRdij8OqMJvV2yccVABu6M/qMGkCEbai755uFCDOsIMIMEJyCQFcEFhVhv/z6W/jpfz/Hf3S8zsvdExaFz7Pw7jMLpSSi5gkxT3B5aWx74n2PRVgUUWMREzHBRRFkliWtCIvndt+WsBHHB0dp4nveS5XtJn90Go+pIsJkOUcYhpAmobhHi/ZpKZ9ZNF2UfVxje6SUP3bPV2xX9pWuDUUfSvvF3jFrKzbS+G36hdsf32Nk8s/SBtnW/4/2zmV/0nuOiBU/MlE+/5j2iqm8irETUbNtt33OnRbfU7stZzt2uH2aeVu3vv4ovIr+2z8QDMvZY8CUO7kI7Fdq0vD44X5h9ra9zbgcsG3LWU6NHTlOVL/ZMWnappiEEGyf2uuqT3ECAiCwLoHFRBiJLn7g8Ps6QmyeCLsOX18+C0/vvw1fJ5f5PMEl0+j4Rfgko23W7vsXKgr31CxHRl9KlE4vVX568jiQWJR51JKgrNfaoHrJF5nnyQcRAUxLjCVCaP2+Su0s15uIYBKcvByZJrR2oiuDiyfquOk5PcTl0pudIOK5nZCVjRACTxQln5gcTJqsq0xyJU8IyX85ASdbciKL5cqEwkJIlimtVQepPskmly22KDtPyu1SbTFWJjdZZ26zasup2lyu/Q5JDDhCz/ZBrDcylr7zJCt8YL9Ke5iNFK45TfiZJmthJzMY/tBEsiH7hHy0fnP/1j5v6079LdvFY0f6s+4YSOVq/Ty+5AcumJGsL7E9lsv1kb/MM9/2FKfLs/FxwiJN25liYq9/D69O/H2gZVzjAARAYC0Ci4kwioCx+OJ3Slv1dTsijJY5WTxJgXYdfkQBJKJw8ZzzXocfUaDVcysOSYRFEZTFk76eRFSJ6EVboq4i/rJ948vXly9EdNDYuvLPlQDMApZF2GRfuQKqTi52Io3ncsKmClwbciLlyc5JKwIhixBxnnxPkyJPnNP1txO7y8D6zJmadF0/Z1PvsYzzqURPKMmC5roVZZzV9kFMN2VjmvXdnlOmRjxwWu0b8oN5sw+pXM1T0uNBYqRFwYAIs/2r2mGFQq7FtGPdMeByDHnclTE9c/zkaCy3eRXbXIYZDpXl6y37ltMkE8Ow2MYBCIDA4gR2U4TlyJAnKNp9XEZUReEh0+hYCJ+r68DRK7Ilj6NtI8LouvZD24siTEaoZHkjqn7kyFWxZ0VZFlbluokCRoHHkTIqK+sdKbu2CONJKU+WdoKYfNjTcFYTaxrf1g6l2rQoQspkWO8LmR6P1VIcL82xcJwhmthHKwhilVZQzLA3NME56bHNyv8qbGQ7a+tbTvGaw7gRw079Xt/otCxClI/MuPoq/eNo4ZS4cNsn2xH9deow7Vh3DFC5RlzyeC/jbqS/ox/MQi8FrmJ7ihOxHRsnXiRsmkmNtA5HNHWv4gwEQGA9AouJsM0vR9ZN+RRZGhIi2xVhZjmwLCdWUdeIOCWckhjUkbAaVYtRNiWkzH61LEblcuPTLYswfsjThGWFUjwvE1YeoGaS1JN6ymPtUKpNixOJtW0myaHJrt4qI5NozZSE4lZFWIpeqP1rUoCYdkpXLad4zZSNabYf7Dll8sqptMTPCgXpT3vsl7F+u/0r647+zhNhnpiqfvljYGjsaL+Gy+oPruho1Cq2LVvNaXqc8P0p7QzVX5nwUWpfXNlw7jXOhXcQAIH1CSwmwsgFEmLb2ZhvxIgSNvZaEkpatMlolTxOZaVwksdtJMyzretvyitfWxGn/GyiWdK2EXBXeZ/c1kUYT9b5U5NCrOgJIw/SOJFyJIrL6snUK2fT9GTIN4Ce7GwZzlXf/Um0Xs9HnkChS036DHtNmVSH8lWKDXbGpPntb8VqLG7KxjTrhz2nTF45kzbkB7vdvvuMoh0xdly7su7o79Cybh1fimvrzOA+PutPKppFSREkXlv0GEzldNr6ts0yvOTBbWvSdN2UbZoJG8vvjU1zHacgAAJrE1hUhK3thSg4d09YG/FKS4delIyEUIkQsVgpEaZxEab3cCXhU/ePZeFT9pNJkdQKusbnUZGV95sVP63t5EsRbRwVYxFmljojg4EIIi9Hxoez/HSV6Jd46E3UOU+cWGhZSkykSaTIiTJNCCpK4DzgvUnCpnF9MsqR0oSgyxO1zBMjA6OTqG10Om9suxvQvUnZ2Ms+qe/tsn42nJlbbVv0p7RD1OHwbMWiIyCbOueJsCTUZB87G9OFe3TYjLPosx47bvtM29o+YU5VhPEYXHkM2D4pfrcb87XtdgwkPwWjWbZncGr6jNtfxwkv/yofnfrVffHtTWg/WCBtmg7FKQiAwNoE7oQI+5H3Q9VlO7HkF/dh1eVDEko6eiWjVZSPxI8sz0JMLJcK4aRtWSElbdfyRVhNiLQoEMsS6Ivwjj4xyiKMxWa+Tkue5EuxLSJyS4gwXvZQIkxOXHHf0Gk4txOHmVhpJFvB5aXxJM0TXPowiDNR5AmHPyyiBOCcTzOKW0vX5e0ZaidgUTwdcvvVV0G0tpJQ4T1Fp+HccOL2N/ZZHBpBXH3PjNgP/nkfe06GTZ2xrsE09pXenX5QjiZOpU9OLpo+d9vn1F3blev12hHTpH9CpI2NAVOOhIz2a6C/Tbnjj0kcySVBFofMoLVNwKY5TY2T2mep/cUH46O6L5prU/2pOhcnIAACKxDYDREmBEMTTdrla57IojQj8jbdZhZhK4wbZF2XQJzgpAhY1xDK3QYBLcJuwwPUCQIgsE8EIMJuUcTppc66fKk/1WijZ8ufQ4Rt8ZaGCNsi7KWrciJaS1cBeyAAAneKQHci7Pc//gz//HslvpB0edGx6cjSfPvOcqRYypxvZ31GxJqY47UlAhBhWwJ9w2qon9Seu7w0KPc83rAKFAcBEACB7kTY5y9/hb+/Xd4REba+eFpKoBFrYo7XlghAhG0J9E2r4U3uYi8ZBNhNoaI8CICAIdCdCLu6/i9GZkgc3J2I2PbFGLElxhQFI+Z4gQAIgAAIgAAIbJdAdyKMmk+igKIzJBBovxL+Lc+A2BJjCLDt3nCoDQRAAARAAASYQJcijJ3DOwiAAAiAAAiAAAjsKwGIsH3tWbQLBEAABEAABECgawIQYV13D5wDARAAARAAARDYVwIQYfvas2gXCIAACIAACIBA1wQgwrruHjgHAiAAAiAAAiCwrwQgwva1Z9EuEAABEAABEACBrglAhHXdPXAOBEAABEAABEBgXwlAhO1rz6JdIAACIAACIAACXROACOu6e+AcCIAACIAACIDAvhLoUoThG/PTN+TjW+339bZDu0AABEAABEAghO5EGAkwEh/47cjr+NuZ+H1H3KYgAAIgAAIgsJ8EuhNh9HuGJDx+XG3/R617rZN4EBe8QAAEQAAEQAAE9odAdyKMomD//HsFESZEKPEgLvv4Oj85CgeHR+Hg4ZtwuY8NHGlTbPtUuz+ehoPDR+HVtxFDuAQCIAACILCTBLoTYRf/9/9BgAkBxtE54rLa6yIck7iR/6Ym/NUquHHuy7NHd1J8MTiIMCaBdxAAARC4mwQgwhzBw8Knp/dVRFgUN4dH4fijHtQp6rROVCUJOmtPW1/9LPpzcrF6QVNiPTG3VJu+h1cPj8KDs+/Gq9VP12vH6vWgBAiAAAiAQB8EIML2TYR9exMeOAKMh9t6E/1SgoW9SO8QYZrHen2jbeAMBEAABEBgdwgsKsJ++fW38NP/fo7/6Hid1/By5Ifw+t7j8JT/Pfmw2rLl+xfh6f234es6ouvz2/D83ovwaZ2yV9fh05PH4fnLL6v5a+riSNjUEta0sNGCKk78NhoVhVyOmMU9SXpZc1ZEzJZTS6HJB7lUOhlJyuKylIn2UhSqpKm9ZbaO03DOA9L6ZkRrZFiWcUcih9anQ46IUd1tOds39XykHdFX4Tu1wfqv2IYQSv9pBpOMmQ/eQQAEQAAEtkJgMRFGoktNhodHYR0h5ouwJMBev+dPTKbzlYTNnRBhc5bGdJ5JERaHYZrMZ4mvEEK0aURIEjZaTFQRMjXWbf3fw6uTupHfiyBdnp2qzeyxLiVWrM3kQ+NTFDytoKoea54pnWy3Zaxte+61Iwmuym0W2yIOa7lkp/WptgNHIAACIAAC2yawmAijCJgVYZS26ssTYV9fPgtPbeRLiip5HCNIJNKehXefr8OPGMUSETSOpKnIlomylYiZSS9ls+0crYr+Odd0uvBBtUXXMSQsORI2zjMJgimxRJM/R0XipD4WCYsV+oLF92Uob5tuRYhvT0Z2/ByueLFZm4hS60+KIAnhEm14Iksa966T7Vbw2Pbac7cdym/H5+iKSc8iTI8Dz0/ZDhyDAAiAAAhsm8BOiDB3OS+KqyyGxkQYL+s1eTiqNmO5cGw58vPb8FosNUbhVURcqsP1P/r1Jby7L5cqkyCrEb/q4yoijAWWP5j0ZLy+CEsTfxXeWXREAWCFTPJEij9KsSJkbJkt5qUlQisYOfKmolypvti2sqxIS6rSLyNcqIhd5hNlh5lqnqlmsr0BETaXbcxn6/f8TN7ifxAAARAAgdshsJgI29xyZBIqrTAhwbKcCBvdLzYmwljk8buTd1CEUV4j2Nyo39V1mCfCHGHTjCstPtYXYY3hlDBXKHgibMBkTU5CIgo/IcbaCFIWiFKYqYgSWdQcYh2UR5apFY8ceeIGImwEGC6BAAiAAAhkAouJMLJHQmwTG/NdESPFThPlEgKNxVGTp0aZflwloceb/hvBJ+tie+Vdl0029CZ+138qTz6VZcyh5crk51wRVjdl+2PcChZ7HktFwSIjKY5g8c374ibmbW00kbBBm+aCEVRNG8z1WLpJa/2ZYme8yKdDIsx+RUgWkEI82vY37aAalN+Oz9ELk45ImN9VSAUBEACBzggsKsKWaBuJDfv9XG50SIoqeRzF0aoiTAiyKLgeByXERkQYCSwVRXPyjoowEwmzbedzFmFx4p6I1sTJ3Hzij/omLelJccX7raRgSBO6/pZ2T2gM93aqX9fj+W1FyKDFb2/CsfweLiVMrFDhNsn6uU1yOdJrUxZKhu/5iSzXeum1w7aX+0QupzblbLuoKpM2iy1EWNtJSAEBEACBDgnshAjjzfVVGJm9UzGixNEnjkzpzfPJhkkr0Swhwq6M7SLqjDDLZaMIKxvtuW72Jdn19oklcZXqGtqMzwKM3lcRYXGcxYlYf7WEFAByLBaBEPdAnYbmQ1Y6AAAgAElEQVRzbxKPYiDZ0xu+paV6rG36e7kaEVKL66OmLVYUZfFE/mcBpes/DedGzMQK3DYJW3lP2PB+sOym8K/mZeGXmFG6ba89D0HUzULQ8Vu3zWHr9V+2Xf3TiHEGAiAAAiCwfQK7IcJI8OQIFS/fVUGWhE4UQ3lp7/V7JxJ2dR2iGCrLfyyUkhBiu/TuiiK1dCjEnPXrpfedYizO8pJjEW3ke1u/bZsUYdsfIqgRBEAABEAABEBgEwR2R4S5USsZwdrvY46EbWIQwCYIgAAIgAAIgMD2CUCE7Yi4gwjb/s2BGkEABEAABEBgkwS6E2G///Fn+Offq2ZzvtwfddeOiQdxwQsEQAAEQAAEQGB/CHQnwj5/+Sv8/e0SIkxE6IgHccELBEAABEAABEBgfwh0J8Kurv+LUR8SHnc9IkbtJw4UBSMueIEACIAACIAACOwPge5EGKElwUGRHxIftBfqrv6j9hMHCLD9ueHQEhAAARAAARBgAl2KMHYO7yAAAiAAAiAAAiCwrwQgwva1Z9EuEAABEAABEACBrglAhHXdPXAOBEAABEAABEBgXwlAhO1rz6JdIAACIAACIAACXROACOu6e+AcCIAACIAACIDAvhKACNvXnkW7QAAEQAAEQAAEuiYAEdZ198A5EAABEAABEACBfSUAEbavPYt2gQAIgAAIgAAIdE2gSxGGL2td5gtq8WWvXd97cA4EQAAEQOCOE+hOhJEAI/GAny26vvHvZ+Jnj+743Y3mgwAIgAAIdE2gOxGGH/C+ufj6IX78m47xA+Bd34NwDgRAAARA4I4S6E6EURTsrv9wtxVRNz0nnsQVrzUIfDwNB4en4Xyo6Lc34cHho/Dq21CGW0rv1a9bwoFqQQAEQKBHAt2JMPqx7puKDpRvo2nEdfp1EY4Pj8KB+ffg7Pt00X3NARG2rz2LdoEACIDArROACDNLd/sq4FYRYccfxbiMEZWjcGeFGESYGAyrHH4Prx7e4XGzCirkBQEQuLMEIML2SIR9evI4PH/5xY0kri3CQgiXZ4/CwcnF3bxJIMLW7HeIsDXBoRgIgMAdIrCoCPvl19/CT//7Of6j43Ve/nLkh/D63uPwVPwbEhvbjmSR8JF+Pb33Iny6JWE3KcJyVEtFulQnpeVIe/385KgRYVGYyWVLT6RFASOWNx++CZeyPt639JH2VXG+vP9KlR3Zk5XtWX905K4KgtgWrsv6E0JQ12kv2GwRluooS7nr8GDBy/4dmkhSw6ty0e1/FF5FpjP2qinOR+FAMbHL0449W57ancdZYSHb4eWXYwLHIAACIHCHCCwmwkh0yYcuHa8jxIZF2LPw7nPe6/T5bXh+73F4/b7d+3QrIuzJhxJ9iqJMnG/Tn42IsDhp6sk3CZUqAELIAkRM4EkUTJTjybqUE0LGpnmiptyoF+FYXs92q5isdmtaEhhSrMV2lXqDEBOyraXSdMBtUJvzs3gRPs3iESbawXVJH4twkz6yeNL8jecpwqn8/h5enWShnOuSfEIWUIVhzCPrkP4n5qr8aH7rHc5BAARAYP8JLCbCKAJmRRilrfqaJcKuUmRMirCvL5+piJS8RkJIR6yqoKNyz1++zZG2F+HT+xfJzkwh1YguKn//bfhaomEmiqeukYg012W9bCuLzhhxk9evvoR393UkbihCuMpypOpHISRiXzYTae5hlZ5EQJmsyyAw6apMzuSIvjT5S5FRDA4cWAGQRZhpSxRGLGg8X8h69Gek7ljuKDRtVeVMu4vXQ+mcwbTDrWvAxlB72DQJvkPH73w9ClLDiy6pdNXGYjgfGN8pdTS/LY9zEAABENh/ArspwqJQqkLqRzwXy4DmehRoQvwkwZbyp2OylQUN5YuiR9grgqqNvFkRpqNRyWYVRrkOIaQ+PZH1GHEZ20EiK+eJftV2j9etfV1FhBVBESdNM1FTGgsXdX+kSTeWjQLAFy40iZfoiCcUvInaS1N100kSFVJAlnpypK6ep8JKhA21a6purw1kXqbP5RHdGmmHtJmakOtxWHt5uUzxzykX84i+lGXoWHFK+Yi5ZcvRUZ0+lt9WhHMQAAEQ2H8Ci4mwzS9HyoiPFC5W6CTxUcWQETZRUKUyFC2LIiyKopr2Y1URJvaqqSiYFYdU94Tt6vd1SOKyiq4fOfIVo3yOHVXWCMe1RBgvdUnRpSZheYOIiXuu6PCEgid6vDRRdVrqk2Ix+VIFgD1PhXsTYZPt8HgNsfbyCmZJJN5UhLHBKhynmKcSXn62hXcQAAEQuDsEFhNhhIyE2OY25rMYsaJKiCchPKogofxclqNDtcwiIkxEtmSULYooEYGL+8OseCrRrioyS+SMrtny3EZrJy+5lrKcL7+vK8I4wlQm16HJXaWnSbZE1Mr9ZNJVmZzJE1xeWrHpCSybZs9T4UaEqf1RIs8aX9aqbA8u/Ukeno8mzeMV06QAlRzlfq0CLB/Iuu01s+woLqvlSJFOh7rNxneTt83vZEASCIAACOw5gUVF2BKsSCy0m9m1kIpCp4iTJKi0+JBpVrSREKtpS4uwZDuLPi8SJtOikNIfMKjiMUfCSjtZQOb3dUTY0IRdOm5gYo4iqE7ocSJWwiRNuPJrLFJUp5ahKmI5GVXzRIUnuLy04nMrGFLdconMFwSeaFBLrZnX9Dfm0yc7RVQplyvClQWKEXmWhxU4TTs8XsxV1l+WZjV/gSwetn00Z2O+sPnxVO2F0zzbfqGlTCnMbX7rH85BAARAYN8J7KQIkyKKBJuKPlHkRwod3pQvxIwUcXNFGIkj2hjvbvi3kbBSVxJ7VSBKcchLkyJKF/0W3/VF58WWEWFCSFYGoqwXCcviQE6EeoAPiDDn049JiPHXSkjBUy2yiCj7tOxGb09UeILLS6vVNPvBHpxdmC8KnSPCyGAWk/wVESQYp+rmNqiv2ViTRxFPiWvTDq7L+Ykk3R+n4Xwkr0Rn+0gKx/arJoTQJCORTR0DSsDS9egDt+X7dH7pGI5BAARA4A4Q2FER1gqvJMR4SU8ImyxGWESl7/Sqe8oWEWFyTxhvoi8iKAmx8l1iQrCReFJ+3X8b3skvXB0VYSw2c5uffIhitAo+LdrmLUfegRGPJoIACIAACIBAJwR2RIRpQdEuV+L6FBOIsE7uOLgBAiAAAiAAApkARFiJWO23kIMIwz0PAiAAAiAAAn0R6E6E/f7Hn+Gff6+czfn7LZKmIlk3uU48iSteIAACIAACIAAC/RDoToR9/vJX+PvbJUTYghE64klc8QIBEAABEAABEOiHQHci7Or6vxi1IeGAiNjNon/EjzhSFIy44gUCIAACIAACINAPge5EGKEhwUCRGxIPtJcJ/9ZjQPyIIwRYPzccPAEBEAABEAABJtClCGPn8A4CIAACIAACIAAC+0oAImxfexbtAgEQAAEQAAEQ6JoARFjX3QPnQAAEQAAEQAAE9pUARNi+9izaBQIgAAIgAAIg0DUBiLCuuwfOgQAIgAAIgAAI7CsBiLB97Vm0CwRAAARAAARAoGsCEGFddw+cAwEQAAEQAAEQ2FcCEGH72rNoFwiAAAiAAAiAQNcEuhRhu/RlrfhC1K7HN5wDARAAARAAgW4JdCfCSICRsNmVny3CTwN1O7bhGAiAAAiAAAh0TaA7EbarP+CNH8nuepzDORAAARAAARDojkB3IoyiYLv4w93kM/mOFwiAAAiAAAiAAAjMIdCdCKMf6/5xdb2T/8j3W3l9exMeHB6F44+3Uvt6lUafH4VX34aKfw+vHh6FB2ffhzIsnn5+chQOTi4WtwuDIAACIAACIOARgAhbUPDNFWGXZ4/CweGR+TcmSLyuE2kQYQLG+ocQYeuzQ0kQAAEQAIHVCUCEXX0Ir+89Dq/f3zz6tpIIe/gmXK7eXyF8PA0Hh6fhfJ2yNy5zEY6XirghEjbZG1GsrztOJq0jAwiAAAiAwG0T2A0R9vlteH7vcXgq/j1/+WWhJUuIsPmDECJsPqub54QIuzlDWAABEACBngksKsJ++fW38NP/fo7/6Hidl7snLIqwZ+Hd5xytsuc3WlJcXoTFZa2RCMb05Jr2Q9Uly7RUGe2qZcwcEbNRJY6Wxfe87Jn9UUuhjY9JZNV6RcRN2so+yD1o2rd2aVXVe/govPpI+9jafHXM1D1huqzwqWS2fnt2LdN2D51djuR6x/eljdfNNgpTu+csLyWX67FPWl8PSl/Za15bCxgcgAAIgAAIdExgMRFGoqtMJHmSXkeIzRJhV1/Cu/t6CfHry2cqUmaXFz89kZE0IejsciRH3e6/DV9Z3L1/oWwPReF4OfKmIqwVA6d1AzsLLDmoXBEmN5kLoVBEQEqTAuPyTNQTQmjbkcpI8UVuWH/TkmkVB0mISPHE/tQ8sjnpuIoN6WOsSy7HZhEj86T6pcjK9ZW2hxCccqodkfOYf74NybDxNeQ2FUFleX4Pr07qMnXkVvImKsrHEIKsr2WIFBAAARAAgZ4JLCbCKAJmRRilrfqaJcKiUHoRPimRZM+r0IoCTYiqJNg4v4iEZQGmBRxdr7bGPrnJImyqzU10hERrmWzTRK1EhTQ4W4RJ0UOTNX0YwEkr9cpK8nFTlxUNLES03ZDFRmqDU4bMW+HYVJ8FixROMY+2Z0UJm5HpnpihfDa9lIntliKOrer3kl8np7Oh9sl0eezYsP5prk4BJIEACIAACOwUgR0SYTKSJaNgKSpmo1MU+UppQmSxaFORtHz9Zdp3pgUYLX+m69a+J8ZWEmGT4oeWEa24Cf7GfDuZN+KpFRw0SttJnsWa/OSm9EELoDjSs2CxApzOowiLvkkb+f6wPje3zZAYlenp2Ebmil+ZMYklV9Qa36Koevho5td9jNRNDhAXt491uVgnifBGbPr9w1E+d2w0DJEAAiAAAiDQM4HFRNh2lyOlMGqXJkkgaRFmI1myTLKVNv1zdMx8UpKXKOMHAwbyXF2HxURYHjFRJMWlXSFiHIHVRJWcPIOCqwiFJLCUcGjsDIiwYsMZ6kbolBydizBXtBXn6UCLKXWJTmaKsFQu2YpCVogxr8+4Hnds8EW8gwAIgAAI7ASBxUQYtZaE2FY25l9dh7ik+ORD+JGjWjpSJaNjOdKlvoJCptXjuG9MLFt60S69lKnF2tIiLI0gI3waYeQs7Tl5vAldpTllUtRFCMBgfCEHp8RUvO4s7cX6xvZcJWHSiCFT39CSoExX7RS3pU0vZbLPTd2iLB2W/CY9nho/S5ahdMpg+sD6V2yUA6c/yjUcgAAIgAAI9E5gURG2RGNJyDTiJ0aiZDSrCifK2wijuJG+RqysuIr5i9iStpJ4exrFnRZYxSdju6SLSFicnEeiQ+OTq96cHazw8SZxm2Ymc+oXr06VZm3kevWylyeMchTHtPf8pIq3yEMtrSbxcDDj05EUHarLjU5d0W+z3NgIvFyfiDLxxvxq24gqz64d4E4euVG+bXf2n/349iYcy18EsP1mzyn6JjbuN2PD+odzEAABEACBrgnskAjTe8J05IuFGOeRgi2JqSjEyveMVYHGe77qXrAkyp7ey3nMJyOfjmzS50jYLBGWP0Eq91KlyEueqMV1KRRoNKXJXewZswKqmbxniDAWaqXe03Du2Kl7khxxVMoaUaR8zn5bn5vbJHF4cHYRf76ocDJiLxbLYqjkUYKPDbPw4/1ubRQucmWBRMVi++WHJtiWeLd1G/9qX6V6VXTNlm38FmMh2hXnmbUdG8IzHIIACIAACHROYDdEWNlQPxCd6uQ6i7DO+xzugQAIgAAIgAAIdEAAImxBAQcR1sGIhgsgAAIgAAIgsCMEuhNhv//xZ/jn36t2X9iCYknu41rqmHwm3/ECARAAARAAARAAgTkEuhNhn7/8Ff7+drlzIox8Jt/xAgEQAAEQAAEQAIE5BLoTYVfX/8WIEomaXYiIkY/kK0XByHe8QAAEQAAEQAAEQGAOge5EGDlNYoaiSiRsaJ9Vz//IR/IVAmzOcEMeEAABEAABEAABJtClCGPn8A4CIAACIAACIAAC+0oAImxfexbtAgEQAAEQAAEQ6JoARFjX3QPnQAAEQAAEQAAE9pUARNi+9izaBQIgAAIgAAIg0DUBiLCuuwfOgQAIgAAIgAAI7CsBiLB97Vm0CwRAAARAAARAoGsCEGFddw+cAwEQAAEQAAEQ2FcCEGH72rNoFwiAAAiAAAiAQNcEIMK67h44BwIgAAIgAAIgsK8EuhRhu/SN+Zv8Nn98G/++3nZoFwiAAAiAAAiE0J0IIwFG4mNXfjvyx9X1xn5sHL9LiVsUBEAABEAABPaXQHcijH6HkQTYJsXNrtkmHsQFLxAAARAAARAAgf0h0J0IoygYRYB2TSht0l/iQVxu5fXtTXhweBSOP95K7etVGn1+FF59W6/4XpTacQbnJ0fh4OQid8X38OqhPN+LHkIjQAAEQKC/5UjaY7VJQbOrtonLrFcWTQeHR0H+e3D2fVbxJhNEWINkJxIgwnaim+AkCIDA3SbQXSQMIszfY7aaCFszCvTxNBwcnobzW7knLsLxUhG3HRcgi+DfcQY6ErYIERgBARAAge4IQIRtcGP9nKjbpyePw9N76d/zl18Go4AQYSvcOzsuQFZo6XDWHWcAETbctbgCAiCwPwQWFWG//Ppb+Ol/P8d/dLzOy42EfX4bnmehMkewzBE/veUhMTZHhMXJ6eGbcDkEd3LyzftrynJlippFuyWNljJzRMza42hZfM9Lntmfy7NHdQnU8dHWUfaZSVvZh3IthKDLtVE+Ve/ho/DqI+1ja/NJZNEm7TlSdTtlYvvF0m7Zp0TWEssHZxdpz1KJ5PmMS/2qzqNwYFkV5ik6yMvKdklZt/soqOvFRqm1PbB+cNtKWdMOvi4sWR9kv4ViZ7wdIejrtBes9E+siznzkno9V2PDcmzGzmk4j22+rWivAIdDEAABEAgLfkUFiS6eLPh9HSE2LMKehXefeanuQ3h9b1y09CaypvzZlgjTk1sIl2endQO7N0GViTTfLzxxlwlZTKAmzYqCY7kvLdqRoifZUZM4T6LFbsiiqZZLIkBOquxPzePd6WXyFraTLVHOtj2LrmbDuBF8Y4ybOriNLHrJ2VivEMKU5vESvnOZwq/x3VBorl+EY7ZX6hcsWChxnkBj55EWkLmc9mFGOw61gEyM5Eb8KrpSK6o4LHVl/+SYi/0ghVlplxwvhgtOQQAEQGCLBBaLhFEEjMUXv1Paqq95Iuw6fH35LDy9/zZ85eXE9y/Kst7Te1KwXYcfdI3yyojakw9i6S+JOo6yKbtXuS4RiXv9nsVgukYRLLmsKK//uPoS3t2vS47WNouzuSJskmeZaET0pogEO5kZa7NFmJ7E0qTppMkJ0FTF0Q87idZzFiPabo0+UVTEF241AtNUWhKaCTpe0Xwoj5zUYxbFKIsBIUy0f6W6fDDgr22HFTOOb9ZyU2+0IUWUKaHaYa659bMQ5P6gtrT2lQB17WjGjZDLrig7JeKoI2FVDKdCytZQ+8fabTDgFARAAAQ2TWA/RFgUV0J4RUH2InxqBFpOM/lHBZBrq9YVxaCIyllx+PXlCxHBS4LMW3Yc9eHqOiy2JyxOQiY6waPMm6DsZObkUZNftuWlcbSGRTq9V9HlCJTiqxSU6TiKo+gbiwJuBIu3ViCIHGa5q16pk38WWGqJlv3gOrWgKFaK35wvXxnyN0fDiuCzzGNxr67ETPIct1E8LEupVLaU4ctu/YZrzMM8zDuLUteObocrdDk6yHYGRJj1W4056gPvjwBn/HKz8Q4CIAAC2yawmAjb6nJkjmhxxImEjxY2Sezw9RgJU9ExfT1GsWRUjcVbjmJp29cx6sVpUXTJqFr0TQjAYitFz5r8+frWRFgeYXHCigJDCAVvgrITqZNHTX7SvpgEo7hRkRMruux5jrwIG83NEX0T/nMG6zOni/cqtkSimvyTWKgiUedLZ1pQ2BwN4yF/1xBhbLv6Z3yZwSD5W4VcETVDZWX6SFsKB5m/JGo/IcIKGByAAAjcQQKLiTBiR0JsWxvzi8C6SqKoLCV6y4a8HGkEES8F2iXDaluLNc4vBVMjqqwIy4JR+SdF2y2JsDTWjfBxBFaztOfkmRZhpp5YuU2z5yby4t2ccZKX0bScKfq4TiRM+zAk1KorWlDUdHkkbcrjoTxD7ZZ1yWO2Y9JcAcR523fVhwNlVR67hNqazHvbbD9oPyPjRminPHW5UZdpll5z3cq/gTEQ88j9d57fSAMBEACBLRFYVIQt4fPcPWEsiOhdiiKZXo4nRVjd4/VDRdm85UOdNi7C2g8QNPlXFGH+pCXID0ygKcf38OpEfrLSiAKvrE1bS4TZSbR+4nEwkhMdzpOxmaTPT2r0K/JQk2pq04GKugk++TCV00txja3YViPyvr0J9QMGbbuiQBhhnESAFiZNn1rmggVHq2KZslyXN8nLpUXXhuDw8VQsBZtN9rEsLTFWzryUzPWTpYZX3KwvPujh+mCY5bqk3cRoemO+LEP+KBHGH6KQY8drl0CCQxAAARDYNoG9EGHtcqMQVSRyVhFhV0k4cTQsiqZ7YnnR7BFrRJWKhGlbLPCe3iAS1kzYdsSUicbs04mTURY1Yp9TFUHJUJpYxQRsJ9K1RBhHd6pPxx+NAKTqs+jRe8Van+3kW33OflufLSMWEPxVCIWHEB1cRviU9l7JPEZQxDKtv5ZxERlcrxBT0YTrv62LxWZiyl+TUdi4NrhRmnVsVyNW+Ks+ap8V28KMZi+FE/e5FpxuFCv6quuJdgsX23Z7nhzSIozSTF9QG53xK5qDQxAAARDYKoH9EGEstMRS5FMrnNw9XyTWzCcjxSZ7jqQlIcafcKyb8un6uAizn6x8Ed7RpzqLCGvrpmVL3m/G9dP77I35Wx0+u1uZnuR3tx0b8XxKwG2k0i0ZhQjbEmhUAwIgMIfAboiwvGQnRcldO4YImzOc5+eBCBthtcciDP0+0u+4BAIgsHUCEGE7IvAgwpa9NzAZj/DcCxFGS5Fy6Zj3zdnl0REOuAQCIAACGybQnQj7/Y8/wz//XokvUjX7u3ZENC0ZqSMexAWv5QhAhI2w3AsRxh8cqHvNpj6sMUIEl0AABEBgIwS6E2Gfv/wV/v52CREmxCbxIC54gQAIgAAIgAAI7A+B7kTY1fV/MepDwuOuR8So/cSBomDEBS8QAAEQAAEQAIH9IdCdCCO0JDgo8kPig/ZC3dV/1H7iAAG2PzccWgICIAACIAACTKBLEcbO4R0EQAAEQAAEQAAE9pUARNi+9izaBQIgAAIgAAIg0DUBiLCuuwfOgQAIgAAIgAAI7CsBiLB97Vm0CwRAAARAAARAoGsCEGFddw+cAwEQAAEQAAEQ2FcCEGH72rNoFwiAAAiAAAiAQNcEIMK67h44BwIgAAIgAAIgsK8EIML2tWfRLhAAARAAARAAga4JdCnCtv1lrfhS1K7HKJwDARAAARAAgb0k0J0IIwFGomibP1uEnwfay7GNRoEACIAACIBA1wS6E2G3+QPe+KHsrscqnAMBEAABEACBvSLQnQijKNht/XA31Uv14wUCIAACIAACIAACmybQnQijH+v+cXV9a/+o/p1/fXsTHhwehYPDo3D8cbg15ycpz8HDN+FyONtiV2J9JxeL2VvHUPRhqr0fT8PB4Wk4X6eC0TLfw6uHR+HB2ffRXLgIAiAAAiBwNwhAhBnBN1eEFQGTxQ4JnoNbFhhpyF6E4wnxRfkuzx6FbYkvvpX2XYRNj4k1RJgQ1HGMlfE2QySSmOxiTPIIwDsIgAAIgIAksB8i7P2L8PT+2/DVCKp1ImoriTA1wSXxM2/SW2Mylr02dhwn7Ufh1bexTCHchiD6/9s7n9W4judv34vAoE02yvZ7McYLL30JgSCjLAQC+wIMXmhhg/HCO2+9MtgCBX5ZvEHIEIJAeJNYyrZfqruru6q6zp8ZnRmdOfoMKDNzTp/u6qfPuJ9Ut0ZNmxvLOPX3XZ31YvCOqYv8N03/gr0n1hj3jvGMEr3fn1WjePoyoX4vcBQEQAAEQGBbBHZDwi4+hFePDsML8fPq9LIuWfZK2OfwVlwX6+gRtvUlLIQwevJeYzIee0d0TNr28lYYbInp3zdtjuY1fSylRi8G71i5oPtF0z8qqupaY9z7xjPW3SXcJIAjsmXd3cEZEAABEACBDROYVMJ++fW38NPP/4s/9HqdB0lQk8GKEvYyfLzgvWJJrIqIjZCwt5/42svw8fFhZ+YsSlic+PqzCO6EayfMOEnmfVe0jER7kXLdcmlplT1CnAEp14tsXHPOnYRzdqYsa9Vsir3ei8uWSZm/JBc26xLLiv1Xkll8LWKIe7AsP76BlMjwwRCCV94RkxhH5jQYA1XP7Zmxsv0TkcSXsu5yTsVYJUz1XzAq1/ELdT0f5OdaHx/pfbb3o7h3eq/DSRAAARAAgY0QmEzCSLqKGOTJdR0RGydht+Hb6csqUlnCvtKxnPUqgnaThK1KGMmYdyxJ2p0kjCdv3nO1L7MU38ObY94Av+LkmYc+Tdwyu5HqUXu7eifteg+1wnAejuSknAVEikfbPl+T4pBlqaU+CYuRCF4pMp9LGyv3oy2fYqxiGYIu09TVxMASlqU5N5XkU7LnGOpzUzedUvWnWOhzUlklKfaEN9Y8MJ5umzWk+qqph8euFsErEAABEACB7RKYTMIoA2YljI6t+lhbwki+nn9OWTSSskevw9e4R8wTrpQNq6LGWbLbECVsRNDN5JelJU2maWKtE62tUIuBPeu+bybRXMoet+/dysbsCTMx9tabytr+ri5hWVpUZohYSpnVHZJZrhD3YD0LR8fPxIZ0fX0zbkqSct3xmG1zaEwdppFZK4R236DlpHrYyz2LrpRndbF44/VTnMZLEAABEACB7RPYTQnLe8RKdqtZjiTx4uVLT8Juw9fnh+HOEqaW00R2I5bI4GEAACAASURBVE6cfVkTIzhjxp0mUSUnfJERoIFJm69qZCSeSKIhZbpkaDrbpwtNDLkRKxdNm64YaGmKmSS337kRWQf1ncpK/ibuUTHIOnMzSfDEGJfj9UWsu+ueiMX8cbecao0dS66iQNMfcU6/TG3T2JYx1QXwDgRAAARAYMsEJpOwzS9H6o35RcAo27WyhG0gEyYHTkqAPF5e+5NxOe29MDJRixgBWlPCogioZTITY2f7FImJIQdn5aIRBld2UkaJRYGusRm22nd6VTNU1F66rsZD13NdVHpUDG5ctR3dfn3X1F1P5VeGaT5qOanLesez9lNd0/umirbk0nsJToIACIAACGyEwGQSRtGRiG1nY35dPoyb+FeVMJtJE19tsfZypBqeoQnbn4xVFfZN12Rsj9v3tp78XguDF4851luvKSvbEFks3abdLyUCpbbidcSxL6OYrqF6n7w7D2+e1iXEJGT6GJUeFcOOSFivvAmc3su7XOvVh2MgAAIgAAKrE5hUwlZvvr1i7J4w9RuUK0lYWp4s+8eEgFGdUcKicPRnYJrJ3HQlTnJqL5PcmO/IQM7o9GUnYptKSpL8qD1GvbJUg7Tx2/cpfieLpNqvm7tTeSFMUWT05nbbhvvbjTFE6tez8ObdyC8bddpKG+LpN1NFTJ6EebzuU8LsvefFlzOPtm/NGNThjr8gIDOKsawQZFkUr0EABEAABLZD4MFIGP/WJD17e8FY6qaSMBo+FhneY6UEK0+2dY9Oyp6pMs49kESsfu1FU96dtNuKGiHiLxbNe5pSZklLGNVi268TexZC3hN1fD7825GqPi1LiV3NbLU9kEc8dumYElRuz2xkr33KMcxOwup4u/dSRjEkYXxtfIaAyRsIr0EABEDgXgjshoSZbBUL0yaexy5H3stoPaBGkal5QIONroIACIDAAyUACTOCBwmbwyfB32M2h8gQAwiAAAiAAAhMRWB2Evb7H3+Gf/69ab8138jSJrJg1C61j8c9E3CXA+85JjQPAiAAAiAAAhMTmJ2EXVz+Ff6+ur4XCaN2qX087otA3selfqHhvmJBuyAAAiAAAiCwWQKzk7Cb2/9iNoqEaFsZMWqH2qMsGLWPBwiAAAiAAAiAAAhsmsDsJIw6TCJEGSmSItqjtekfaofag4Bt+nZD/SAAAiAAAiAAAkxglhLGweEZBEAABEAABEAABJZKABK21JFFv0AABEAABEAABGZNABI26+FBcCAAAiAAAiAAAkslAAlb6siiXyAAAiAAAiAAArMmAAmb9fAgOBAAARAAARAAgaUSgIQtdWTRLxAAARAAARAAgVkTgITNengQHAiAAAiAAAiAwFIJQMKWOrLoFwiAAAiAAAiAwKwJzFLCtv1lrZv+Mth168eXyM76s4PgQAAEQAAEQOBOBGYnYSRgJB/b/LNFm/hj4FPUiT+ndKd7GxeDAAiAAAiAwKwJzE7C7vMPeE8hTpuoA39YfNafIQQHAiAAAiAAAmsRmJ2EURZsW3+4exPCtIk6iQdxwQMEQAAEQAAEQGA5BGYnYbR/ahMis+t1EpclPM6OD8Le/kHYe/o+XHd16Op9eEJl9g/C0ZeuQhMej+09C2+uJqxz1apyn/v7+z28eXoQnrz7vmrt919+VP9WDHPdcftyEvb2T8LZis2hOAiAAAhMTQASdnO7E9I3WsLyZBdFJ4vM3v49C0a+a6/fPeuXr1juPBxtS77407TuZM7XT/E8SlIgYQr1uuMGCVMY8QYEQOD+CEDCRkrYt9OX4cWjw/D207TS9vX5YayX6n51etkphKtJmJauKD9jRWyDE1TMgh2f99/t606s/bX2n23anIPseDF4x/q7ls7eg9iOCeuuZZpxG1nhBu/xkRGgGAiAAAhEAjshYSxAJCrq5/GH8G2kRN11OZJjmFrCOC6SsU1JWAgrTN4bnKAgYav8q+ONmXdsTJ2QMEVpg/e4agdvQAAEQGCAwKQS9suvv4Wffv5f/KHX6zz694R9Dm83kI1iEbrP57ESFkVmcD+VzoTROGgBSpO5XLKkvUixTFnCpD1Zq+ybSRN9rVPGYM/5+5pSxi7vGYtxcPv2ej4u7zBbJrdPE27DK5Ut+69kRiW+ljFQrH927MUy9YhwNG86kZmrTCBdn+McjIH2gVUJU2PV9E8EEoVD96f0m++LMuZyzOo9w22lvWgcw3lkwuOd6tRjINsJsn8UHouQ4a2uaeIzewRtnaLb8iXHn2I9CWfctixk4thT40QFdd/ovB1jfs/t1b175lpnvOy9bznIUPEaBEBgOQQmkzCSLv4HmZ/XEbG1JezTa5Elexk+XohlQzpHWbOLD+EVZ9Oef45Lf5ThenX6Icrdi0evw1euJ5//cZPEL2XgTL03tyFdfxnksqLOll2Gj49FBq8je7dZCeOJkybyPCHISebLSd0A701QQ/d7nsDqpMOTrJ40eZLqrc6ZWK/fnahN87EeOZE57ZdrqD+ybGw8MSgTXdOm5JWidfez9bGy53KMSmxlmRExsITR56vEnsdTsW8Am/7m8814xHiqiLFM1LbowsRG7jOsAlGvTceELNv+xbb0L2h41xzJX0Iw8TVi1/Q7i6Qcf28cbGzcx/IZSfwk49LnUqb+T4zm1bK392+sy4lR1+N0DodAAAR2nsBkEkYZMJYvfqZjqz7WkrAoV0KQoki9Dl95qZLFiiSLjonyaZmRrs2yVGRNXB/rIRkTbeS6eZmSlxLjeyFa305fCyFMbXBZmXkbK2GDPJsJhSeHNCE2/+DbCqUY2HMd75vJPJezx+17tzon/qacibG3XiorJ7hYmZkYmzZbCUvyWiWDqqF25cSs46Q2avnI/fjEOZb3yI2KIQuQmPipzcExzaKmJvXYnpCkGLzud+TasNNlUp9bSWHZL23a/lmhihWZcUmVi/+a87ZOUTK+7Drv3D/NOIoyXXztfefxSuNu9kGquPR9wl2wdfNxPIMACCyLwCIkjLNRVWqS7JSMVJQwKVD1fJSmmPWqx5KkrSBhJWvGgmevrVm52l49RnFPK2F6+UlKCP3j3kw48p4Wk4883P06TcplspUFqS4xiY+aWNQEVSuLk1lZNqP+sUD0tE+XmxhSjUOTuScaVrr8ybNGrOugvhOjyt/E3fRbX5/q9Y6tKWFxnM19kvny/eGPlxeD4RmDNcds/9z7zFxD9cTrdJzlXrN1VvjplTv2nKXV9w//j6N+TmXqmOkGLB/7nkrHY+q+5b5kQXf6V2Iwsq1bxzsQAIElEJhMwu5zOVIuBcqN+0rCRHaqylpaTnyxSQmTS6BmKVTGMa2E1QyMvUm7JpRSzp0cy1nnhZEJWcJMgt4kJYvH183EmiZmKXNlP1G8oKd9Om9iSO2Zyb5p0xMNUxfVOzBJ1gwKtZcnfY4ntskiwLIhx82LwTt2BwkTgpy46P/64+XFYHjGaswxy5g4MJPSrL4mCYxkos8PLkcy61J/fqHaTv0pYmfL9mQ8LR/7nqqiYyy1TtVZMsV94BbCQRAAgaUSmEzCCBCJ2H1szB8SmB+UCbsXCUv7yeTy43YyYXLi0rduFQN9vLxTE1Q52vvCm3zoAnvcvncrHTNZmxh76zVlY5uxDbGvyrYpNsDrGGnCTmypzb6Ju7aTN4IXYSORsMfuQcKaPuue0juf67YkzAhXDM8cG+pDHPv2s5CyqlV8/H5WHvF8I6yJgxRxr57Bz5u3VFybxisQAIGFE5hUwqZgtdaesGa5US/13beElYwcZ8Xk8mXeWzYkksSFHv6EIMgPTUxDG/Od68e1af6P35kAvUlKRJ5e2vbte45fZlFiGd1+2Zify9dsRJ485eb2po0uAUlZpyfv3tfMVtMBecBpizd97+t4vaxOy8sToDGZMO+6HJuRi7PjITnx6jJyFBGYY5axJ8dKSNp2Io+BcZP0yy8RyD7me0Vl4WIsRqqv3ofySwHu/fUs7YEtct1xzzjXxv1y9jp5P8d9fvqXUXS/8A4EQGApBJYhYSQyZfM9/yai2Jd1l0xYUy/VX/eXNZmtKFq17XielyEfvQ4f6Utfi4TJ37zkuP3vC5tOwujWTRNk2XtiJgCe7Hiiiu/lRObd/WVy4z0vdTLn4q1U8BnxHOvR2YuUuRD1ehO4bV/GmyfZ1F+qe0AQKBxRXxW4elwdE+HblzbrQufTMd1HT8LaGFoxKfXJ/tog6L1gUDN4WcTEniXZL3+8vBgMz9i+OWbH1RtDJWGVNd+nR18G6vT6LaQ31kOcvLYFn9SeuX/F/UDniZPlY9+XcMy18jdLuUy8VoyDzLBxGTyDAAgsj8COSZjJcOUsktxbtdTXLGHLuwV3rEdWJnYsfIQ7HYFO6ZquCdQEAiCwcAKQsB0ROUjYPD6Jw3t85hEnotg0AZOV23RzqB8EQGCRBCBhkLBF3tib6RQm3s1wnXmtlP0Ue7jcvWYz7wLCAwEQmCeB2UnY73/8Gf7596bzD1kvdbmxr1/Eg7jgcX8EeM+O3DN1f9Gg5e0SSPLNe9PK3rLtBoHWQAAEFkhgdhJ2cflX+PvqGhImMnTEg7jgAQIgAAIgAAIgsBwCs5Owm9v/YtaHxOOhZ8So/8SBsmDEBQ8QAAEQAAEQAIHlEJidhBFaEg7K/JB80Ib0h/pD/ScOELDlfODQExAAARAAARBgArOUMA4OzyAAAiAAAiAAAiCwVAKQsKWOLPoFAiAAAiAAAiAwawKQsFkPD4IDARAAARAAARBYKgFI2FJHFv0CARAAARAAARCYNQFI2KyHB8GBAAiAAAiAAAgslQAkbKkji36BAAiAAAiAAAjMmgAkbNbDg+BAAARAAARAAASWSgASttSRRb9AAARAAARAAARmTWCWEoYvax33BbX4MtdZf7YQHAiAAAiAAAj0EpidhJGAkVzgzxbdDv79TPxZo957GydBAARAAARAYNYEZidh+APew/L1Q/xxb3qNP/A9688YggMBEAABEAABl8DsJIyyYA/9D3dbyRp6T7yI2/we38Obpwfhybvv9x/al5Owt38Q9vafhTdXWwjn6n14sq221uzO2fFB2Hv6PlyveT0uAwEQAAEQuBuB2UkY/bHuIenA+TZbRtzGPq7fPctCQlKySTG5PwmLfTw+T0juQ4juo82xN0AuBwlbERiKgwAIgMDEBCBhZmlvVwVvrIR5E+/1u5OSHYryMll2ZFMSdh6O9g/C0ZeuTwOdFxmvmAU7CWddxTdxvJGwoZg3EQTXualx4PrxDAIgAAIgsA4BSNgcJOziQ3j16DC8eP557SzgOAkzcuLcMYuQMJIuKZKQsPksCzv3HA6BAAiAwEMlMKmE/fLrb+Gnn/8Xf+j1Oo/O5UgWFZKV+PMyfLxol+XcTFZz7WF48fhD+DZGwD69zu2t0W6u/+vzw/Dq9LJbsDi+O0tYyrZ078HqO5+yJWl5Mi9TZpFRS3s8qE2mJ4QQj/ESJ+0FO3cn/5iNi8ugzlIoC5Opq2S94vnaBsVbzsXYUj/4mG5L7IEy9Stp4z7atljs6Di/5rLBZLokH1tPjLkrO2XqKfXTC74mcZV9j2NUmIp9eLaf+/VcZMNLtrkdW8+eOa/CwRsQAAEQAIE7EZhMwki61AS+fxDWETFfwj6Ht48Ow9tPI6XLylWUnNfhqz0+5j1JmBC2b6cvw4tHq9U1KGFj4hgokzJhfZKV7xMWgo7J1cuEjZKwPNmz/FBrLEBSCpuJP8Zjlw6FLIUQkhjI5cQeUYlxyLIhhNiGPnZ2LN9nARVMUpsiLhKg47yJnepbRcIi+jZmj7UXa/2E5zjlUivXLWJnGa5jwfKmf0HCjkUaL4dL09caEV6BAAiAAAisT2AyCaMMmJUwOrbqw5WwmI1aTXxURmxCCfvhxJLErM2U6eN8Xi87kqClzJ6fLZPnXzzqzv4lCRtLOwlBHC85ebPwmEl3jITZCT1FYiZ/T5BKdicLgpWyWJEVGPu+9pvikNIXzzgSVq9Ir7QQdddf6jOMQl8mLF7k1UnHpOglcW3iL8G2slhOqReGu2Wcy6oxi2OjY4nFuo6r9vAGBEAABEBgHQK7IWE3KRO2agaqiNiEEhalSGTGflx8CG/FUmMUL3n+5jaMyYR5ZWxdSep8GV1NwvhWSWKwt1+zH1pGUrlhCUuTfs28cP1GBqIM6aVEFvciHq4wWYGx77m9VmriGbfOmqnjGEp2y5VFbiNn1iaRMCtdHfGXpg3PcpxeJCalL2LZsS5j9mTCiFHTJ6q3a2xV43gDAiAAAiCwBoHJJGyzy5FpGVJmhVZamuQ9V2U/mc5GFVnzlvzsnrChfVuO8HmCZdtsy3hLsJfh42N/WXY9CaM7Rk/sG5cwd6IXd64rTFa67Pt0vSuLdMrWGSXrIMj9TqrfW5SwGBszoThNZlKQacaKz8XY1d44PaZ2jPk6lQmDhDEWPIMACIDA1ghMJmEUMYnYxjbmS0HKYtS72V2Wd8TISlDne2qLM1vOUuSPmyRGvKSYnnW2qhWsdm9bW4YkzC4/bkLCckYoT/5KRvJt6B1LYsPLV2nSbwUiyVLJco1Z2rLCFGOw0mXfU6GejI2p0+uPPubVn2HQk6kvnsliV7KBTV+76qS4E0eSonK9aK6+tHJFZ8Yc88rocU/7yHg8a4udx0URvAQBEAABEFiPwKQStl4I+ip3T5gUqvyapGX0VzpMJWFZuKT8xThY0ig2p61WsMZKmM16edmxVFfKhKWJvkiPRpuWrGymxcrDGMEoS19i0o7XaYmImRZnWcwue6lN8l77dr+VJx50HWeUbL9tnfZ9ZiCvj1Km9muJjfk5nso5SQ4tBRaJaiTMFyEKldp68u59OBLLwrYL6b1fh8po8b4+xd0IV67cXpfGqy5Ns+C1cu1Hh6MgAAIgAAKrEdhRCUsyImWIMllRiLzfonTEqMl88bKjXW6UmTCSLJMN0zLIWTGdCbN7u5q2O/aNWcHrq2e0hImvMUj7h4RIxXunCkUrJbyf6yScNZLBGSIuQ0LiSYOoP8dSZYbrkCJAQTlZpChSqS0SHxIIVY/8HFjpEr+5GRk8fR/O6K8IGIlLIlb7o+oX7ac/hWRiHOBTZI3izBKo6pfxl9ceTzqZ2ub9YO5Xg+Q2qAy3YyWMakoi1tHnEgdegAAIgAAITEFgJyQsbUivv0VIS35WwLYmYbz8yLIWBa/G9vaUvnhVS1izZMnXll84qNfbvrFYesucUubW3xM2xW10z3VEwbDids8xrdK8J2yrXI+yIAACIAACO0lgJyRMygZet0uZxOQhS5iX0dmlT6Pej7ZLkSNWEAABEACBuxCAhDn7zXZR9B6yhN3lA3D/15plzPsPCBGAAAiAAAhsicDsJOz3P/4M//x70/0nfhYiTVOKHvEibnjsFgHef8V7tHYrekQLAiAAAiBwVwKzk7CLy7/C31fXkLAVZJN4ETc8QAAEQAAEQAAEdofA7CTs5va/mNUhsUBGzN//xVk04kOcKAtG3PAAARAAARAAARDYHQKzkzBCR0JBmR2SC9rrhB+fAfEhThCw3fnAIVIQAAEQAAEQYAKzlDAODs8gAAIgAAIgAAIgsFQCkLCljiz6BQIgAAIgAAIgMGsCkLBZDw+CAwEQAAEQAAEQWCoBSNhSRxb9AgEQAAEQAAEQmDUBSNishwfBgQAIgAAIgAAILJUAJGypI4t+gQAIgAAIgAAIzJoAJGzWw4PgQAAEQAAEQAAElkoAErbUkUW/QAAEQAAEQAAEZk1glhKGL2v1v5x1yi+txRe9zvpzieBAAARAAAQeAIHZSRgJGAkC/mxR/58s4j9dtO4z/uTRA/h0o4sgAAIgAAKzJjA7CcMf8N6sfFlpwx//nvXnE8GBAAiAAAgsmMDsJIyyYPjD3dsTMWJNzPEAARAAARAAARDYLoHZSRjte7LZGrzfrJQR8519XL0PT/afhTdXM+nBl5OwN2E8Z8cHYe/4fHudi/GfhLPttYiWQAAEQODBEoCE3WxWcHZBIEdLWBSeg7C3L3/uWYAgYdP+4wUJm5YnagMBEACBHgKQsA1L2LfTl+HFo8P08/zz9rN8Fx/CK2q/p+3VJExL1/W7Z+MzP5uY4OcmYT0ftnVOPaRMWLyXnr4P1+uAwjUgAAIgsIMEIGEbljDOhEUZ6xEhLjf584YlLITv4c3Tg/Dk3ffh2x8SNszIlICEGSB4CwIgAAILIjCphP3y62/hp5//F3/o9TqPpe4JuzcJGyGZnAlLWa2e/UAdWScrCqkesWR5fB5iGbWM2dOOuXHstUdfRAETU2zb7qEyZQK//0L7yTjOHE8URXOMm2OJjNdzmYOg4uEyfI185nbl/rVY3sku5j4wW83UYafiPgh7IzNKmu1JOHPjPw9HhRP1W8crRVzVZ2Mw3GqMSeTVMre81l5nx1cyxmsQAAEQ2CECk0kYSZf6R3T/IKwjYr6EfQ5vH70OXzmrQ8trjz+Eb1IwPr2uy36PXoaPF2KvF52j8vJ6k5VSy4aPDsPbT+J62Y7zWl9r2s7lfQmjfunyX58fhlenl+HHTerzx7yc+er0c/j4mJY1ufxl+PiYXlO5vNxJjER8VBcvhaY6/T7dTcJ0JixNwlISzsMRT5ruBD/wabl6H45kls1KixGb8RImRUVIQJn88zGOncJk0SllQkhyJPrb20fNiqpkaamZRF2m67zcrJ9i0GLUjkPLOZYRfUlySpIl+pMFqMZXOVT5rPzqsSRu8rqzY1FvzqA2/ZDxUMhmfFn45HVtz3AEBEAABHaDwGQSRhkwK2F0bNVHt4SRULBkkICwrNyGH1GuWE5uw48oZFyW34vrTfkkUaK8EJnB5cGLD+FtlKYkOLEuK4g3t2E9Cct7ubJgkhhWSUsMtJQJJqIP9Zp+CRscq2ZCZInIk6tzXtXZKyiqZM+bNLmXyd60OV7CtLQkwfKOCXGwAhijNPEM9FHHR9c+C0fHz8RvQKZj/NuejShRm6oN034h13U8FzDcymWq7jy+UkRzwRhXOe4Ia8iCaqWqNNSej2xMeWpHily83MQoqsRLEAABENgpAjskYUKyjNSQ4OhMTxKUks2KEiOvl+dTJqmUFfIyKGBe2Sh4rdCtJ2E5Zs7k3bQSJuP225DXTCFhdRkuSrecNGlylO/tR2HdyTMKg253MxImhItit/Ha97F/RnbcMgKEPE/9Il6xf7ltOi8YatnJ9dg6ZOZKNOUKDJ837fBh3eckV4V1KZTZlDh19o6LdUmV+p+1UkcrZSXrpZZC+T4wY8WN4hkEQAAEdojAZBK2+eVIKVE5s5QzTnLZjZff6LkIipCYRqxMVqw574mWOsYZqbr0VzN2VXp8QRpajpyjhJlskbzZuyZ2LiPlgY8NPEcJUXuQjPSYjI7ONOXKTZl2icsRLrrUxmvfx+pNPG4Z2clanmJNWZ4qO1acFiNhcQz0d55ZSbPvWcJcCZRI8RoEQAAEdpTAZBJG/ScR28zG/FZWpNQMLbfF5UlniTAJV1v3KiIWBVDWvfhMWI+EWdmxH4pBQbEXVGGpZ8wx02Y7kbNMibjNNbFuLzZ7zL6PF5p43DI1enqVROs8vHlaY0pCpo9x2Wb/k2rDtF+a6jqeC8Q6avt8WeQnMmuuBPJeNrMcaZcN5VjI16qt3kxY93Io14FnEAABENhlApNK2BQguveEiUxYFB2T6Sob1mv2qchUXyYsL/E1G/1Vtist6ansWj4fJaxs8ues2CrLkbUfUSwf8b4uIYci/iqcckk19VmKaem7WsJ02NzchrttzNejHidtMYmHIDbmO/JjJ31dW7vMleoXv5Fo64zvxXlqPy5nCeGw11CjSmxyFPaYfR+LGdlxy+hepbbkLwZw+2ZTfCM7flyJoegfXycEx0QQOMsklz5X25gv22vHidpT4mW55HFS7dsyVEk8JsczbdZXv6zRdg5HQAAEQGAnCOyQhMnlviouRTZIVMpvCYpN+CRLQmJK+Q7J4jrKUqaULbnEyddnISzXndKXo7KEsZTp2NUXp8q4n38WG+/vKmF0vWm3CJ6WsSkljO56FiXe+yOXk+q5tKenX8L4t+N4HxBNxkZ6HKFKdfI1J+HMlrHvKehOARB7j7wyWfJKH90y9t+C1AedOcqyWLJL6ZrIyxzzYtV91st+tvX6PskTj1MUIi9+FqayN0swiZWNkDB7Xzx9H87oi36VKIp45PEYE49nK6q1P3gFAiAAArtFYIckTGTCWIDwPMk38LOE7dati2hBAARAAARAYLcJQMIgcmU5crdvZUQPAiAAAiAAArtFYHYS9vsff4Z//r0xGR6xNAdpMmz00mLXcmvXcWJNzPEAARAAARAAARDYLoHZSdjF5V/h76vrSUWjS0Bw/DayJuZ4gAAIgAAIgAAIbJfA7CTs5va/mJkhEWszYnfL+kC6Kj9iS4wpC0bM8QABEAABEAABENgugdlJGHWfpICyMyQItGkcP9MzILbEGAK23Q8cWgMBEAABEAABJjBLCePg8AwCIAACIAACIAACSyUACVvqyKJfIAACIAACIAACsyYACZv18CA4EAABEAABEACBpRKAhC11ZNEvEAABEAABEACBWROAhM16eBAcCIAACIAACIDAUglAwpY6sugXCIAACIAACIDArAlAwmY9PAgOBEAABEAABEBgqQQgYUsdWfQLBEAABEAABEBg1gQgYbMeHgQHAiAAAiAAAiCwVAKzlLAlfWM+vpl+qR8d9AsEQAAEQAAE7kZgdhJGAkbispS/HYm/0Xi3GxRXgwAIgAAIgMBSCcxOwujvGZKALe2PbVOfqG94gAAIgAAIgAAIgAARmJ2EURaMskdLkzDqE/XtYT6+hzdPD8Le8fn2u//lJOztn4Sz7be8nRav3ocn+8/Cm6vcXHx/EI6+bKf5B92KZf+gYaDzIAAC6xCYnYSd/9//W5yAsVBS38Y8zo7vSVjGBLdWGUjYWtjGKXDXswAAEP9JREFUXGRFABI2hto0ZSz7aWpFLSAAAg+IACTs5nZr0ndvErbVbNB5ONqfUSZmq32/h385BkVgZuNxD4hqk+l/Bp68+14P3eXVIPs1K1/6PbsmFlwGAkskAAmbWsI+vQ4vHn8I35x6IWH38BFa+oQ2KAKQsHrXQcIqC7wCARCYA4FJJeyXX38LP/38v/hDr9d5+MuRl+Hj48Pw4pH+eftpe1ksXlIcfB6UsDQp9v3fuF2O5PfX756Fvf2D/GP2OcXJmM8dhL2n78N1CCFeW66h8/k6lpP4zOXTJGX3E8V2c31lTPk6rpvO22MlI+ZNfulY7U+bPRvV75B41noMF+5nCdx7YeoQfU38dJ3xGJcp9es62vHV53l8OJpxfQ1B3wPPwpsv3p6wvEesczwoFrGPLAfBMaS3PGbnaT9fGcsQgr3XBvb6lXpVPG37wY4lM44B9cTDEPlZtZOX9m3M+wchjVGqd8w9P8g+tt83ztyH7/pzKfoZWfFnKj7re4+7iGcQAIFlEJhMwki66kSYZGAdEeuTsFlKl814bUrCyqRBN176x7xudE//8NeJ5Ht4c5wkLN6mRRTETcsTlZpAx01IaTKSk6hsz8ZS461ikicq2XaeJGuZKpD1mO03SclJ3ZTO0ikmteD1XWDgib+yy+2WOurE6bJkjiy3VKjpS8skTraljbF9JQmXk3LmKIUqti3Hpm079VmWSUCKLMW3mbWsu/RNXtuOSaqt/reIhRjv9h5q49SMOuKpzaRXXv9Lu2Ys4xXpmBx/OhzjE+OT4h1gnyVS1uX3Qf4PR+p3vcdDGL5nbafxHgRAYFcJTCZhlAGzEkbHVn2sI2Ffn1OG7HX4ykJ08SG8enQYXp1exv1e305fxtepXMqmaaH7HN6KLBtfF7NeJFXPPweqgzNx6vzNrToXy0y8HKn/Ic9EpVw0E4+hLsvyqXhMTqZ0YsyE1E6WXGV69s7ryc9OcHy9PT7Yb75QPtu+2veyLE+2ZZLOJy3PUofTN5ejnsRjvwbaGO6r0zaFa2O17x0xWEnCTNwUpxIGiqHwMXDzW7dv+V7juoYZpXuo/o+H31Z/LPo+TDXc4Z43rNftg73v+/vQ0W8cBgEQ2EkCi5CwHzd5ufL558CvpSixQJVjJFZF2tK15dxNErIiabHsYRSxImXl2tvwQ9WV329CwsxkaP+hjhMdLV/YcnRbepOkd2yMhMWJR2YE7H3vyYKe/NyJnKoxdcc+2f44ccdJrGsJxykvIy7c1PWUydWCWsqNiCfWL9ot1/a0MdhXw6b0wYhAI2V3lDCWpNReFqGmH2KZuwRWX7h946xl5jnMSN9DtXb7qsaoY6dyXh3pmMxeUUklRiPZr9sH1RY1Lu4d2zu8BwEQWBaBySRsG8uRnIlKzy/Dxwu5J4zk6WX4eNpujI8SFgWNy+eydD1lzYw0qfIkWeq8uDbLXxE2ysQ15bnN27Duxnx3EnP/oa4TkJIxr6x3bOckLAmf2l9l+2Xfm88vsW0na1OIJ2WSjzUlbKiNwTEeKQLbkDArLC0tfcTtmyNh/Yw8gdLt6Hf53nCW8XU700qYrltH5EugET66ZOCetbXiPQiAwO4SmEzCCAGJ2CY35ivZ4aVH+RyzUlbO8nJhI2GHIdYXr9Eb/qPkcflGquYsYflGtP+I2/dUzDvmZgrsHikv0yU/AN55PYE2/+efL7fH3clbxi1fcwj2mH3P5TraNKfT2yJATt866pex2355bcjy5bysO8Yg9xLlUrGMyNrFcuJ9ZybM1pUFvkimHjOOyY2TT3Y8+9dolsOM/Hg6miyHdb1eHd4xc8+PZK/bKiGIF35bzXVy3MXVeAkCILA8ApNK2BR41tkTFpcJ4z6w1+FrlCqxP4z3bLFURWkTItVIVs1cleXHSTNhafLp+z9mO2nZ95Gz/If66n04kt99JM9R4WZi7pKw/H/lcvN3rIt/ezKNcJw01HKd3JjvTTT2WGKgskrORDem3+rb4rNwqM3rloW9SXO7ejzOw1GRET1eqe9iOdbhkwRXSM5gG3nSL23mIE3skYccm9JfIV3NWFv2qe5YV7PxXGb6/OuavlF19v4zjFPcOuPY9GWQUUc8pi2KT2bqrODEdg3nMWPaxNvJXvcz7r8r7fl9sDG6n1fbT7wHARBYBIGFSJje1xU34AvpUsuLN7chni9iRUJWN/FH8bLZtVKWBE0IHNfFbeVfCNDLl1Xq0nKkntS9u8hOFPZ9vEZO0HkCq78YISQhN5AmEbF3R16vgkgTRanr+Fzvj8ll08SVfguWyiqJYTEpX2vgTT5ZxMr+IiESMuYygeWDJm4dx0k4M+f9jJ/qcJbU2pe6HyyzELLCS0plCZTbE30mHlIEYmvNGOn+Do6xZFKYnYQzK132PV0nYqtxaf40fjoGb8xyEKK+dJ+091suGZ+43noPivtQFuxl1BOPrMPGpsaO/4ckjXW9Z/M4M9eOe76J32O9Rh8aCeOl2hhPP1vZdbwGARDYPQI7JWF6T1heTuRN+VKUWIayHPHG/HK9LFsyY3pJsix9NpkyLWFJyvja1+Grs8eMxW7snrDdu40ecMRx0sdE2XcHsIT1lcE5EAABEHiIBHZEwmo2iYVmlWebCVvl2inLQsIW+BGDhA0OKiRsEBEKgAAIPFACkDC59Ljh15CwBX7KIGGDgwoJG0SEAiAAAg+UwOwk7Pc//gz//Hsz6R/VnkMmjPpEfcNjYQQgYYMDCgkbRIQCIAACD5TA7CTs4vKv8PfV9aQSNuWS4rp1UZ+ob3iAAAiAAAiAAAiAABGYnYTd3P4XM0YkLVNnxNYVqLtcR32gvlAWjPqGBwiAAAiAAAiAAAgQgdlJGAVFskJZIxIX2ke1yz/UB+oLBAwfOBAAARAAARAAAUlglhImA8RrEAABEAABEAABEFgiAUjYEkcVfQIBEAABEAABEJg9AUjY7IcIAYIACIAACIAACCyRACRsiaOKPoEACIAACIAACMyeACRs9kOEAEEABEAABEAABJZIABK2xFFFn0AABEAABEAABGZPABI2+yFCgCAAAiAAAiAAAkskAAlb4qiiTyAAAiAAAiAAArMnMEsJW9KXtW7yi2bxRbCz/3whQBAAARAAARDoJDA7CSMBI7lYyp8tusufPBq6Fn8SqfO+xgkQAAEQAAEQmD2B2UnYUv+A95BQ3eU8/jj47D9nCBAEQAAEQAAEGgKzkzDKgi3hD3ffRapWvZZ4ETc8QAAEQAAEQAAEdofA7CSM9lCtKiEofxv/yPmcb7uz44Owd3y++RCv3ocn+wfh6Mvmm0ILIAACIAACIHAXApCwm9tFSB/J62qP83C0fxD2zM+Td99Xq2ZkaUjYSFAoBgIgAAIg8GAIQMIaCbsMHx8fhrefdkvOVpGw63fPonw12SLKIm0oW7UZCUsi2fRj7h/fLydhb/8knM09TsQHAiAAAiCwUQI7JWFfnx+GF4/453X42gjUFOK0moR9O30pYqLYVo1rtfa6ll5HS9g9CQAkTHyO72kMRAR4CQIgAAIgMAMCk0rYL7/+Fn76+X/xh16v8/D3hCVRefH4Q/hWxOtzePv88waWEleToihhIo4oiirOITFcrb1+CUuZoe4lxe/hzdOD0H1ejhiXPY/X0LIlZ5w4k8ZLmW19Zqnz+DxoCUt1c33caqz36ftwzQeCqUdmj6LI6OXUWF/cE/YsvLkqlYQQUnscr+xLKsV9/Z7i5CVaFYusL79mmeJYuHzel1ba4+Mh6PpjOzIjZvorrnNaxyEQAAEQAIEdJzCZhJF0lUknT2LriJgrYZ9e92eYLj6EVzED9Tm85UyZESGdsXoZPl5IORLX5evHLkdaCYvvVdtZIJ24dGaPM3yH4dXpZZFLHXd3li1lwgYkzBWUrjuYxcUKzXk4kkuWWTiqULUxFGkr142TsOt3J0qmosgpMUlt1bZDCE0fs9iUtrmMlFHuaxXNkAWwFUzBi+VL1h1FS4pVrluWYXkTVXF7si9tf9UFeAMCIAACILDjBCaTMMqAWQmjY6s+PAmLsiKyTU02KEoYSQzLVZKqIlIXH8JbKzZFlJIkVfFZLTOlJSwLl4j12+lrIXy2LRLBnvaMfLaCV0UySdgA7SgoUhCofJaUJvvjyINbfSrHstJms9JF62XCTIONvAxLWFc8+rjfV13GxEJvYzxWUttyTT1NP0KIZaSoUTWNULZ14wgIgAAIgMDuEtg9CYtikrNGLDtZwop03dwGErcqVlVWosCVzNlt+EH1FSEbkKKyFFrr05mqnjbztVra+tujPsg+/bghuWTRrDFQn8ZLWLc0aFnQcqVvcSNu+zWrRLLFQiavWVfCYkwsiB3LdzJ7ZMWlK55UjoXU76vmIXuTXzsyxaVif2XcMoPnXNeUL9d2jxe3hWcQAAEQAIHdJDCZhG1yOdLLhCmZkVLliBJnm+qmfrGBfgoJyzLoZqpKlq4uN75geYyxdmXCclaNlzHL8x0kLGe9lLSI+1ZLR4+YiP1hvN+KxatLeqJklExPqtvGodvPotcrL8OZsK54NiZheXlWfiea7hdn0FgA0wB0xinGBy9BAARAAASWRWAyCSMsJGKb2Jifsk16P9QqEhYlTma7pLRNKGEpUyWzV2lZVGbkVNwjJExnwnT2Sy7LjsqEhbzsJcVG3M9aFjwJGz4WZaupP11XxcSrJ29a52udbFFa/pPyMixhuk+1s/q4H48uU68tr5wYvWuaYyOvK+3gBQiAAAiAwCIJTCphUxDy9oSx3MgMkpIZKVVOJkxn0jjDlKUuXluzS7HsIylSSXy6jqs4bm5DfF+Er92b9ooyWioTlpZO7TESrFjXyK+8SBKWpISzUv54ZCGSv2mYC2pZ8MVEZ7Sy1InlyJRh0kuSsV5aXiuZML5OCFUUk4OwxxLW7IfKmTEVtxNj13WibY6xZuKcegaENSJzZKoRRc6Mcb/owiZGPqa5xf16Mm5/QHEUBEAABEBgRwnsiITVvVNqSZFlZkDCfsTzdTnw7Sn/NmUSrCQ76TxlrUi4bAZqrISxMHL2S9ZN3yH2kb5XjOMuwphkjfvG11YRq7Hr/Ws1MzZewvKdytJT9h7R1z3I/Ue+mNiN/E/epa+wUOLH4pHrpnNW3ngZs/wyx/F52pwuZKXIW6znJJx1Sk/6qoooVZ7g2F8+UP0kHn5ftZQ6n3AvHvs1FE/fhzP6clzRL6op8uB+cdWGmx4PLoRnEAABEACBpRDYIQmrwiGX4fA6cRm7HLmUGxf9AAEQAAEQAIFdJwAJK9mo3ZY8SNiufxQRPwiAAAiAwEMjMDsJ+/2PP8M//96ULytFpmtYDokXccMDBEAABEAABEBgdwjMTsIuLv8Kf19dQ8JWyNARL+KGBwiAAAiAAAiAwO4QmJ2E3dz+F7M6JBbIiPVnwYgPcaIsGHHDAwRAAARAAARAYHcIzE7CCB0JBWV2SC5orxN+fAbEhzhBwHbnA4dIQQAEQAAEQIAJzFLCODg8gwAIgAAIgAAIgMBSCUDCljqy6BcIgAAIgAAIgMCsCUDCZj08CA4EQAAEQAAEQGCpBCBhSx1Z9AsEQAAEQAAEQGDWBCBhsx4eBAcCIAACIAACILBUApCwpY4s+gUCIAACIAACIDBrApCwWQ8PggMBEAABEAABEFgqAUjYUkcW/QIBEAABEAABEJg1AUjYrIcHwYEACIAACIAACCyVACRsqSOLfoEACIAACIAACMyaACRs1sOD4EAABEAABEAABJZKABK21JFFv0AABEAABEAABGZNABI26+FBcCAAAiAAAiAAAksl8P8BoeQZ0yb+B9sAAAAASUVORK5CYII=)"
   ],
   "metadata": {
    "id": "fzPruH7JpPkQ"
   }
  },
  {
   "cell_type": "code",
   "source": [
    "###### (A)\n",
    "data = load_data(\"College\")\n",
    "data"
   ],
   "metadata": {
    "id": "B18at8HQuQmx"
   },
   "execution_count": null,
   "outputs": []
  },
  {
   "cell_type": "code",
   "source": [
    "###### (B)\n",
    "College_data = pd.read_csv(\"/content/College.csv\")\n",
    "College_data.rename(columns={'Unnamed: 0':\"College\"}, inplace=True)\n",
    "College_data.set_index(\"College\")"
   ],
   "metadata": {
    "id": "BX10wJ8GvFG4"
   },
   "execution_count": null,
   "outputs": []
  },
  {
   "cell_type": "code",
   "source": [
    "College_data.columns"
   ],
   "metadata": {
    "id": "UMKUbSu1waQ9"
   },
   "execution_count": null,
   "outputs": []
  },
  {
   "cell_type": "code",
   "source": [
    "###### (C)\n",
    "College_data.describe()"
   ],
   "metadata": {
    "id": "984PbtIwxYTV"
   },
   "execution_count": null,
   "outputs": []
  },
  {
   "cell_type": "code",
   "source": [
    "###### (D)\n",
    "cols = [\"Top10perc\", \"Apps\", \"Enroll\"]\n",
    "scatter_df = College_data[cols]\n",
    "scatter_df"
   ],
   "metadata": {
    "id": "CE0KS_vQ1J5X"
   },
   "execution_count": null,
   "outputs": []
  },
  {
   "cell_type": "code",
   "source": [
    "###### (D)\n",
    "pd.plotting.scatter_matrix(scatter_df, alpha=0.2, figsize=(10,7))"
   ],
   "metadata": {
    "id": "D4nWQ1wyx4DA"
   },
   "execution_count": null,
   "outputs": []
  },
  {
   "cell_type": "code",
   "source": [
    "###### (E)\n",
    "sns.boxplot(x=\"Private\", y=\"Outstate\", data=College_data)\n",
    "plt.title(\"Boxplot of Out of state and private\")\n",
    "plt.show()"
   ],
   "metadata": {
    "id": "_oW2xAty0RNn"
   },
   "execution_count": null,
   "outputs": []
  },
  {
   "cell_type": "code",
   "source": [
    "###### only test\n",
    "plt.figure(figsize=(5,3))\n",
    "College_data.plot(kind=\"box\", x=\"Private\", y=\"Outstate\", title=\"TEst\")\n",
    "plt.show()"
   ],
   "metadata": {
    "id": "ZiuMedsh0Waw"
   },
   "execution_count": null,
   "outputs": []
  },
  {
   "cell_type": "code",
   "source": [
    "###### (F)\n",
    "College_data['Elite'] = pd.cut(College_data['Top10perc'],\n",
    "[0,50,100],\n",
    "labels=['No', 'Yes'])\n",
    "College_data"
   ],
   "metadata": {
    "id": "tN2WvstQ6TD-"
   },
   "execution_count": null,
   "outputs": []
  },
  {
   "cell_type": "code",
   "source": [
    "College_data[\"Elite\"].value_counts()"
   ],
   "metadata": {
    "id": "2F9uXq6h7D1q"
   },
   "execution_count": null,
   "outputs": []
  },
  {
   "cell_type": "code",
   "source": [
    "sns.boxplot(x=\"Elite\", y=\"Outstate\", data=College_data)\n",
    "plt.title(\"Boxplot of Out of state and private\")\n",
    "plt.show()"
   ],
   "metadata": {
    "id": "WUcSk7P88KKr"
   },
   "execution_count": null,
   "outputs": []
  },
  {
   "cell_type": "code",
   "source": [
    "#### (G)\n",
    "College_data.columns"
   ],
   "metadata": {
    "id": "OW3LjB9AoYpp"
   },
   "execution_count": null,
   "outputs": []
  },
  {
   "cell_type": "code",
   "source": [
    "## Reihe auswählen, In diesem Fall fokussiert sich die Betrachnung nach der\n",
    "## durchschnittlichen Ausgaben einer normalen Studenten außerhalb der Studiengebühren.\n",
    "sel_columns = [\"Room.Board\", \"Books\", \"S.F.Ratio\", \"Expend\", \"Grad.Rate\"]\n",
    "\n",
    "for col_name in sel_columns:\n",
    "  plt.figure(figsize=(8,6))\n",
    "  College_data[col_name].plot(kind=\"hist\", bins=20, title=f\"Histogram of {col_name}\")\n",
    "  mean_value = College_data[col_name].mean()\n",
    "  plt.axvline(mean_value, color=\"red\", linewidth=1,\n",
    "              label=f\"Avg. of {col_name}:{mean_value:.2f}\"\n",
    "              )\n",
    "  plt.xlabel(f\"bins of {col_name}\")\n",
    "  plt.legend()\n",
    "  plt.show()"
   ],
   "metadata": {
    "id": "LxEeiu6Io5Qh"
   },
   "execution_count": null,
   "outputs": []
  },
  {
   "cell_type": "code",
   "source": [
    "## jetzt machen wir das Vergleich von Elite und non-Elite College Studierenden mit denselben Features!\n",
    "sel_columns = [\"Room.Board\", \"Books\", \"S.F.Ratio\", \"Expend\", \"Grad.Rate\"]\n",
    "\n",
    "col_name = \"Books\"\n",
    "\n",
    "plt.figure(figsize=(8,6))\n",
    "\n",
    "# elite\n",
    "plt.hist(College_data[College_data[\"Elite\"]==\"Yes\"][col_name], color=\"green\",\n",
    "         label=\"Elite\", alpha=0.5, density=True\n",
    ")\n",
    "\n",
    "# plot Avg.line elite\n",
    "plt.axvline(mean_Elite, color=\"red\", linewidth=1,\n",
    "              label=f\"Avg. book cost: ${mean_Elite:.2f}\"\n",
    ")\n",
    "\n",
    "# non elite\n",
    "plt.hist(College_data[College_data[\"Elite\"]==\"No\"][col_name], color=\"blue\",\n",
    "         label=\"Non-Elite\", alpha=0.5, density=True\n",
    ")\n",
    "\n",
    "\n",
    "mean_Elite = College_data[College_data[\"Elite\"]==\"Yes\"][col_name].mean()\n",
    "mean_Non_elite = College_data[College_data[\"Elite\"]==\"No\"][col_name].mean()\n",
    "\n",
    "# plot Avg.line non\n",
    "plt.axvline(mean_Non_elite, color =\"black\", linewidth=1,\n",
    "            label=f\"Avg. book cost: ${mean_Non_elite:.2f}\")\n",
    "\n",
    "plt.xlabel(f\"bins of {col_name}\")\n",
    "plt.legend()\n",
    "plt.show()"
   ],
   "metadata": {
    "id": "7hBcwUuPtesJ"
   },
   "execution_count": null,
   "outputs": []
  },
  {
   "cell_type": "code",
   "source": [
    "## automation for all features\n",
    "sel_columns = [\"Room.Board\", \"Books\", \"Expend\"]\n",
    "\n",
    "fig, axs = plt.subplots(nrows=3, ncols=1,\n",
    "                        figsize=(8,15)\n",
    ")\n",
    "\n",
    "list_mean_elite = []\n",
    "list_mean_N_elite = []\n",
    "\n",
    "# flatten the axes into 1D array\n",
    "axs = np.ravel(axs)\n",
    "\n",
    "for ax, col in zip(axs, sel_columns):\n",
    "    # Elite - histogram & Avg. -\n",
    "    ax.hist(College_data[College_data[\"Elite\"]==\"Yes\"][col], color=\"green\",\n",
    "            label=\"Elite\", alpha=0.5, density=True\n",
    "    )\n",
    "    mean_Elite = College_data[College_data[\"Elite\"]==\"Yes\"][col].mean()\n",
    "    ax.axvline(mean_Elite, color=\"red\", linewidth=1,\n",
    "                   label=f\"Avg. {col} cost: ${mean_Elite:.2f}\"\n",
    "    )\n",
    "\n",
    "    # Non-Elite - histogram & Avg. -\n",
    "    ax.hist(College_data[College_data[\"Elite\"]==\"No\"][col], color=\"blue\",\n",
    "            label=\"Non-Elite\", alpha=0.5, density=True)\n",
    "    mean_Non_elite = College_data[College_data[\"Elite\"]==\"No\"][col].mean()\n",
    "    ax.axvline(mean_Non_elite, color =\"black\", linewidth=1,\n",
    "           label=f\"Avg. {col} cost: ${mean_Non_elite:.2f}\")\n",
    "\n",
    "    # set up plot label and legend\n",
    "    ax.set_xlabel(f\"Bins of {col}\")\n",
    "    ax.set_ylabel(\"Density\")\n",
    "    ax.set_title(f\"Difference in terms of {col}\")\n",
    "    ax.legend()\n",
    "\n",
    "    # add number of elite and non.elite mean\n",
    "    list_mean_elite.append(mean_Elite)\n",
    "    list_mean_N_elite.append(mean_Non_elite)\n",
    "\n",
    "plt.tight_layout()\n",
    "plt.show()"
   ],
   "metadata": {
    "id": "l7YAhgMyqsQp"
   },
   "execution_count": null,
   "outputs": []
  },
  {
   "cell_type": "code",
   "source": [
    "# difference in terms of cost:\n",
    "\n",
    "diff = 0\n",
    "\n",
    "for mean_e, mean_n in zip(list_mean_elite, list_mean_N_elite):\n",
    "  delta = mean_e - mean_n\n",
    "  diff += delta\n",
    "\n",
    "print(f\"In terms of these 3 metrics, Students in elite universities pays ${round(diff,2)} more\")"
   ],
   "metadata": {
    "id": "v2uXuO6R-U4K"
   },
   "execution_count": null,
   "outputs": []
  },
  {
   "cell_type": "markdown",
   "source": [
    "Die Plots zeigen uns wie sich die durchschnittliche Ausgaben der Studenten in einer Elite und Non-Elite Universität unterscheiden. Zudem werden kostenbezogene Metriken wie **Wohnkosten**, **Vorlesungsbücher** und **Lebenhaltungskosten** in der Analyse gezogen. Es zeigt sich dass, im Durchschnitt Studierenden an einer eliten Hochschulen  **fast. $11.000 mehr für ihre Ausgaben während des Studium gezahlt haben** im Vergleich zu Studierenden im \"normalen\" Hochschulen. Die Mehrkosten könnten daran liegen, dass die eliten Unis sehr viel an Ihre Forschungseinrichtung und verschiedene Angeboten im Campus investieren. Es ist auch von unserer Interesse zu finden, ob die größere finanzielle Belastung zum Erfolg des Studiums beitragen könnte."
   ],
   "metadata": {
    "id": "m6t45P0P6648"
   }
  },
  {
   "cell_type": "code",
   "source": [
    "col =\"Grad.Rate\"\n",
    "\n",
    "plt.figure(figsize=(8,6))\n",
    "\n",
    "# Elite - histogram / axvline -\n",
    "plt.hist(College_data[College_data[\"Elite\"]==\"Yes\"][col], label=\"Elite\", alpha=0.7, density=True, color=\"green\")\n",
    "meanE_grad = College_data[College_data[\"Elite\"]==\"Yes\"][col].mean()\n",
    "plt.axvline(meanE_grad, linewidth=1, label=f\"Avg. Graduation Rate of Elite: {meanE_grad:.1f}%\", color=\"red\")\n",
    "\n",
    "# Non-Elite - histogram / axvline -\n",
    "plt.hist(College_data[College_data[\"Elite\"]==\"No\"][col], label=\"Non-Elite\", alpha=0.7, density=True, color=\"blue\")\n",
    "meanE_grad = College_data[College_data[\"Elite\"]==\"No\"][col].mean()\n",
    "plt.axvline(meanE_grad, linewidth=1, label=f\"Avg. Graduation Rate of Non-Elite: {meanE_grad:.1f}%\", color=\"black\")\n",
    "\n",
    "plt.ylabel(\"probability\")\n",
    "plt.xlabel(\"Graduation Rate\")\n",
    "plt.title(\"Graduation Rate Comparison of Elite and Non-Elite School\")\n",
    "plt.legend()\n",
    "plt.show()"
   ],
   "metadata": {
    "id": "znmOLgT5y7Oc"
   },
   "execution_count": null,
   "outputs": []
  },
  {
   "cell_type": "markdown",
   "source": [
    "Die Grafik zeigt deutlich, dass Studierende an Eliteuniversitäten ihr Studium eher abschließen."
   ],
   "metadata": {
    "id": "O494lS1Y6Up7"
   }
  },
  {
   "cell_type": "markdown",
   "source": [
    "#### 2.4.9 Auto Dataset"
   ],
   "metadata": {
    "id": "oX4WSVbDB43X"
   }
  },
  {
   "cell_type": "markdown",
   "source": [
    "##### Discrepancies"
   ],
   "metadata": {
    "id": "OO8yqBeEuU50"
   }
  },
  {
   "cell_type": "code",
   "source": [
    "###### (A)\n",
    "auto_df_p = load_data(\"Auto\")\n",
    "auto_df_p"
   ],
   "metadata": {
    "id": "rUOQShkUrKxK"
   },
   "execution_count": null,
   "outputs": []
  },
  {
   "cell_type": "code",
   "source": [
    "auto_df_w = pd.read_csv(\"/content/Auto.csv\")\n",
    "auto_df_w.head(5)"
   ],
   "metadata": {
    "id": "A4uQdqqcrWUg"
   },
   "execution_count": null,
   "outputs": []
  },
  {
   "cell_type": "code",
   "source": [
    "auto_df_w[\"name\"].value_counts()"
   ],
   "metadata": {
    "id": "oUtWi62Ctb8c"
   },
   "execution_count": null,
   "outputs": []
  },
  {
   "cell_type": "code",
   "source": [
    "auto_df_p[\"name\"].value_counts()"
   ],
   "metadata": {
    "id": "IBkiZAdntjv_"
   },
   "execution_count": null,
   "outputs": []
  },
  {
   "cell_type": "code",
   "source": [
    "# Indices present in df1 but not in df2\n",
    "missing_index_df1 = auto_df_p.index[~auto_df_p.index.isin(auto_df_w.index)].tolist()\n",
    "print(\"Missing indices in df1 :\", missing_index_df1)\n",
    "\n",
    "# Indices present in df2 but not in df1\n",
    "missing_index_df2 = auto_df_w.index[~auto_df_w.index.isin(auto_df_p.index)].tolist()\n",
    "print(\"Missing indices in df2 :\", missing_index_df2)"
   ],
   "metadata": {
    "id": "Xl_Bqm0mrs2_"
   },
   "execution_count": null,
   "outputs": []
  },
  {
   "cell_type": "markdown",
   "source": [
    "##### Exercise begin"
   ],
   "metadata": {
    "id": "IErp2QaYucky"
   }
  },
  {
   "cell_type": "code",
   "source": [
    "auto_df_w = pd.read_csv(\"/content/Auto.csv\")\n",
    "auto_df_w.head(5)"
   ],
   "metadata": {
    "id": "WbokoOWP0KE9"
   },
   "execution_count": null,
   "outputs": []
  },
  {
   "cell_type": "code",
   "source": [
    "## use auto_df_w\n",
    "auto_df_w.isna().sum()"
   ],
   "metadata": {
    "id": "Sr0RQnl5sXYC"
   },
   "execution_count": null,
   "outputs": []
  },
  {
   "cell_type": "code",
   "source": [
    "##### (A) Which one is the predictors of quantiative and qualitative?\n",
    "\n",
    "## quantitative columns\n",
    "quant_columns = auto_df_w.select_dtypes(include=np.number).columns.to_list()\n",
    "quant_columns"
   ],
   "metadata": {
    "id": "Monq8fqqu3CK"
   },
   "execution_count": null,
   "outputs": []
  },
  {
   "cell_type": "code",
   "source": [
    "# qualitative columns\n",
    "qual_columns = auto_df_w.select_dtypes(exclude=np.number).columns.to_list()\n",
    "qual_columns"
   ],
   "metadata": {
    "id": "YcptaJvfu5to"
   },
   "execution_count": null,
   "outputs": []
  },
  {
   "cell_type": "code",
   "source": [
    "##### (B) What is the range of each quantitative predictor?\n",
    "##### (C) What is the mean and standard deviation of each quantitative .max() predictor?\n",
    "\n",
    "quant_df = auto_df_w.select_dtypes(include=np.number)\n",
    "quant_df.describe().round(2)"
   ],
   "metadata": {
    "id": "uCuP5f3rveMP"
   },
   "execution_count": null,
   "outputs": []
  },
  {
   "cell_type": "code",
   "source": [
    "##### (C) Now remove the 10th through 85th observations. What is the range, mean, and standard deviation\n",
    "\n",
    "idx_drop = [i for i in range(10,86)]\n",
    "c_quant_df = quant_df.drop(idx_drop)"
   ],
   "metadata": {
    "id": "jQ5-4w19v0bI"
   },
   "execution_count": null,
   "outputs": []
  },
  {
   "cell_type": "code",
   "source": [
    "c_quant_df.describe().round(2)"
   ],
   "metadata": {
    "id": "8Ui3S6zYwg3g"
   },
   "execution_count": null,
   "outputs": []
  },
  {
   "cell_type": "code",
   "source": [
    "sns.pairplot(data=auto_df_w, hue=\"origin\", diag_kind=\"hist\")"
   ],
   "metadata": {
    "id": "olqVAalQxdRD"
   },
   "execution_count": null,
   "outputs": []
  },
  {
   "cell_type": "code",
   "source": [
    "x = [\"displacement\", \"weight\", \"acceleration\"]\n",
    "\n",
    "fig, ax = plt.subplots(nrows=1, ncols=3, figsize=(12,6))\n",
    "\n",
    "for i, col in enumerate(x):\n",
    "  sns.scatterplot(data=auto_df_w, x=col, y=\"mpg\", hue=\"origin\", ax=ax[i])\n",
    "  ax[i].set_title(f\"scatter plot of {col} and weight\")\n",
    "\n",
    "plt.tight_layout()\n",
    "plt.show()"
   ],
   "metadata": {
    "id": "t5QRB4Z7yTjs"
   },
   "execution_count": null,
   "outputs": []
  },
  {
   "cell_type": "code",
   "source": [
    "##### (f) MPG prediction using other variables. search for correlation\n",
    "num_autoDF = auto_df_w.select_dtypes(include=np.number)\n",
    "correlation = num_autoDF.corr()\n",
    "correlation[\"mpg\"].sort_values(ascending=False)"
   ],
   "metadata": {
    "id": "x6VjbKI2zcx4"
   },
   "execution_count": null,
   "outputs": []
  },
  {
   "cell_type": "markdown",
   "source": [
    "Fast alle Features haben einigermaßen bedeutsame Beziehung auf den Benzinverbrauch. Aus 6 Features, 3 Features haben negative während 3 andere haben positive Beziehung zum Zielparameter MPG"
   ],
   "metadata": {
    "id": "cec2emM22s8u"
   }
  },
  {
   "cell_type": "code",
   "source": [
    "X_2 = auto_df_w.columns.to_list()\n",
    "X_2.remove(\"mpg\")\n",
    "X_2.remove(\"name\")\n",
    "X_2.remove(\"cylinders\")\n",
    "X_2.remove(\"year\")\n",
    "X_2.remove(\"origin\")"
   ],
   "metadata": {
    "id": "7DfOupaS5-uZ"
   },
   "execution_count": null,
   "outputs": []
  },
  {
   "cell_type": "code",
   "source": [
    "fig, ax = plt.subplots(nrows=len(X_2), ncols=1, figsize=(8,18))\n",
    "\n",
    "for i, col in enumerate(X_2):\n",
    "  sns.scatterplot(data=auto_df_w, x=col, y=\"mpg\", hue=\"origin\", ax=ax[i])\n",
    "  ax[i].set_title(f\"Plot of {col} and Gas-milage\")\n",
    "  for label in ax[i].get_xticklabels():\n",
    "    label.set_rotation(45)\n",
    "\n",
    "plt.tight_layout()\n",
    "plt.show()\n",
    "\n",
    "#### which one to boxplots = cylinder, year, origin"
   ],
   "metadata": {
    "id": "l1jpdwvs3krJ"
   },
   "execution_count": null,
   "outputs": []
  },
  {
   "cell_type": "code",
   "source": [
    "box_cols = [\"cylinders\",\"year\",\"origin\"]"
   ],
   "metadata": {
    "id": "6cy1Y4-x8clG"
   },
   "execution_count": null,
   "outputs": []
  },
  {
   "cell_type": "code",
   "source": [
    "fig, ax = plt.subplots(nrows=len(box_cols), ncols=1, figsize=(8,21))\n",
    "\n",
    "for i, col in enumerate(box_cols):\n",
    "  sns.boxplot(data=auto_df_w, x=col, y=\"mpg\", hue=None, ax=ax[i])\n",
    "  ax[i].set_title(f\"Plot of {col} and Gas-milage\")\n",
    "  for label in ax[i].get_xticklabels():\n",
    "    label.set_rotation(45)\n",
    "\n",
    "plt.tight_layout()\n",
    "plt.show()\n",
    "\n",
    "#### which one to boxplots = cylinder, year, origin"
   ],
   "metadata": {
    "id": "hTJd5Xr53t8X"
   },
   "execution_count": null,
   "outputs": []
  },
  {
   "cell_type": "code",
   "source": [
    "import statsmodels.api as sm\n",
    "from statsmodels.stats.outliers_influence \\\n",
    "import variance_inflation_factor as VIF\n",
    "from statsmodels.stats.anova import anova_lm\n",
    "\n",
    "def split_input_output(data, output_cols):\n",
    "  input = data.drop(columns=output_cols)\n",
    "  output = data[output_cols]\n",
    "\n",
    "  print(f\"Input data has: {input.shape} shape\")\n",
    "  print(f\"Output data has: {output.shape} shape\")\n",
    "  return input, output"
   ],
   "metadata": {
    "id": "KGLm6CbeO9HS"
   },
   "execution_count": null,
   "outputs": []
  },
  {
   "cell_type": "code",
   "source": [
    "# splitting into input and output\n",
    "X, y = split_input_output(auto_df_w, \"mpg\")"
   ],
   "metadata": {
    "id": "nqAZHT2AO_kU"
   },
   "execution_count": null,
   "outputs": []
  },
  {
   "cell_type": "code",
   "source": [
    "## split into train test\n",
    "from sklearn.model_selection import train_test_split\n",
    "\n",
    "X_train, X_test, y_train, y_test = train_test_split(\n",
    "      X, y, test_size=0.2, random_state=42)"
   ],
   "metadata": {
    "id": "ghV94MKx3vf_"
   },
   "execution_count": null,
   "outputs": []
  },
  {
   "cell_type": "markdown",
   "source": [
    "#### Testing using ISLP libraries"
   ],
   "metadata": {
    "id": "xHD26SXsULd_"
   }
  },
  {
   "cell_type": "code",
   "source": [],
   "metadata": {
    "id": "ZA5x4iURPHXf"
   },
   "execution_count": null,
   "outputs": []
  },
  {
   "cell_type": "code",
   "source": [
    "list_cols = auto_df_w.columns.to_list()\n",
    "list_cols"
   ],
   "metadata": {
    "id": "nHRV1FqVWXgt"
   },
   "execution_count": null,
   "outputs": []
  },
  {
   "cell_type": "code",
   "source": [
    "X_a = auto_df_w[\"horsepower\"]\n",
    "y_a = auto_df_w[\"mpg\"]"
   ],
   "metadata": {
    "id": "xXMpM50owsI-"
   },
   "execution_count": null,
   "outputs": []
  },
  {
   "cell_type": "code",
   "source": [
    "print(type(X_a))"
   ],
   "metadata": {
    "id": "d8TAkEV72mDD"
   },
   "execution_count": null,
   "outputs": []
  },
  {
   "cell_type": "code",
   "source": [
    "def percent_question(series):\n",
    "    \"\"\"\n",
    "    Calculate the percentage of missing values in each column of a series.\n",
    "    \"\"\"\n",
    "    # catch missing value type na, None and \"\"\n",
    "    missing_values = series.eq(\"?\").sum()\n",
    "\n",
    "    if missing_values > 0:\n",
    "      clean_series = deepcopy(series)\n",
    "      idx_miss = series[series == '?'].index.to_list()\n",
    "      clean_series.drop(idx_miss, inplace=True)\n",
    "\n",
    "    else:\n",
    "      clean_series = deepcopy(series)\n",
    "\n",
    "    print(missing_values)\n",
    "    print(f\"before function series has: {series.shape}\")\n",
    "    print(f\"after function series has: {clean_series.shape}\")\n",
    "\n",
    "    return missing_values, clean_series\n",
    "\n"
   ],
   "metadata": {
    "id": "CowqkCl3yPef"
   },
   "execution_count": null,
   "outputs": []
  },
  {
   "cell_type": "code",
   "source": [
    "MissVal_X , X_clean = percent_question(X_a)\n",
    "print(\"\")\n",
    "MissVal_y, y_clean = percent_question(y_a)"
   ],
   "metadata": {
    "id": "eryZO8r5zS46"
   },
   "execution_count": null,
   "outputs": []
  },
  {
   "cell_type": "code",
   "source": [
    "auto = pd.read_csv('/content/Auto.csv', index_col='name', na_values=['?'])\n",
    "auto.dropna(inplace=True)\n",
    "auto.head()"
   ],
   "metadata": {
    "id": "y1wJw7Lf7eOb"
   },
   "execution_count": null,
   "outputs": []
  },
  {
   "cell_type": "code",
   "source": [
    "x_a = sm.add_constant(auto['horsepower'])\n",
    "y_a = auto['mpg']\n",
    "\n",
    "linear_model = sm.OLS(y_a, x_a).fit()\n",
    "linear_model.summary()"
   ],
   "metadata": {
    "id": "aUTzY6Um7JGg"
   },
   "execution_count": null,
   "outputs": []
  },
  {
   "cell_type": "code",
   "source": [],
   "metadata": {
    "id": "xRlVgOG9cy-v"
   },
   "execution_count": null,
   "outputs": []
  },
  {
   "cell_type": "markdown",
   "source": [
    "#### Boston Dataset"
   ],
   "metadata": {
    "id": "xphHi2Sh4gTa"
   }
  },
  {
   "cell_type": "code",
   "source": [
    "boston_df = load_data(\"Boston\")\n",
    "boston_df"
   ],
   "metadata": {
    "id": "EKWACIr78x8w"
   },
   "execution_count": null,
   "outputs": []
  },
  {
   "cell_type": "code",
   "source": [
    "boston_df_w = pd.read_csv(\"/content/Boston.csv\")\n",
    "boston_df_w"
   ],
   "metadata": {
    "id": "YYotYQ47-aXj"
   },
   "execution_count": null,
   "outputs": []
  },
  {
   "cell_type": "code",
   "source": [],
   "metadata": {
    "id": "WlGUaHnF-l7r"
   },
   "execution_count": null,
   "outputs": []
  },
  {
   "cell_type": "code",
   "source": [],
   "metadata": {
    "id": "kUXUF-cpfJvq"
   },
   "execution_count": null,
   "outputs": []
  },
  {
   "cell_type": "code",
   "source": [],
   "metadata": {
    "id": "1e08F6GQfJtI"
   },
   "execution_count": null,
   "outputs": []
  },
  {
   "cell_type": "markdown",
   "source": [
    "## Chapter 3: Linear Regression\n",
    "---"
   ],
   "metadata": {
    "id": "GQqhROdVfKNE"
   }
  },
  {
   "cell_type": "markdown",
   "source": [
    "#### Applied Question. / Lab Linear Regression"
   ],
   "metadata": {
    "id": "2eOBnITLf7OL"
   }
  },
  {
   "cell_type": "markdown",
   "source": [
    "3.7.8 This question involves the use of simple linear regression on the Auto\n",
    "data set.\n",
    "\n",
    "(a) Use the sm.OLS() function to perform a simple linear regression\n",
    "with mpg as the response and horsepower as the predictor. Use\n",
    "the summarize() function to print the results. Comment on the\n",
    "output. For example:\n",
    "\n",
    "1.   Is there a relationship between the predictor and the response?\n",
    "2.   How strong is the relationship between the predictor and\n",
    "the response?\n",
    "3.   Is the relationship between the predictor and the response\n",
    "positive or negative?\n",
    "4.  What is the predicted mpg associated with a horsepower of\n",
    "98? What are the associated 95 % confidence and prediction\n",
    "intervals?\n",
    "\n",
    "(b) Plot the response and the predictor in a new set of axes ax. Use\n",
    "the ax.axline() method or the abline() function defined in the\n",
    "lab to display the least squares regression line.\n",
    "\n",
    "(c) Produce some of diagnostic plots of the least squares regression\n",
    "fit as described in the lab. Comment on any problems you see\n",
    "with the fit."
   ],
   "metadata": {
    "id": "QLMA6wumgCfd"
   }
  },
  {
   "cell_type": "markdown",
   "source": [
    "##### **processing continuation from 2.8 Auto Dataset**"
   ],
   "metadata": {
    "id": "ZZMvcfFrgrXG"
   }
  },
  {
   "cell_type": "code",
   "source": [
    "auto_df = pd.read_csv(\"/content/Auto.csv\")\n",
    "auto_df.head(5)"
   ],
   "metadata": {
    "id": "6VcnjgnEg4P-"
   },
   "execution_count": null,
   "outputs": []
  },
  {
   "cell_type": "code",
   "source": [
    "## use auto_df_w\n",
    "auto_df.isna().sum()"
   ],
   "metadata": {
    "id": "usXRW36Hg4P-"
   },
   "execution_count": null,
   "outputs": []
  },
  {
   "cell_type": "code",
   "source": [
    "##### (A) Which one is the predictors of quantiative and qualitative?\n",
    "\n",
    "## quantitative columns\n",
    "quant_columns = auto_df.select_dtypes(include=np.number).columns.to_list()\n",
    "quant_columns"
   ],
   "metadata": {
    "id": "A0rnkNFPg4P-"
   },
   "execution_count": null,
   "outputs": []
  },
  {
   "cell_type": "code",
   "source": [
    "# qualitative columns\n",
    "qual_columns = auto_df.select_dtypes(exclude=np.number).columns.to_list()\n",
    "qual_columns"
   ],
   "metadata": {
    "id": "2WRNkVTwg4P_"
   },
   "execution_count": null,
   "outputs": []
  },
  {
   "cell_type": "code",
   "source": [
    "##### (B) What is the range of each quantitative predictor?\n",
    "##### (C) What is the mean and standard deviation of each quantitative .max() predictor?\n",
    "\n",
    "quant_df = auto_df.select_dtypes(include=np.number)\n",
    "quant_df.describe().round(2)"
   ],
   "metadata": {
    "id": "uTnMoU87g4P_"
   },
   "execution_count": null,
   "outputs": []
  },
  {
   "cell_type": "code",
   "source": [
    "##### (C) Now remove the 10th through 85th observations. What is the range, mean, and standard deviation\n",
    "\n",
    "idx_drop = [i for i in range(10,86)]\n",
    "c_quant_df = quant_df.drop(idx_drop)"
   ],
   "metadata": {
    "id": "pCCYlnQkg4P_"
   },
   "execution_count": null,
   "outputs": []
  },
  {
   "cell_type": "code",
   "source": [
    "c_quant_df.describe().round(2)"
   ],
   "metadata": {
    "id": "YZOteE3pg4P_"
   },
   "execution_count": null,
   "outputs": []
  },
  {
   "cell_type": "code",
   "source": [
    "sns.pairplot(data=auto_df, hue=\"origin\", diag_kind=\"hist\")"
   ],
   "metadata": {
    "id": "kAN6tcVKg4P_"
   },
   "execution_count": null,
   "outputs": []
  },
  {
   "cell_type": "code",
   "source": [
    "x = [\"displacement\", \"weight\", \"acceleration\"]\n",
    "\n",
    "fig, ax = plt.subplots(nrows=1, ncols=3, figsize=(12,6))\n",
    "\n",
    "for i, col in enumerate(x):\n",
    "  sns.scatterplot(data=auto_df, x=col, y=\"mpg\", hue=\"origin\", ax=ax[i])\n",
    "  ax[i].set_title(f\"scatter plot of {col} and weight\")\n",
    "\n",
    "plt.tight_layout()\n",
    "plt.show()"
   ],
   "metadata": {
    "id": "sF23GbBrg4P_"
   },
   "execution_count": null,
   "outputs": []
  },
  {
   "cell_type": "code",
   "source": [
    "##### (f) MPG prediction using other variables. search for correlation\n",
    "num_autoDF = auto_df.select_dtypes(include=np.number)\n",
    "correlation = num_autoDF.corr()\n",
    "correlation[\"mpg\"].sort_values(ascending=False)"
   ],
   "metadata": {
    "id": "YUKP7i6gg4P_"
   },
   "execution_count": null,
   "outputs": []
  },
  {
   "cell_type": "markdown",
   "source": [
    "Fast alle Features haben einigermaßen bedeutsame Beziehung auf den Benzinverbrauch. Aus 6 Features, 3 Features haben negative während 3 andere haben positive Beziehung zum Zielparameter MPG"
   ],
   "metadata": {
    "id": "Rfi3K7Wkg4P_"
   }
  },
  {
   "cell_type": "code",
   "source": [
    "X_2 = auto_df.columns.to_list()\n",
    "X_2.remove(\"mpg\")\n",
    "X_2.remove(\"name\")\n",
    "X_2.remove(\"cylinders\")\n",
    "X_2.remove(\"year\")\n",
    "X_2.remove(\"origin\")"
   ],
   "metadata": {
    "id": "sTBHAWx-g4P_"
   },
   "execution_count": null,
   "outputs": []
  },
  {
   "cell_type": "code",
   "source": [
    "fig, ax = plt.subplots(nrows=len(X_2), ncols=1, figsize=(8,18))\n",
    "\n",
    "for i, col in enumerate(X_2):\n",
    "  sns.scatterplot(data=auto_df, x=col, y=\"mpg\", hue=\"origin\", ax=ax[i])\n",
    "  ax[i].set_title(f\"Plot of {col} and Gas-milage\")\n",
    "  for label in ax[i].get_xticklabels():\n",
    "    label.set_rotation(45)\n",
    "\n",
    "plt.tight_layout()\n",
    "plt.show()\n",
    "\n",
    "#### which one to boxplots = cylinder, year, origin"
   ],
   "metadata": {
    "id": "eY7ZPv0mg4QA"
   },
   "execution_count": null,
   "outputs": []
  },
  {
   "cell_type": "code",
   "source": [
    "box_cols = [\"cylinders\",\"year\",\"origin\"]"
   ],
   "metadata": {
    "id": "xL3o2ru5g4QA"
   },
   "execution_count": null,
   "outputs": []
  },
  {
   "cell_type": "code",
   "source": [
    "fig, ax = plt.subplots(nrows=len(box_cols), ncols=1, figsize=(8,21))\n",
    "\n",
    "for i, col in enumerate(box_cols):\n",
    "  sns.boxplot(data=auto_df, x=col, y=\"mpg\", hue=None, ax=ax[i])\n",
    "  ax[i].set_title(f\"Plot of {col} and Gas-milage\")\n",
    "  for label in ax[i].get_xticklabels():\n",
    "    label.set_rotation(45)\n",
    "\n",
    "plt.tight_layout()\n",
    "plt.show()\n",
    "\n",
    "#### which one to boxplots = cylinder, year, origin"
   ],
   "metadata": {
    "id": "ADmZFE69g4QA"
   },
   "execution_count": null,
   "outputs": []
  },
  {
   "cell_type": "markdown",
   "source": [
    "##### Exercise 3.7.8 Begin"
   ],
   "metadata": {
    "id": "xTYC8Nw7hIhf"
   }
  },
  {
   "cell_type": "code",
   "source": [
    "list_cols = auto_df.columns.to_list()\n",
    "list_cols"
   ],
   "metadata": {
    "id": "rfBYsbBlfKNE"
   },
   "execution_count": null,
   "outputs": []
  },
  {
   "cell_type": "code",
   "source": [
    "X_a = auto_df[\"horsepower\"]\n",
    "y_a = auto_df[\"mpg\"]"
   ],
   "metadata": {
    "id": "mEEVORGqfKNF"
   },
   "execution_count": null,
   "outputs": []
  },
  {
   "cell_type": "code",
   "source": [
    "auto_df.info()"
   ],
   "metadata": {
    "id": "l4MGNUnafKNF"
   },
   "execution_count": null,
   "outputs": []
  },
  {
   "cell_type": "markdown",
   "source": [
    "horsepower has an object Dtype, which means their values are not purely numerical. We have to investigate"
   ],
   "metadata": {
    "id": "i5SvtWRwiKq7"
   }
  },
  {
   "cell_type": "code",
   "source": [
    "X_a.sort_values().tail(20)"
   ],
   "metadata": {
    "id": "1iOlv0QVim7P"
   },
   "execution_count": null,
   "outputs": []
  },
  {
   "cell_type": "markdown",
   "source": [
    "some observation have some missing values which are noted with \"?\" lets clean this data first before processing"
   ],
   "metadata": {
    "id": "K4l_13RdjD-H"
   }
  },
  {
   "cell_type": "code",
   "source": [
    "def percent_question(series):\n",
    "    \"\"\"\n",
    "    Calculate the percentage of missing values in each column of a series.\n",
    "    \"\"\"\n",
    "    # catch missing value type na, None and \"\"\n",
    "    missing_values = series.eq(\"?\").sum()\n",
    "\n",
    "    if missing_values > 0:\n",
    "      clean_series = deepcopy(series)\n",
    "      idx_miss = series[series == '?'].index.to_list()\n",
    "      clean_series.drop(idx_miss, inplace=True)\n",
    "      clean_series = clean_series.astype(float, errors='ignore')\n",
    "\n",
    "    else:\n",
    "      clean_series = series\n",
    "\n",
    "    print(f\"{missing_values} missing values\")\n",
    "    print(f\"before function series has: {series.shape}\")\n",
    "    print(f\"after function series has: {clean_series.shape}\")\n",
    "\n",
    "    return missing_values, clean_series\n",
    "\n",
    "def match_series(x_series, y_series):\n",
    "    # Check if lengths are not equal\n",
    "    if len(x_series) != len(y_series):\n",
    "         # Shorter series is y_series, so trim x_series\n",
    "        if len(x_series) > len(y_series):\n",
    "            x_series = x_series[x_series.index.isin(y_series.index)]\n",
    "        else:\n",
    "            # Shorter series is x_series, so trim y_series\n",
    "            y_series = y_series[y_series.index.isin(x_series.index)]\n",
    "    print(x_series.shape)\n",
    "    print(y_series.shape)\n",
    "    return x_series, y_series\n"
   ],
   "metadata": {
    "id": "U9wceiD2fKNF"
   },
   "execution_count": null,
   "outputs": []
  },
  {
   "cell_type": "code",
   "source": [
    "MissVal_X , X_clean = percent_question(X_a)\n",
    "print(\"\")\n",
    "MissVal_y, y_clean = percent_question(y_a)"
   ],
   "metadata": {
    "id": "Ky9HcphNfKNF"
   },
   "execution_count": null,
   "outputs": []
  },
  {
   "cell_type": "code",
   "source": [
    "X_clean, y_clean = match_series(X_clean, y_clean)"
   ],
   "metadata": {
    "id": "9VJVVXuvqcbl"
   },
   "execution_count": null,
   "outputs": []
  },
  {
   "cell_type": "code",
   "source": [
    "df_combine38 = pd.concat([X_clean, y_clean], axis=1)\n",
    "df_combine38.reset_index(inplace=True, drop=True)\n",
    "df_combine38.head(5)"
   ],
   "metadata": {
    "id": "fbkNAGf-lBP9"
   },
   "execution_count": null,
   "outputs": []
  },
  {
   "cell_type": "code",
   "source": [
    "sns.scatterplot(data=df_combine38, x=\"horsepower\", y=\"mpg\")"
   ],
   "metadata": {
    "id": "KwiIKqIMl93G"
   },
   "execution_count": null,
   "outputs": []
  },
  {
   "cell_type": "code",
   "source": [
    "linear_model = sm.OLS(y_clean, X_clean).fit()\n",
    "print(linear_model.summary())"
   ],
   "metadata": {
    "id": "DxqW8ILpmQEE"
   },
   "execution_count": null,
   "outputs": []
  },
  {
   "cell_type": "markdown",
   "source": [
    "Based on the model summary, there are several points we can conclude:\n",
    "\n",
    "1.   Is there a relationship between the predictor and the response?\n",
    "\n",
    "**Strong Relationship Between Variables**: The R-squared value of 0.649 suggests that about 64.9% of the variability in the dependent variable is explained by the independent variable, horsepower. This is a relatively strong relationship, indicating that horsepower is a significant predictor of mpg. Additionally, The very small p-value associated with the F-statistic (5.67e-91) confirms that the model as a whole is statistically significant.\n",
    "\n",
    "\n",
    "2.    How strong is the relationship between the predictor and the response?\n",
    "\n",
    "-- This is the correct answer -- the coefficient above shows a positive correlation which is false. The following answer is correct:\n",
    "\n",
    "For a unit increase in horsepower, **our model predicts mpg will decrease by -0.1578**. So for example, increasing horsepower by 10 is expected to decrease efficiency by -1.578 mpg."
   ],
   "metadata": {
    "id": "_22S23gffKNF"
   }
  },
  {
   "cell_type": "code",
   "source": [
    " ###\n",
    "\"\"\"\n",
    "4.  What is the predicted mpg associated with a horsepower of 98? What are the associated 95 % confidence and prediction intervals?\n",
    "\"\"\"\n",
    "## prediction using sklearn\n",
    "from sklearn.linear_model import LinearRegression\n",
    "\n",
    "lr = LinearRegression(fit_intercept=True)\n",
    "\n",
    "x = X_clean.reshape(-1,1)\n",
    "y = y_clean.ravel()\n",
    "\n",
    "#print(f\"{x.shape} : x shape\")\n",
    "#print(f\"{y.shape} : y shape\")\n",
    "\n",
    "lr.fit(x, y)"
   ],
   "metadata": {
    "id": "WPw2v2xS2y1U"
   },
   "execution_count": null,
   "outputs": []
  },
  {
   "cell_type": "code",
   "source": [
    "## prediction\n",
    "hp_value = np.array([[98]])\n",
    "mpg_pred = lr.predict(hp_value)\n",
    "print(f\"with 98 horsepower, our model predicted a {np.round(mpg_pred, decimals=2)} mpg value\")"
   ],
   "metadata": {
    "id": "CvRiTkbZLAAu"
   },
   "execution_count": null,
   "outputs": []
  },
  {
   "cell_type": "markdown",
   "source": [
    "### (b) Plot the response and the predictor in a new set of axes ax. Use the **ax.axline()** method or the **abline()** function defined in the lab to display the least squares regression line."
   ],
   "metadata": {
    "id": "7PwBTVavLaSd"
   }
  },
  {
   "cell_type": "code",
   "execution_count": null,
   "outputs": [],
   "source": [],
   "metadata": {
    "collapsed": false
   }
  }
 ]
}
